{
 "cells": [
  {
   "cell_type": "code",
   "execution_count": 281,
   "id": "d5695869",
   "metadata": {},
   "outputs": [],
   "source": [
    "import pandas as pd\n",
    "import numpy as np\n",
    "import pickle\n",
    "import matplotlib.pyplot as plt\n",
    "from sklearn.datasets import load_diabetes\n",
    "from sklearn.preprocessing import StandardScaler\n",
    "from sklearn.model_selection import train_test_split, cross_val_score\n",
    "from sklearn.linear_model import LinearRegression\n",
    "from sklearn.metrics import mean_squared_error\n",
    "from sklearn.tree import DecisionTreeRegressor\n",
    "from sklearn.ensemble import RandomForestRegressor\n",
    "from sklearn.model_selection import GridSearchCV\n",
    "import seaborn as sns"
   ]
  },
  {
   "cell_type": "markdown",
   "id": "2a39741d",
   "metadata": {},
   "source": [
    "# Part 1"
   ]
  },
  {
   "cell_type": "markdown",
   "id": "89d37cd3",
   "metadata": {},
   "source": [
    "### Loading Data"
   ]
  },
  {
   "cell_type": "code",
   "execution_count": 282,
   "id": "7987cf45",
   "metadata": {},
   "outputs": [
    {
     "name": "stdout",
     "output_type": "stream",
     "text": [
      ".. _diabetes_dataset:\n",
      "\n",
      "Diabetes dataset\n",
      "----------------\n",
      "\n",
      "Ten baseline variables, age, sex, body mass index, average blood\n",
      "pressure, and six blood serum measurements were obtained for each of n =\n",
      "442 diabetes patients, as well as the response of interest, a\n",
      "quantitative measure of disease progression one year after baseline.\n",
      "\n",
      "**Data Set Characteristics:**\n",
      "\n",
      "  :Number of Instances: 442\n",
      "\n",
      "  :Number of Attributes: First 10 columns are numeric predictive values\n",
      "\n",
      "  :Target: Column 11 is a quantitative measure of disease progression one year after baseline\n",
      "\n",
      "  :Attribute Information:\n",
      "      - age     age in years\n",
      "      - sex\n",
      "      - bmi     body mass index\n",
      "      - bp      average blood pressure\n",
      "      - s1      tc, T-Cells (a type of white blood cells)\n",
      "      - s2      ldl, low-density lipoproteins\n",
      "      - s3      hdl, high-density lipoproteins\n",
      "      - s4      tch, thyroid stimulating hormone\n",
      "      - s5      ltg, lamotrigine\n",
      "      - s6      glu, blood sugar level\n",
      "\n",
      "Note: Each of these 10 feature variables have been mean centered and scaled by the standard deviation times `n_samples` (i.e. the sum of squares of each column totals 1).\n",
      "\n",
      "Source URL:\n",
      "https://www4.stat.ncsu.edu/~boos/var.select/diabetes.html\n",
      "\n",
      "For more information see:\n",
      "Bradley Efron, Trevor Hastie, Iain Johnstone and Robert Tibshirani (2004) \"Least Angle Regression,\" Annals of Statistics (with discussion), 407-499.\n",
      "(https://web.stanford.edu/~hastie/Papers/LARS/LeastAngle_2002.pdf)\n"
     ]
    }
   ],
   "source": [
    "load = load_diabetes(as_frame=True)\n",
    "print(load.DESCR)"
   ]
  },
  {
   "cell_type": "markdown",
   "id": "62580f61",
   "metadata": {},
   "source": [
    "### Create Dataframe, add target"
   ]
  },
  {
   "cell_type": "code",
   "execution_count": 283,
   "id": "076b7ee4",
   "metadata": {},
   "outputs": [
    {
     "data": {
      "text/html": [
       "<div>\n",
       "<style scoped>\n",
       "    .dataframe tbody tr th:only-of-type {\n",
       "        vertical-align: middle;\n",
       "    }\n",
       "\n",
       "    .dataframe tbody tr th {\n",
       "        vertical-align: top;\n",
       "    }\n",
       "\n",
       "    .dataframe thead th {\n",
       "        text-align: right;\n",
       "    }\n",
       "</style>\n",
       "<table border=\"1\" class=\"dataframe\">\n",
       "  <thead>\n",
       "    <tr style=\"text-align: right;\">\n",
       "      <th></th>\n",
       "      <th>age</th>\n",
       "      <th>sex</th>\n",
       "      <th>bmi</th>\n",
       "      <th>bp</th>\n",
       "      <th>s1</th>\n",
       "      <th>s2</th>\n",
       "      <th>s3</th>\n",
       "      <th>s4</th>\n",
       "      <th>s5</th>\n",
       "      <th>s6</th>\n",
       "      <th>progression</th>\n",
       "    </tr>\n",
       "  </thead>\n",
       "  <tbody>\n",
       "    <tr>\n",
       "      <th>424</th>\n",
       "      <td>0.001751</td>\n",
       "      <td>0.050680</td>\n",
       "      <td>0.011039</td>\n",
       "      <td>-0.019442</td>\n",
       "      <td>-0.016704</td>\n",
       "      <td>-0.003819</td>\n",
       "      <td>-0.047082</td>\n",
       "      <td>0.034309</td>\n",
       "      <td>0.024053</td>\n",
       "      <td>0.023775</td>\n",
       "      <td>111.0</td>\n",
       "    </tr>\n",
       "    <tr>\n",
       "      <th>300</th>\n",
       "      <td>0.016281</td>\n",
       "      <td>-0.044642</td>\n",
       "      <td>0.073552</td>\n",
       "      <td>-0.041247</td>\n",
       "      <td>-0.004321</td>\n",
       "      <td>-0.013527</td>\n",
       "      <td>-0.013948</td>\n",
       "      <td>-0.001116</td>\n",
       "      <td>0.042896</td>\n",
       "      <td>0.044485</td>\n",
       "      <td>275.0</td>\n",
       "    </tr>\n",
       "    <tr>\n",
       "      <th>190</th>\n",
       "      <td>0.009016</td>\n",
       "      <td>-0.044642</td>\n",
       "      <td>-0.012673</td>\n",
       "      <td>0.028758</td>\n",
       "      <td>-0.018080</td>\n",
       "      <td>-0.005072</td>\n",
       "      <td>-0.047082</td>\n",
       "      <td>0.034309</td>\n",
       "      <td>0.023375</td>\n",
       "      <td>-0.005220</td>\n",
       "      <td>292.0</td>\n",
       "    </tr>\n",
       "  </tbody>\n",
       "</table>\n",
       "</div>"
      ],
      "text/plain": [
       "          age       sex       bmi        bp        s1        s2        s3  \\\n",
       "424  0.001751  0.050680  0.011039 -0.019442 -0.016704 -0.003819 -0.047082   \n",
       "300  0.016281 -0.044642  0.073552 -0.041247 -0.004321 -0.013527 -0.013948   \n",
       "190  0.009016 -0.044642 -0.012673  0.028758 -0.018080 -0.005072 -0.047082   \n",
       "\n",
       "           s4        s5        s6  progression  \n",
       "424  0.034309  0.024053  0.023775        111.0  \n",
       "300 -0.001116  0.042896  0.044485        275.0  \n",
       "190  0.034309  0.023375 -0.005220        292.0  "
      ]
     },
     "execution_count": 283,
     "metadata": {},
     "output_type": "execute_result"
    }
   ],
   "source": [
    "diabetes_df = pd.DataFrame(load.data)\n",
    "diabetes_df['progression'] = np.array(load.target)\n",
    "diabetes_df.sample(3)"
   ]
  },
  {
   "cell_type": "markdown",
   "id": "b827a8e5",
   "metadata": {},
   "source": [
    "### Data types and missing data"
   ]
  },
  {
   "cell_type": "code",
   "execution_count": 284,
   "id": "54e3de8a",
   "metadata": {},
   "outputs": [
    {
     "name": "stdout",
     "output_type": "stream",
     "text": [
      "<class 'pandas.core.frame.DataFrame'>\n",
      "RangeIndex: 442 entries, 0 to 441\n",
      "Data columns (total 11 columns):\n",
      " #   Column       Non-Null Count  Dtype  \n",
      "---  ------       --------------  -----  \n",
      " 0   age          442 non-null    float64\n",
      " 1   sex          442 non-null    float64\n",
      " 2   bmi          442 non-null    float64\n",
      " 3   bp           442 non-null    float64\n",
      " 4   s1           442 non-null    float64\n",
      " 5   s2           442 non-null    float64\n",
      " 6   s3           442 non-null    float64\n",
      " 7   s4           442 non-null    float64\n",
      " 8   s5           442 non-null    float64\n",
      " 9   s6           442 non-null    float64\n",
      " 10  progression  442 non-null    float64\n",
      "dtypes: float64(11)\n",
      "memory usage: 38.1 KB\n"
     ]
    }
   ],
   "source": [
    "diabetes_df.info()"
   ]
  },
  {
   "cell_type": "markdown",
   "id": "79e999d7",
   "metadata": {},
   "source": [
    "### Describe Dataframe"
   ]
  },
  {
   "cell_type": "code",
   "execution_count": 285,
   "id": "5cf78148",
   "metadata": {},
   "outputs": [
    {
     "data": {
      "text/html": [
       "<div>\n",
       "<style scoped>\n",
       "    .dataframe tbody tr th:only-of-type {\n",
       "        vertical-align: middle;\n",
       "    }\n",
       "\n",
       "    .dataframe tbody tr th {\n",
       "        vertical-align: top;\n",
       "    }\n",
       "\n",
       "    .dataframe thead th {\n",
       "        text-align: right;\n",
       "    }\n",
       "</style>\n",
       "<table border=\"1\" class=\"dataframe\">\n",
       "  <thead>\n",
       "    <tr style=\"text-align: right;\">\n",
       "      <th></th>\n",
       "      <th>age</th>\n",
       "      <th>sex</th>\n",
       "      <th>bmi</th>\n",
       "      <th>bp</th>\n",
       "      <th>s1</th>\n",
       "      <th>s2</th>\n",
       "      <th>s3</th>\n",
       "      <th>s4</th>\n",
       "      <th>s5</th>\n",
       "      <th>s6</th>\n",
       "      <th>progression</th>\n",
       "    </tr>\n",
       "  </thead>\n",
       "  <tbody>\n",
       "    <tr>\n",
       "      <th>count</th>\n",
       "      <td>4.420000e+02</td>\n",
       "      <td>4.420000e+02</td>\n",
       "      <td>4.420000e+02</td>\n",
       "      <td>4.420000e+02</td>\n",
       "      <td>4.420000e+02</td>\n",
       "      <td>4.420000e+02</td>\n",
       "      <td>4.420000e+02</td>\n",
       "      <td>4.420000e+02</td>\n",
       "      <td>4.420000e+02</td>\n",
       "      <td>4.420000e+02</td>\n",
       "      <td>442.000000</td>\n",
       "    </tr>\n",
       "    <tr>\n",
       "      <th>mean</th>\n",
       "      <td>-3.634285e-16</td>\n",
       "      <td>1.308343e-16</td>\n",
       "      <td>-8.045349e-16</td>\n",
       "      <td>1.281655e-16</td>\n",
       "      <td>-8.835316e-17</td>\n",
       "      <td>1.327024e-16</td>\n",
       "      <td>-4.574646e-16</td>\n",
       "      <td>3.777301e-16</td>\n",
       "      <td>-3.830854e-16</td>\n",
       "      <td>-3.412882e-16</td>\n",
       "      <td>152.133484</td>\n",
       "    </tr>\n",
       "    <tr>\n",
       "      <th>std</th>\n",
       "      <td>4.761905e-02</td>\n",
       "      <td>4.761905e-02</td>\n",
       "      <td>4.761905e-02</td>\n",
       "      <td>4.761905e-02</td>\n",
       "      <td>4.761905e-02</td>\n",
       "      <td>4.761905e-02</td>\n",
       "      <td>4.761905e-02</td>\n",
       "      <td>4.761905e-02</td>\n",
       "      <td>4.761905e-02</td>\n",
       "      <td>4.761905e-02</td>\n",
       "      <td>77.093005</td>\n",
       "    </tr>\n",
       "    <tr>\n",
       "      <th>min</th>\n",
       "      <td>-1.072256e-01</td>\n",
       "      <td>-4.464164e-02</td>\n",
       "      <td>-9.027530e-02</td>\n",
       "      <td>-1.123996e-01</td>\n",
       "      <td>-1.267807e-01</td>\n",
       "      <td>-1.156131e-01</td>\n",
       "      <td>-1.023071e-01</td>\n",
       "      <td>-7.639450e-02</td>\n",
       "      <td>-1.260974e-01</td>\n",
       "      <td>-1.377672e-01</td>\n",
       "      <td>25.000000</td>\n",
       "    </tr>\n",
       "    <tr>\n",
       "      <th>25%</th>\n",
       "      <td>-3.729927e-02</td>\n",
       "      <td>-4.464164e-02</td>\n",
       "      <td>-3.422907e-02</td>\n",
       "      <td>-3.665645e-02</td>\n",
       "      <td>-3.424784e-02</td>\n",
       "      <td>-3.035840e-02</td>\n",
       "      <td>-3.511716e-02</td>\n",
       "      <td>-3.949338e-02</td>\n",
       "      <td>-3.324879e-02</td>\n",
       "      <td>-3.317903e-02</td>\n",
       "      <td>87.000000</td>\n",
       "    </tr>\n",
       "    <tr>\n",
       "      <th>50%</th>\n",
       "      <td>5.383060e-03</td>\n",
       "      <td>-4.464164e-02</td>\n",
       "      <td>-7.283766e-03</td>\n",
       "      <td>-5.670611e-03</td>\n",
       "      <td>-4.320866e-03</td>\n",
       "      <td>-3.819065e-03</td>\n",
       "      <td>-6.584468e-03</td>\n",
       "      <td>-2.592262e-03</td>\n",
       "      <td>-1.947634e-03</td>\n",
       "      <td>-1.077698e-03</td>\n",
       "      <td>140.500000</td>\n",
       "    </tr>\n",
       "    <tr>\n",
       "      <th>75%</th>\n",
       "      <td>3.807591e-02</td>\n",
       "      <td>5.068012e-02</td>\n",
       "      <td>3.124802e-02</td>\n",
       "      <td>3.564384e-02</td>\n",
       "      <td>2.835801e-02</td>\n",
       "      <td>2.984439e-02</td>\n",
       "      <td>2.931150e-02</td>\n",
       "      <td>3.430886e-02</td>\n",
       "      <td>3.243323e-02</td>\n",
       "      <td>2.791705e-02</td>\n",
       "      <td>211.500000</td>\n",
       "    </tr>\n",
       "    <tr>\n",
       "      <th>max</th>\n",
       "      <td>1.107267e-01</td>\n",
       "      <td>5.068012e-02</td>\n",
       "      <td>1.705552e-01</td>\n",
       "      <td>1.320442e-01</td>\n",
       "      <td>1.539137e-01</td>\n",
       "      <td>1.987880e-01</td>\n",
       "      <td>1.811791e-01</td>\n",
       "      <td>1.852344e-01</td>\n",
       "      <td>1.335990e-01</td>\n",
       "      <td>1.356118e-01</td>\n",
       "      <td>346.000000</td>\n",
       "    </tr>\n",
       "  </tbody>\n",
       "</table>\n",
       "</div>"
      ],
      "text/plain": [
       "                age           sex           bmi            bp            s1  \\\n",
       "count  4.420000e+02  4.420000e+02  4.420000e+02  4.420000e+02  4.420000e+02   \n",
       "mean  -3.634285e-16  1.308343e-16 -8.045349e-16  1.281655e-16 -8.835316e-17   \n",
       "std    4.761905e-02  4.761905e-02  4.761905e-02  4.761905e-02  4.761905e-02   \n",
       "min   -1.072256e-01 -4.464164e-02 -9.027530e-02 -1.123996e-01 -1.267807e-01   \n",
       "25%   -3.729927e-02 -4.464164e-02 -3.422907e-02 -3.665645e-02 -3.424784e-02   \n",
       "50%    5.383060e-03 -4.464164e-02 -7.283766e-03 -5.670611e-03 -4.320866e-03   \n",
       "75%    3.807591e-02  5.068012e-02  3.124802e-02  3.564384e-02  2.835801e-02   \n",
       "max    1.107267e-01  5.068012e-02  1.705552e-01  1.320442e-01  1.539137e-01   \n",
       "\n",
       "                 s2            s3            s4            s5            s6  \\\n",
       "count  4.420000e+02  4.420000e+02  4.420000e+02  4.420000e+02  4.420000e+02   \n",
       "mean   1.327024e-16 -4.574646e-16  3.777301e-16 -3.830854e-16 -3.412882e-16   \n",
       "std    4.761905e-02  4.761905e-02  4.761905e-02  4.761905e-02  4.761905e-02   \n",
       "min   -1.156131e-01 -1.023071e-01 -7.639450e-02 -1.260974e-01 -1.377672e-01   \n",
       "25%   -3.035840e-02 -3.511716e-02 -3.949338e-02 -3.324879e-02 -3.317903e-02   \n",
       "50%   -3.819065e-03 -6.584468e-03 -2.592262e-03 -1.947634e-03 -1.077698e-03   \n",
       "75%    2.984439e-02  2.931150e-02  3.430886e-02  3.243323e-02  2.791705e-02   \n",
       "max    1.987880e-01  1.811791e-01  1.852344e-01  1.335990e-01  1.356118e-01   \n",
       "\n",
       "       progression  \n",
       "count   442.000000  \n",
       "mean    152.133484  \n",
       "std      77.093005  \n",
       "min      25.000000  \n",
       "25%      87.000000  \n",
       "50%     140.500000  \n",
       "75%     211.500000  \n",
       "max     346.000000  "
      ]
     },
     "execution_count": 285,
     "metadata": {},
     "output_type": "execute_result"
    }
   ],
   "source": [
    "diabetes_df.describe()"
   ]
  },
  {
   "cell_type": "markdown",
   "id": "810b796e",
   "metadata": {},
   "source": [
    "### Histogram Plots"
   ]
  },
  {
   "cell_type": "code",
   "execution_count": 286,
   "id": "c8f4dbef",
   "metadata": {},
   "outputs": [
    {
     "data": {
      "image/png": "[encoded data removed]",
      "text/plain": [
       "<Figure size 1440x1080 with 12 Axes>"
      ]
     },
     "metadata": {
      "needs_background": "light"
     },
     "output_type": "display_data"
    }
   ],
   "source": [
    "diabetes_df.hist(bins=50, figsize=(20,15))\n",
    "plt.show();"
   ]
  },
  {
   "cell_type": "markdown",
   "id": "e438b1ed",
   "metadata": {},
   "source": [
    "### Train Test Split & Scale"
   ]
  },
  {
   "cell_type": "code",
   "execution_count": 287,
   "id": "27fede37",
   "metadata": {},
   "outputs": [],
   "source": [
    "scaler=StandardScaler(copy=True) \n",
    "diabetes_scale=pd.DataFrame(scaler.fit_transform(diabetes_df),index=diabetes_df.index, columns = diabetes_df.columns)\n",
    "diabetes_train, diabetes_test = train_test_split(diabetes_scale, test_size=0.2 , random_state=1)"
   ]
  },
  {
   "cell_type": "code",
   "execution_count": 288,
   "id": "575cb280",
   "metadata": {},
   "outputs": [
    {
     "data": {
      "text/html": [
       "<div>\n",
       "<style scoped>\n",
       "    .dataframe tbody tr th:only-of-type {\n",
       "        vertical-align: middle;\n",
       "    }\n",
       "\n",
       "    .dataframe tbody tr th {\n",
       "        vertical-align: top;\n",
       "    }\n",
       "\n",
       "    .dataframe thead th {\n",
       "        text-align: right;\n",
       "    }\n",
       "</style>\n",
       "<table border=\"1\" class=\"dataframe\">\n",
       "  <thead>\n",
       "    <tr style=\"text-align: right;\">\n",
       "      <th></th>\n",
       "      <th>age</th>\n",
       "      <th>sex</th>\n",
       "      <th>bmi</th>\n",
       "      <th>bp</th>\n",
       "      <th>s1</th>\n",
       "      <th>s2</th>\n",
       "      <th>s3</th>\n",
       "      <th>s4</th>\n",
       "      <th>s5</th>\n",
       "      <th>s6</th>\n",
       "      <th>progression</th>\n",
       "    </tr>\n",
       "  </thead>\n",
       "  <tbody>\n",
       "    <tr>\n",
       "      <th>280</th>\n",
       "      <td>0.189542</td>\n",
       "      <td>1.065488</td>\n",
       "      <td>0.390700</td>\n",
       "      <td>0.821751</td>\n",
       "      <td>0.372003</td>\n",
       "      <td>0.222553</td>\n",
       "      <td>0.403384</td>\n",
       "      <td>-0.054499</td>\n",
       "      <td>0.342792</td>\n",
       "      <td>-0.370989</td>\n",
       "      <td>1.465690</td>\n",
       "    </tr>\n",
       "    <tr>\n",
       "      <th>36</th>\n",
       "      <td>0.265912</td>\n",
       "      <td>-0.938537</td>\n",
       "      <td>0.481339</td>\n",
       "      <td>1.111280</td>\n",
       "      <td>0.169509</td>\n",
       "      <td>-0.600393</td>\n",
       "      <td>0.790394</td>\n",
       "      <td>-0.830301</td>\n",
       "      <td>1.150506</td>\n",
       "      <td>-0.545154</td>\n",
       "      <td>1.465690</td>\n",
       "    </tr>\n",
       "    <tr>\n",
       "      <th>225</th>\n",
       "      <td>0.647761</td>\n",
       "      <td>1.065488</td>\n",
       "      <td>0.685277</td>\n",
       "      <td>1.038898</td>\n",
       "      <td>-0.842963</td>\n",
       "      <td>-0.916405</td>\n",
       "      <td>-1.454265</td>\n",
       "      <td>0.721302</td>\n",
       "      <td>1.324848</td>\n",
       "      <td>0.064426</td>\n",
       "      <td>0.725485</td>\n",
       "    </tr>\n",
       "  </tbody>\n",
       "</table>\n",
       "</div>"
      ],
      "text/plain": [
       "          age       sex       bmi        bp        s1        s2        s3  \\\n",
       "280  0.189542  1.065488  0.390700  0.821751  0.372003  0.222553  0.403384   \n",
       "36   0.265912 -0.938537  0.481339  1.111280  0.169509 -0.600393  0.790394   \n",
       "225  0.647761  1.065488  0.685277  1.038898 -0.842963 -0.916405 -1.454265   \n",
       "\n",
       "           s4        s5        s6  progression  \n",
       "280 -0.054499  0.342792 -0.370989     1.465690  \n",
       "36  -0.830301  1.150506 -0.545154     1.465690  \n",
       "225  0.721302  1.324848  0.064426     0.725485  "
      ]
     },
     "execution_count": 288,
     "metadata": {},
     "output_type": "execute_result"
    }
   ],
   "source": [
    "diabetes_train.sample(3)"
   ]
  },
  {
   "cell_type": "code",
   "execution_count": 289,
   "id": "23fe4586",
   "metadata": {},
   "outputs": [
    {
     "name": "stdout",
     "output_type": "stream",
     "text": [
      "Train 3883\n",
      "Test 979\n"
     ]
    }
   ],
   "source": [
    "print('Train' , diabetes_train.size)\n",
    "print('Test' , diabetes_test.size)"
   ]
  },
  {
   "cell_type": "markdown",
   "id": "22cefae3",
   "metadata": {},
   "source": [
    "### Correlation Matrix"
   ]
  },
  {
   "cell_type": "code",
   "execution_count": 290,
   "id": "72e5ee46",
   "metadata": {},
   "outputs": [
    {
     "data": {
      "text/html": [
       "<div>\n",
       "<style scoped>\n",
       "    .dataframe tbody tr th:only-of-type {\n",
       "        vertical-align: middle;\n",
       "    }\n",
       "\n",
       "    .dataframe tbody tr th {\n",
       "        vertical-align: top;\n",
       "    }\n",
       "\n",
       "    .dataframe thead th {\n",
       "        text-align: right;\n",
       "    }\n",
       "</style>\n",
       "<table border=\"1\" class=\"dataframe\">\n",
       "  <thead>\n",
       "    <tr style=\"text-align: right;\">\n",
       "      <th></th>\n",
       "      <th>age</th>\n",
       "      <th>sex</th>\n",
       "      <th>bmi</th>\n",
       "      <th>bp</th>\n",
       "      <th>s1</th>\n",
       "      <th>s2</th>\n",
       "      <th>s3</th>\n",
       "      <th>s4</th>\n",
       "      <th>s5</th>\n",
       "      <th>s6</th>\n",
       "      <th>progression</th>\n",
       "    </tr>\n",
       "  </thead>\n",
       "  <tbody>\n",
       "    <tr>\n",
       "      <th>age</th>\n",
       "      <td>1.000000</td>\n",
       "      <td>0.160236</td>\n",
       "      <td>0.242503</td>\n",
       "      <td>0.345966</td>\n",
       "      <td>0.286700</td>\n",
       "      <td>0.232955</td>\n",
       "      <td>-0.079775</td>\n",
       "      <td>0.222736</td>\n",
       "      <td>0.298517</td>\n",
       "      <td>0.288280</td>\n",
       "      <td>0.203168</td>\n",
       "    </tr>\n",
       "    <tr>\n",
       "      <th>sex</th>\n",
       "      <td>0.160236</td>\n",
       "      <td>1.000000</td>\n",
       "      <td>0.077537</td>\n",
       "      <td>0.234367</td>\n",
       "      <td>0.021532</td>\n",
       "      <td>0.119450</td>\n",
       "      <td>-0.380296</td>\n",
       "      <td>0.331263</td>\n",
       "      <td>0.157531</td>\n",
       "      <td>0.210015</td>\n",
       "      <td>0.027385</td>\n",
       "    </tr>\n",
       "    <tr>\n",
       "      <th>bmi</th>\n",
       "      <td>0.242503</td>\n",
       "      <td>0.077537</td>\n",
       "      <td>1.000000</td>\n",
       "      <td>0.427931</td>\n",
       "      <td>0.222435</td>\n",
       "      <td>0.210712</td>\n",
       "      <td>-0.354172</td>\n",
       "      <td>0.390201</td>\n",
       "      <td>0.461359</td>\n",
       "      <td>0.389494</td>\n",
       "      <td>0.602633</td>\n",
       "    </tr>\n",
       "    <tr>\n",
       "      <th>bp</th>\n",
       "      <td>0.345966</td>\n",
       "      <td>0.234367</td>\n",
       "      <td>0.427931</td>\n",
       "      <td>1.000000</td>\n",
       "      <td>0.240949</td>\n",
       "      <td>0.176084</td>\n",
       "      <td>-0.181746</td>\n",
       "      <td>0.262387</td>\n",
       "      <td>0.398138</td>\n",
       "      <td>0.391903</td>\n",
       "      <td>0.449539</td>\n",
       "    </tr>\n",
       "    <tr>\n",
       "      <th>s1</th>\n",
       "      <td>0.286700</td>\n",
       "      <td>0.021532</td>\n",
       "      <td>0.222435</td>\n",
       "      <td>0.240949</td>\n",
       "      <td>1.000000</td>\n",
       "      <td>0.898966</td>\n",
       "      <td>0.073968</td>\n",
       "      <td>0.533274</td>\n",
       "      <td>0.503478</td>\n",
       "      <td>0.310577</td>\n",
       "      <td>0.202431</td>\n",
       "    </tr>\n",
       "    <tr>\n",
       "      <th>s2</th>\n",
       "      <td>0.232955</td>\n",
       "      <td>0.119450</td>\n",
       "      <td>0.210712</td>\n",
       "      <td>0.176084</td>\n",
       "      <td>0.898966</td>\n",
       "      <td>1.000000</td>\n",
       "      <td>-0.151303</td>\n",
       "      <td>0.636579</td>\n",
       "      <td>0.303713</td>\n",
       "      <td>0.265432</td>\n",
       "      <td>0.154794</td>\n",
       "    </tr>\n",
       "    <tr>\n",
       "      <th>s3</th>\n",
       "      <td>-0.079775</td>\n",
       "      <td>-0.380296</td>\n",
       "      <td>-0.354172</td>\n",
       "      <td>-0.181746</td>\n",
       "      <td>0.073968</td>\n",
       "      <td>-0.151303</td>\n",
       "      <td>1.000000</td>\n",
       "      <td>-0.732883</td>\n",
       "      <td>-0.421034</td>\n",
       "      <td>-0.288735</td>\n",
       "      <td>-0.408048</td>\n",
       "    </tr>\n",
       "    <tr>\n",
       "      <th>s4</th>\n",
       "      <td>0.222736</td>\n",
       "      <td>0.331263</td>\n",
       "      <td>0.390201</td>\n",
       "      <td>0.262387</td>\n",
       "      <td>0.533274</td>\n",
       "      <td>0.636579</td>\n",
       "      <td>-0.732883</td>\n",
       "      <td>1.000000</td>\n",
       "      <td>0.630233</td>\n",
       "      <td>0.425137</td>\n",
       "      <td>0.433786</td>\n",
       "    </tr>\n",
       "    <tr>\n",
       "      <th>s5</th>\n",
       "      <td>0.298517</td>\n",
       "      <td>0.157531</td>\n",
       "      <td>0.461359</td>\n",
       "      <td>0.398138</td>\n",
       "      <td>0.503478</td>\n",
       "      <td>0.303713</td>\n",
       "      <td>-0.421034</td>\n",
       "      <td>0.630233</td>\n",
       "      <td>1.000000</td>\n",
       "      <td>0.484220</td>\n",
       "      <td>0.573539</td>\n",
       "    </tr>\n",
       "    <tr>\n",
       "      <th>s6</th>\n",
       "      <td>0.288280</td>\n",
       "      <td>0.210015</td>\n",
       "      <td>0.389494</td>\n",
       "      <td>0.391903</td>\n",
       "      <td>0.310577</td>\n",
       "      <td>0.265432</td>\n",
       "      <td>-0.288735</td>\n",
       "      <td>0.425137</td>\n",
       "      <td>0.484220</td>\n",
       "      <td>1.000000</td>\n",
       "      <td>0.388317</td>\n",
       "    </tr>\n",
       "    <tr>\n",
       "      <th>progression</th>\n",
       "      <td>0.203168</td>\n",
       "      <td>0.027385</td>\n",
       "      <td>0.602633</td>\n",
       "      <td>0.449539</td>\n",
       "      <td>0.202431</td>\n",
       "      <td>0.154794</td>\n",
       "      <td>-0.408048</td>\n",
       "      <td>0.433786</td>\n",
       "      <td>0.573539</td>\n",
       "      <td>0.388317</td>\n",
       "      <td>1.000000</td>\n",
       "    </tr>\n",
       "  </tbody>\n",
       "</table>\n",
       "</div>"
      ],
      "text/plain": [
       "                  age       sex       bmi        bp        s1        s2  \\\n",
       "age          1.000000  0.160236  0.242503  0.345966  0.286700  0.232955   \n",
       "sex          0.160236  1.000000  0.077537  0.234367  0.021532  0.119450   \n",
       "bmi          0.242503  0.077537  1.000000  0.427931  0.222435  0.210712   \n",
       "bp           0.345966  0.234367  0.427931  1.000000  0.240949  0.176084   \n",
       "s1           0.286700  0.021532  0.222435  0.240949  1.000000  0.898966   \n",
       "s2           0.232955  0.119450  0.210712  0.176084  0.898966  1.000000   \n",
       "s3          -0.079775 -0.380296 -0.354172 -0.181746  0.073968 -0.151303   \n",
       "s4           0.222736  0.331263  0.390201  0.262387  0.533274  0.636579   \n",
       "s5           0.298517  0.157531  0.461359  0.398138  0.503478  0.303713   \n",
       "s6           0.288280  0.210015  0.389494  0.391903  0.310577  0.265432   \n",
       "progression  0.203168  0.027385  0.602633  0.449539  0.202431  0.154794   \n",
       "\n",
       "                   s3        s4        s5        s6  progression  \n",
       "age         -0.079775  0.222736  0.298517  0.288280     0.203168  \n",
       "sex         -0.380296  0.331263  0.157531  0.210015     0.027385  \n",
       "bmi         -0.354172  0.390201  0.461359  0.389494     0.602633  \n",
       "bp          -0.181746  0.262387  0.398138  0.391903     0.449539  \n",
       "s1           0.073968  0.533274  0.503478  0.310577     0.202431  \n",
       "s2          -0.151303  0.636579  0.303713  0.265432     0.154794  \n",
       "s3           1.000000 -0.732883 -0.421034 -0.288735    -0.408048  \n",
       "s4          -0.732883  1.000000  0.630233  0.425137     0.433786  \n",
       "s5          -0.421034  0.630233  1.000000  0.484220     0.573539  \n",
       "s6          -0.288735  0.425137  0.484220  1.000000     0.388317  \n",
       "progression -0.408048  0.433786  0.573539  0.388317     1.000000  "
      ]
     },
     "execution_count": 290,
     "metadata": {},
     "output_type": "execute_result"
    }
   ],
   "source": [
    "diabetes_train.corr()"
   ]
  },
  {
   "cell_type": "code",
   "execution_count": 291,
   "id": "60813ef3",
   "metadata": {},
   "outputs": [
    {
     "data": {
      "text/plain": [
       "age            0.203168\n",
       "sex            0.027385\n",
       "bmi            0.602633\n",
       "bp             0.449539\n",
       "s1             0.202431\n",
       "s2             0.154794\n",
       "s3            -0.408048\n",
       "s4             0.433786\n",
       "s5             0.573539\n",
       "s6             0.388317\n",
       "progression    1.000000\n",
       "dtype: float64"
      ]
     },
     "execution_count": 291,
     "metadata": {},
     "output_type": "execute_result"
    }
   ],
   "source": [
    "diabetes_train.corrwith(diabetes_train['progression'])"
   ]
  },
  {
   "cell_type": "markdown",
   "id": "38765a29",
   "metadata": {},
   "source": [
    "### Seaborn Correlation Heatmap"
   ]
  },
  {
   "cell_type": "code",
   "execution_count": 292,
   "id": "989bf6f6",
   "metadata": {},
   "outputs": [
    {
     "data": {
      "image/png": "[encoded data removed]",
      "text/plain": [
       "<Figure size 1008x504 with 2 Axes>"
      ]
     },
     "metadata": {
      "needs_background": "light"
     },
     "output_type": "display_data"
    }
   ],
   "source": [
    "fig, ax = plt.subplots(figsize=(14,7))\n",
    "mask = np.zeros_like(diabetes_train.corr(), dtype=bool)   \n",
    "mask[np.triu_indices_from(mask)] = True\n",
    "ax = sns.heatmap(diabetes_train.corr(), mask=mask, ax=ax, annot=True, annot_kws={'fontsize':10}, cmap=\"viridis\")\n",
    "ax.set_xticklabels(ax.xaxis.get_ticklabels(), fontsize=14)\n",
    "ax.set_yticklabels(ax.yaxis.get_ticklabels(), fontsize=14)\n",
    "plt.tight_layout()\n",
    "plt.show();"
   ]
  },
  {
   "cell_type": "markdown",
   "id": "72f58184",
   "metadata": {},
   "source": [
    "The three features most correlated with progression are: bmi, s5, bp "
   ]
  },
  {
   "cell_type": "code",
   "execution_count": 293,
   "id": "73cf2392",
   "metadata": {},
   "outputs": [
    {
     "data": {
      "image/png": "[encoded data removed]",
      "text/plain": [
       "<Figure size 540x540 with 12 Axes>"
      ]
     },
     "metadata": {
      "needs_background": "light"
     },
     "output_type": "display_data"
    }
   ],
   "source": [
    "sns.pairplot(diabetes_train[['bmi' , 's5' , 'bp']]);"
   ]
  },
  {
   "cell_type": "markdown",
   "id": "b7edc06e",
   "metadata": {},
   "source": [
    "### Dropping Target \n",
    "(But keeping all features as its not clear to use the three highest correlated or use all)"
   ]
  },
  {
   "cell_type": "code",
   "execution_count": 294,
   "id": "4f7f6503",
   "metadata": {},
   "outputs": [],
   "source": [
    "y_train = pd.DataFrame(diabetes_train['progression']).copy()\n",
    "diabetes_train = diabetes_train.drop(columns='progression')"
   ]
  },
  {
   "cell_type": "code",
   "execution_count": 295,
   "id": "1df63c26",
   "metadata": {},
   "outputs": [
    {
     "data": {
      "text/html": [
       "<div>\n",
       "<style scoped>\n",
       "    .dataframe tbody tr th:only-of-type {\n",
       "        vertical-align: middle;\n",
       "    }\n",
       "\n",
       "    .dataframe tbody tr th {\n",
       "        vertical-align: top;\n",
       "    }\n",
       "\n",
       "    .dataframe thead th {\n",
       "        text-align: right;\n",
       "    }\n",
       "</style>\n",
       "<table border=\"1\" class=\"dataframe\">\n",
       "  <thead>\n",
       "    <tr style=\"text-align: right;\">\n",
       "      <th></th>\n",
       "      <th>progression</th>\n",
       "    </tr>\n",
       "  </thead>\n",
       "  <tbody>\n",
       "    <tr>\n",
       "      <th>123</th>\n",
       "      <td>-0.884784</td>\n",
       "    </tr>\n",
       "    <tr>\n",
       "      <th>38</th>\n",
       "      <td>1.296871</td>\n",
       "    </tr>\n",
       "    <tr>\n",
       "      <th>83</th>\n",
       "      <td>0.751457</td>\n",
       "    </tr>\n",
       "  </tbody>\n",
       "</table>\n",
       "</div>"
      ],
      "text/plain": [
       "     progression\n",
       "123    -0.884784\n",
       "38      1.296871\n",
       "83      0.751457"
      ]
     },
     "execution_count": 295,
     "metadata": {},
     "output_type": "execute_result"
    }
   ],
   "source": [
    "y_train.sample(3)"
   ]
  },
  {
   "cell_type": "code",
   "execution_count": 296,
   "id": "afec6afe",
   "metadata": {},
   "outputs": [
    {
     "data": {
      "text/html": [
       "<div>\n",
       "<style scoped>\n",
       "    .dataframe tbody tr th:only-of-type {\n",
       "        vertical-align: middle;\n",
       "    }\n",
       "\n",
       "    .dataframe tbody tr th {\n",
       "        vertical-align: top;\n",
       "    }\n",
       "\n",
       "    .dataframe thead th {\n",
       "        text-align: right;\n",
       "    }\n",
       "</style>\n",
       "<table border=\"1\" class=\"dataframe\">\n",
       "  <thead>\n",
       "    <tr style=\"text-align: right;\">\n",
       "      <th></th>\n",
       "      <th>age</th>\n",
       "      <th>sex</th>\n",
       "      <th>bmi</th>\n",
       "      <th>bp</th>\n",
       "      <th>s1</th>\n",
       "      <th>s2</th>\n",
       "      <th>s3</th>\n",
       "      <th>s4</th>\n",
       "      <th>s5</th>\n",
       "      <th>s6</th>\n",
       "    </tr>\n",
       "  </thead>\n",
       "  <tbody>\n",
       "    <tr>\n",
       "      <th>341</th>\n",
       "      <td>0.647761</td>\n",
       "      <td>1.065488</td>\n",
       "      <td>1.251769</td>\n",
       "      <td>1.183662</td>\n",
       "      <td>-0.466902</td>\n",
       "      <td>0.025046</td>\n",
       "      <td>-0.680245</td>\n",
       "      <td>-0.054499</td>\n",
       "      <td>-0.521205</td>\n",
       "      <td>-0.370989</td>\n",
       "    </tr>\n",
       "    <tr>\n",
       "      <th>140</th>\n",
       "      <td>0.876870</td>\n",
       "      <td>1.065488</td>\n",
       "      <td>0.300062</td>\n",
       "      <td>0.894133</td>\n",
       "      <td>-0.640468</td>\n",
       "      <td>-0.027623</td>\n",
       "      <td>-0.912451</td>\n",
       "      <td>-0.054499</td>\n",
       "      <td>-0.699016</td>\n",
       "      <td>0.325674</td>\n",
       "    </tr>\n",
       "    <tr>\n",
       "      <th>229</th>\n",
       "      <td>-0.574155</td>\n",
       "      <td>1.065488</td>\n",
       "      <td>-0.334410</td>\n",
       "      <td>-0.625893</td>\n",
       "      <td>0.082726</td>\n",
       "      <td>-0.014456</td>\n",
       "      <td>0.867796</td>\n",
       "      <td>-0.830301</td>\n",
       "      <td>-0.497098</td>\n",
       "      <td>0.238591</td>\n",
       "    </tr>\n",
       "  </tbody>\n",
       "</table>\n",
       "</div>"
      ],
      "text/plain": [
       "          age       sex       bmi        bp        s1        s2        s3  \\\n",
       "341  0.647761  1.065488  1.251769  1.183662 -0.466902  0.025046 -0.680245   \n",
       "140  0.876870  1.065488  0.300062  0.894133 -0.640468 -0.027623 -0.912451   \n",
       "229 -0.574155  1.065488 -0.334410 -0.625893  0.082726 -0.014456  0.867796   \n",
       "\n",
       "           s4        s5        s6  \n",
       "341 -0.054499 -0.521205 -0.370989  \n",
       "140 -0.054499 -0.699016  0.325674  \n",
       "229 -0.830301 -0.497098  0.238591  "
      ]
     },
     "execution_count": 296,
     "metadata": {},
     "output_type": "execute_result"
    }
   ],
   "source": [
    "diabetes_train.sample(3)"
   ]
  },
  {
   "cell_type": "markdown",
   "id": "91347bb6",
   "metadata": {},
   "source": [
    "# Part 2"
   ]
  },
  {
   "cell_type": "markdown",
   "id": "1536016a",
   "metadata": {},
   "source": [
    "### Train linear Regression Model"
   ]
  },
  {
   "cell_type": "code",
   "execution_count": 297,
   "id": "a65b59fe",
   "metadata": {},
   "outputs": [],
   "source": [
    "reg_mdl = LinearRegression().fit(diabetes_train, y_train)\n",
    "y_train_hat = reg_mdl.predict(diabetes_train)"
   ]
  },
  {
   "cell_type": "markdown",
   "id": "f030cfd1",
   "metadata": {},
   "source": [
    "### RMSE"
   ]
  },
  {
   "cell_type": "code",
   "execution_count": 298,
   "id": "eb0d49f0",
   "metadata": {},
   "outputs": [
    {
     "name": "stdout",
     "output_type": "stream",
     "text": [
      "RMSE 0.6914425807698945\n"
     ]
    }
   ],
   "source": [
    "print('RMSE', mean_squared_error(y_train , y_train_hat, squared=False))"
   ]
  },
  {
   "cell_type": "markdown",
   "id": "150cc40a",
   "metadata": {},
   "source": [
    "### Decision Tree Regressor"
   ]
  },
  {
   "cell_type": "code",
   "execution_count": 300,
   "id": "ea461145",
   "metadata": {},
   "outputs": [
    {
     "name": "stdout",
     "output_type": "stream",
     "text": [
      "Scores: [0.99622698 0.8675983  1.25665093 1.01572117 1.01370788 1.00993406\n",
      " 0.9759474  1.08581389 1.08812333 0.9511272 ]\n",
      "Mean: 1.0260851137342006\n",
      "Standard Deviation: 0.09759117986038024\n"
     ]
    }
   ],
   "source": [
    "tree = DecisionTreeRegressor()\n",
    "tree.fit(diabetes_train, y_train)\n",
    "scores = cross_val_score(tree, diabetes_train, y_train, scoring='neg_mean_squared_error', cv=10)\n",
    "tree_rmse_scores = np.sqrt(-scores)\n",
    "print('Scores:', tree_rmse_scores)\n",
    "print('Mean:' , tree_rmse_scores.mean())\n",
    "print('Standard Deviation:', tree_rmse_scores.std())"
   ]
  },
  {
   "cell_type": "markdown",
   "id": "39642928",
   "metadata": {},
   "source": [
    "### Random Forest Regressor"
   ]
  },
  {
   "cell_type": "code",
   "execution_count": 209,
   "id": "ae51a7d7",
   "metadata": {},
   "outputs": [
    {
     "name": "stdout",
     "output_type": "stream",
     "text": [
      "Scores: [0.78025107 0.81460755 0.87744472 0.67971758 0.81882622 0.80979667\n",
      " 0.66039617 0.73009024 0.69221665 0.74413335]\n",
      "Mean: 0.7607480226069652\n",
      "Standard Deviation: 0.06725110027987988\n"
     ]
    }
   ],
   "source": [
    "forest = RandomForestRegressor()\n",
    "forest.fit(diabetes_train, y_train.values.ravel())\n",
    "scores_forest = cross_val_score(forest , diabetes_train, y_train.values.ravel(), scoring='neg_mean_squared_error', cv=10)\n",
    "forest_rmse_scores = np.sqrt(-scores_forest)\n",
    "print('Scores:', forest_rmse_scores)\n",
    "print('Mean:' , forest_rmse_scores.mean())\n",
    "print('Standard Deviation:', forest_rmse_scores.std())"
   ]
  },
  {
   "cell_type": "markdown",
   "id": "b4f43141",
   "metadata": {},
   "source": [
    "The Random Forest Regressor performs significantly better.  "
   ]
  },
  {
   "cell_type": "markdown",
   "id": "146bd634",
   "metadata": {},
   "source": [
    "### Random Forest Parameters\n",
    "(I hope this is what is meant by parameters)"
   ]
  },
  {
   "cell_type": "code",
   "execution_count": 213,
   "id": "9f830e96",
   "metadata": {},
   "outputs": [
    {
     "data": {
      "text/plain": [
       "array([0.05297988, 0.01391675, 0.329634  , 0.11633288, 0.03998199,\n",
       "       0.0457278 , 0.05065697, 0.02660227, 0.25814744, 0.06602003])"
      ]
     },
     "execution_count": 213,
     "metadata": {},
     "output_type": "execute_result"
    }
   ],
   "source": [
    "forest.feature_importances_"
   ]
  },
  {
   "cell_type": "code",
   "execution_count": 221,
   "id": "72c0b81a",
   "metadata": {},
   "outputs": [
    {
     "data": {
      "text/plain": [
       "[DecisionTreeRegressor(max_features='auto', random_state=202833453),\n",
       " DecisionTreeRegressor(max_features='auto', random_state=2097120311),\n",
       " DecisionTreeRegressor(max_features='auto', random_state=68958069),\n",
       " DecisionTreeRegressor(max_features='auto', random_state=1290878877),\n",
       " DecisionTreeRegressor(max_features='auto', random_state=1991630049),\n",
       " DecisionTreeRegressor(max_features='auto', random_state=1017142144),\n",
       " DecisionTreeRegressor(max_features='auto', random_state=1113648686),\n",
       " DecisionTreeRegressor(max_features='auto', random_state=1950430756),\n",
       " DecisionTreeRegressor(max_features='auto', random_state=1928385513),\n",
       " DecisionTreeRegressor(max_features='auto', random_state=538796049),\n",
       " DecisionTreeRegressor(max_features='auto', random_state=1048748087),\n",
       " DecisionTreeRegressor(max_features='auto', random_state=34792965),\n",
       " DecisionTreeRegressor(max_features='auto', random_state=1840484999),\n",
       " DecisionTreeRegressor(max_features='auto', random_state=248578676),\n",
       " DecisionTreeRegressor(max_features='auto', random_state=996830694),\n",
       " DecisionTreeRegressor(max_features='auto', random_state=64282873),\n",
       " DecisionTreeRegressor(max_features='auto', random_state=1751638967),\n",
       " DecisionTreeRegressor(max_features='auto', random_state=853498338),\n",
       " DecisionTreeRegressor(max_features='auto', random_state=1494084971),\n",
       " DecisionTreeRegressor(max_features='auto', random_state=1101260261),\n",
       " DecisionTreeRegressor(max_features='auto', random_state=161924488),\n",
       " DecisionTreeRegressor(max_features='auto', random_state=917209155),\n",
       " DecisionTreeRegressor(max_features='auto', random_state=743059755),\n",
       " DecisionTreeRegressor(max_features='auto', random_state=597601794),\n",
       " DecisionTreeRegressor(max_features='auto', random_state=1586300407),\n",
       " DecisionTreeRegressor(max_features='auto', random_state=1718019401),\n",
       " DecisionTreeRegressor(max_features='auto', random_state=1461573315),\n",
       " DecisionTreeRegressor(max_features='auto', random_state=651562656),\n",
       " DecisionTreeRegressor(max_features='auto', random_state=1018906126),\n",
       " DecisionTreeRegressor(max_features='auto', random_state=1185634781),\n",
       " DecisionTreeRegressor(max_features='auto', random_state=695794306),\n",
       " DecisionTreeRegressor(max_features='auto', random_state=421683379),\n",
       " DecisionTreeRegressor(max_features='auto', random_state=1807837058),\n",
       " DecisionTreeRegressor(max_features='auto', random_state=734483773),\n",
       " DecisionTreeRegressor(max_features='auto', random_state=100452771),\n",
       " DecisionTreeRegressor(max_features='auto', random_state=1072242549),\n",
       " DecisionTreeRegressor(max_features='auto', random_state=485195242),\n",
       " DecisionTreeRegressor(max_features='auto', random_state=1244281303),\n",
       " DecisionTreeRegressor(max_features='auto', random_state=246793783),\n",
       " DecisionTreeRegressor(max_features='auto', random_state=49514790),\n",
       " DecisionTreeRegressor(max_features='auto', random_state=1999694492),\n",
       " DecisionTreeRegressor(max_features='auto', random_state=1885608889),\n",
       " DecisionTreeRegressor(max_features='auto', random_state=204333316),\n",
       " DecisionTreeRegressor(max_features='auto', random_state=1625029396),\n",
       " DecisionTreeRegressor(max_features='auto', random_state=695786642),\n",
       " DecisionTreeRegressor(max_features='auto', random_state=1826262149),\n",
       " DecisionTreeRegressor(max_features='auto', random_state=1016458829),\n",
       " DecisionTreeRegressor(max_features='auto', random_state=564011247),\n",
       " DecisionTreeRegressor(max_features='auto', random_state=368520318),\n",
       " DecisionTreeRegressor(max_features='auto', random_state=1819234229),\n",
       " DecisionTreeRegressor(max_features='auto', random_state=410509121),\n",
       " DecisionTreeRegressor(max_features='auto', random_state=1822366219),\n",
       " DecisionTreeRegressor(max_features='auto', random_state=1882324804),\n",
       " DecisionTreeRegressor(max_features='auto', random_state=1889322634),\n",
       " DecisionTreeRegressor(max_features='auto', random_state=1311126717),\n",
       " DecisionTreeRegressor(max_features='auto', random_state=722558389),\n",
       " DecisionTreeRegressor(max_features='auto', random_state=138107928),\n",
       " DecisionTreeRegressor(max_features='auto', random_state=589879755),\n",
       " DecisionTreeRegressor(max_features='auto', random_state=743902556),\n",
       " DecisionTreeRegressor(max_features='auto', random_state=1504715708),\n",
       " DecisionTreeRegressor(max_features='auto', random_state=848519501),\n",
       " DecisionTreeRegressor(max_features='auto', random_state=779645092),\n",
       " DecisionTreeRegressor(max_features='auto', random_state=466159048),\n",
       " DecisionTreeRegressor(max_features='auto', random_state=657486191),\n",
       " DecisionTreeRegressor(max_features='auto', random_state=722180521),\n",
       " DecisionTreeRegressor(max_features='auto', random_state=1456675759),\n",
       " DecisionTreeRegressor(max_features='auto', random_state=1724225250),\n",
       " DecisionTreeRegressor(max_features='auto', random_state=721250117),\n",
       " DecisionTreeRegressor(max_features='auto', random_state=1918520074),\n",
       " DecisionTreeRegressor(max_features='auto', random_state=1689919544),\n",
       " DecisionTreeRegressor(max_features='auto', random_state=1723840970),\n",
       " DecisionTreeRegressor(max_features='auto', random_state=763625294),\n",
       " DecisionTreeRegressor(max_features='auto', random_state=1669413719),\n",
       " DecisionTreeRegressor(max_features='auto', random_state=1001270528),\n",
       " DecisionTreeRegressor(max_features='auto', random_state=2065092579),\n",
       " DecisionTreeRegressor(max_features='auto', random_state=1422742283),\n",
       " DecisionTreeRegressor(max_features='auto', random_state=488844378),\n",
       " DecisionTreeRegressor(max_features='auto', random_state=1014688684),\n",
       " DecisionTreeRegressor(max_features='auto', random_state=638949358),\n",
       " DecisionTreeRegressor(max_features='auto', random_state=1913869265),\n",
       " DecisionTreeRegressor(max_features='auto', random_state=1885347978),\n",
       " DecisionTreeRegressor(max_features='auto', random_state=490859536),\n",
       " DecisionTreeRegressor(max_features='auto', random_state=1132243374),\n",
       " DecisionTreeRegressor(max_features='auto', random_state=405816390),\n",
       " DecisionTreeRegressor(max_features='auto', random_state=370589791),\n",
       " DecisionTreeRegressor(max_features='auto', random_state=44968532),\n",
       " DecisionTreeRegressor(max_features='auto', random_state=1357755383),\n",
       " DecisionTreeRegressor(max_features='auto', random_state=1624980116),\n",
       " DecisionTreeRegressor(max_features='auto', random_state=518189186),\n",
       " DecisionTreeRegressor(max_features='auto', random_state=880284269),\n",
       " DecisionTreeRegressor(max_features='auto', random_state=1035389737),\n",
       " DecisionTreeRegressor(max_features='auto', random_state=1650050052),\n",
       " DecisionTreeRegressor(max_features='auto', random_state=139876320),\n",
       " DecisionTreeRegressor(max_features='auto', random_state=1293028510),\n",
       " DecisionTreeRegressor(max_features='auto', random_state=207301005),\n",
       " DecisionTreeRegressor(max_features='auto', random_state=1183573586),\n",
       " DecisionTreeRegressor(max_features='auto', random_state=1242579705),\n",
       " DecisionTreeRegressor(max_features='auto', random_state=902446749),\n",
       " DecisionTreeRegressor(max_features='auto', random_state=1305862987),\n",
       " DecisionTreeRegressor(max_features='auto', random_state=113937121)]"
      ]
     },
     "execution_count": 221,
     "metadata": {},
     "output_type": "execute_result"
    }
   ],
   "source": [
    "forest.estimators_"
   ]
  },
  {
   "cell_type": "markdown",
   "id": "f28fe21a",
   "metadata": {},
   "source": [
    "### Grid Search"
   ]
  },
  {
   "cell_type": "code",
   "execution_count": 227,
   "id": "6a460bcf",
   "metadata": {},
   "outputs": [
    {
     "data": {
      "text/plain": [
       "GridSearchCV(estimator=RandomForestRegressor(),\n",
       "             param_grid=[{'max_features': [2, 4, 6, 8],\n",
       "                          'n_estimators': [3, 10, 30]},\n",
       "                         {'bootstrap': [False], 'max_features': [2, 3, 4],\n",
       "                          'n_estimators': [3, 10]}],\n",
       "             return_train_score=True, scoring='neg_mean_squared_error')"
      ]
     },
     "execution_count": 227,
     "metadata": {},
     "output_type": "execute_result"
    }
   ],
   "source": [
    "grid = [{'n_estimators': [3,10,30], 'max_features': [2,4,6,8]}, {'bootstrap': [False], 'n_estimators': [3,10], 'max_features': [2,3,4]}]\n",
    "forest2 = RandomForestRegressor()\n",
    "grid_search = GridSearchCV(forest2 , grid , scoring='neg_mean_squared_error', return_train_score=True)\n",
    "grid_search.fit(diabetes_train, y_train.values.ravel())"
   ]
  },
  {
   "cell_type": "markdown",
   "id": "cd2bf087",
   "metadata": {},
   "source": [
    "### Best Performing Model"
   ]
  },
  {
   "cell_type": "code",
   "execution_count": 246,
   "id": "94ffd0ee",
   "metadata": {},
   "outputs": [
    {
     "name": "stdout",
     "output_type": "stream",
     "text": [
      "Best Params: {'max_features': 2, 'n_estimators': 30}\n",
      "Featrue Importance: [0.06921662 0.0199791  0.20381769 0.1214943  0.06126826 0.06293544\n",
      " 0.08395454 0.07539742 0.2290037  0.07293293]\n",
      "Score: -0.5714307035616284\n"
     ]
    }
   ],
   "source": [
    "print('Best Params:', grid_search.best_params_)\n",
    "print('Featrue Importance:', grid_search.best_estimator_.feature_importances_)\n",
    "print('Score:', grid_search.best_score_)"
   ]
  },
  {
   "cell_type": "markdown",
   "id": "b3173a62",
   "metadata": {},
   "source": [
    "### RMSE"
   ]
  },
  {
   "cell_type": "code",
   "execution_count": 247,
   "id": "79397d71",
   "metadata": {},
   "outputs": [
    {
     "name": "stdout",
     "output_type": "stream",
     "text": [
      "0.8686969269602466 {'max_features': 2, 'n_estimators': 3}\n",
      "0.7652275065019458 {'max_features': 2, 'n_estimators': 10}\n",
      "0.7559303562905967 {'max_features': 2, 'n_estimators': 30}\n",
      "0.8668208825087094 {'max_features': 4, 'n_estimators': 3}\n",
      "0.7985760738786004 {'max_features': 4, 'n_estimators': 10}\n",
      "0.7604502923460237 {'max_features': 4, 'n_estimators': 30}\n",
      "0.8413791471577636 {'max_features': 6, 'n_estimators': 3}\n",
      "0.7973739016096673 {'max_features': 6, 'n_estimators': 10}\n",
      "0.7693582563862799 {'max_features': 6, 'n_estimators': 30}\n",
      "0.8324671155331065 {'max_features': 8, 'n_estimators': 3}\n",
      "0.8076164456532664 {'max_features': 8, 'n_estimators': 10}\n",
      "0.7793649100527279 {'max_features': 8, 'n_estimators': 30}\n",
      "0.8973463484695584 {'bootstrap': False, 'max_features': 2, 'n_estimators': 3}\n",
      "0.8124278327917795 {'bootstrap': False, 'max_features': 2, 'n_estimators': 10}\n",
      "0.8876142860366599 {'bootstrap': False, 'max_features': 3, 'n_estimators': 3}\n",
      "0.790641229616239 {'bootstrap': False, 'max_features': 3, 'n_estimators': 10}\n",
      "0.8793914535299464 {'bootstrap': False, 'max_features': 4, 'n_estimators': 3}\n",
      "0.8035666310120023 {'bootstrap': False, 'max_features': 4, 'n_estimators': 10}\n"
     ]
    }
   ],
   "source": [
    "for mean_score, params in zip(grid_search.cv_results_['mean_test_score'], grid_search.cv_results_['params']):\n",
    "    print(np.sqrt(-mean_score), params)"
   ]
  },
  {
   "cell_type": "markdown",
   "id": "0086aa25",
   "metadata": {},
   "source": [
    "### Feature Importance and the Correlation Matrix"
   ]
  },
  {
   "cell_type": "code",
   "execution_count": 256,
   "id": "740f9cbb",
   "metadata": {},
   "outputs": [
    {
     "name": "stdout",
     "output_type": "stream",
     "text": [
      "Featrue Importance: [0.06921662 0.0199791  0.20381769 0.1214943  0.06126826 0.06293544\n",
      " 0.08395454 0.07539742 0.2290037  0.07293293]\n"
     ]
    }
   ],
   "source": [
    "print('Featrue Importance:', grid_search.best_estimator_.feature_importances_)"
   ]
  },
  {
   "cell_type": "code",
   "execution_count": 255,
   "id": "e9578f3d",
   "metadata": {},
   "outputs": [
    {
     "data": {
      "text/plain": [
       "[(0.2290037034696869, 's5'),\n",
       " (0.20381769492218058, 'bmi'),\n",
       " (0.12149429519930931, 'bp'),\n",
       " (0.08395454003440903, 's3'),\n",
       " (0.07539742319699727, 's4'),\n",
       " (0.07293292601216833, 's6'),\n",
       " (0.06921662336983939, 'age'),\n",
       " (0.06293544204672928, 's2'),\n",
       " (0.06126825503647286, 's1'),\n",
       " (0.019979096712207205, 'sex')]"
      ]
     },
     "execution_count": 255,
     "metadata": {},
     "output_type": "execute_result"
    }
   ],
   "source": [
    "sorted(zip(grid_search.best_estimator_.feature_importances_, diabetes_train.columns), reverse=True)"
   ]
  },
  {
   "cell_type": "markdown",
   "id": "c19ad611",
   "metadata": {},
   "source": [
    "The most important features of the best estimator are bmi, s5, bp.  The three features most correlated with progression are: bmi, s5, bp.  The three highest feature importance and three highest correlated features are the same.  This is expected.  Correlation is often a good factor to use for feature selection.    "
   ]
  },
  {
   "cell_type": "markdown",
   "id": "c0a64857",
   "metadata": {},
   "source": [
    "### Best Performaing Model (Comparison)"
   ]
  },
  {
   "cell_type": "code",
   "execution_count": 302,
   "id": "8fd2a1f9",
   "metadata": {},
   "outputs": [],
   "source": [
    "diabetes_test_progrssion = diabetes_test['progression']\n",
    "diabetes_test = diabetes_test.drop(columns='progression')"
   ]
  },
  {
   "cell_type": "code",
   "execution_count": 278,
   "id": "d5ec9a97",
   "metadata": {},
   "outputs": [
    {
     "name": "stdout",
     "output_type": "stream",
     "text": [
      "Part 2 Linear Regression Performance: 0.7103921166256985\n"
     ]
    }
   ],
   "source": [
    "diabetes_test_hat = reg_mdl.predict(diabetes_test)\n",
    "lin_reg_test_RMSE = mean_squared_error(diabetes_test_progrssion , diabetes_test_hat, squared=False)\n",
    "print('Part 2 Linear Regression Performance:', lin_reg_test_RMSE)"
   ]
  },
  {
   "cell_type": "code",
   "execution_count": 303,
   "id": "2890d58f",
   "metadata": {},
   "outputs": [
    {
     "name": "stdout",
     "output_type": "stream",
     "text": [
      "Part 2 Decision tree Performance: 1.0664212123165169\n"
     ]
    }
   ],
   "source": [
    "tree_test_hat = tree.predict(diabetes_test)\n",
    "tree_test_RMSE = mean_squared_error(diabetes_test_progrssion , tree_test_hat, squared=False)\n",
    "print('Part 2 Decision tree Performance:', tree_test_RMSE)"
   ]
  },
  {
   "cell_type": "code",
   "execution_count": 306,
   "id": "5ae7eeef",
   "metadata": {},
   "outputs": [
    {
     "name": "stdout",
     "output_type": "stream",
     "text": [
      "Part 2 Random Forrest Performance: 0.7887344289410485\n"
     ]
    }
   ],
   "source": [
    "rnd_frst_test_hat = forest.predict(diabetes_test)\n",
    "rnd_frst_test_RMSE = mean_squared_error(diabetes_test_progrssion, rnd_frst_test_hat, squared=False)\n",
    "print('Part 2 Random Forrest Performance:', rnd_frst_test_RMSE)"
   ]
  },
  {
   "cell_type": "code",
   "execution_count": 307,
   "id": "d57b941a",
   "metadata": {},
   "outputs": [
    {
     "name": "stdout",
     "output_type": "stream",
     "text": [
      "Part 3 Best Random Forest Performance: 0.7448188264240054\n"
     ]
    }
   ],
   "source": [
    "best_estimator_hat = grid_search.best_estimator_.predict(diabetes_test)\n",
    "part_3_RMSE = mean_squared_error(diabetes_test_progrssion , best_estimator_hat, squared=False)\n",
    "print('Part 3 Best Random Forest Performance:', part_3_RMSE)"
   ]
  },
  {
   "cell_type": "markdown",
   "id": "eea40ac2",
   "metadata": {},
   "source": [
    "To my surprise it looks like the regular linear regression model is a slightly better fit.  I suspect the random forest isn't generalizing as well, but it is also possible that different rng within the k folds could flip the results.  However, I did not expect this.  "
   ]
  },
  {
   "cell_type": "markdown",
   "id": "fe7cb6f5",
   "metadata": {},
   "source": [
    "### Saving Models"
   ]
  },
  {
   "cell_type": "code",
   "execution_count": 309,
   "id": "fff53e05",
   "metadata": {},
   "outputs": [],
   "source": [
    "pickle.dump(reg_mdl, open('reg_model.pkl', 'wb'))\n",
    "pickle.dump(tree, open('tree_model.pkl', 'wb'))\n",
    "pickle.dump(forest, open('simple_forest_model.pkl', 'wb'))\n",
    "pickle.dump(grid_search.best_estimator_, open('best_forest_model.pkl', 'wb'))"
   ]
  },
  {
   "cell_type": "code",
   "execution_count": null,
   "id": "ef0a3824",
   "metadata": {},
   "outputs": [],
   "source": []
  }
 ],
 "metadata": {
  "kernelspec": {
   "display_name": "Python 3 (ipykernel)",
   "language": "python",
   "name": "python3"
  },
  "language_info": {
   "codemirror_mode": {
    "name": "ipython",
    "version": 3
   },
   "file_extension": ".py",
   "mimetype": "text/x-python",
   "name": "python",
   "nbconvert_exporter": "python",
   "pygments_lexer": "ipython3",
   "version": "3.8.12"
  }
 },
 "nbformat": 4,
 "nbformat_minor": 5
}
