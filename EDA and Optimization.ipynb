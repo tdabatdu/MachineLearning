{
 "cells": [
  {
   "cell_type": "code",
   "execution_count": 275,
   "id": "4a8b9264",
   "metadata": {},
   "outputs": [],
   "source": [
    "import pandas as pd\n",
    "import numpy as np\n",
    "import seaborn as sns\n",
    "import matplotlib.pyplot as plt\n",
    "from sklearn.preprocessing import StandardScaler\n",
    "from sklearn.model_selection import train_test_split, cross_val_score\n",
    "from sklearn.linear_model import LinearRegression, SGDRegressor, Lasso, ElasticNet, Ridge\n",
    "from sklearn.tree import DecisionTreeRegressor\n",
    "from sklearn.ensemble import RandomForestRegressor, BaggingRegressor\n",
    "from sklearn.metrics import mean_squared_error, r2_score\n",
    "from sklearn.model_selection import RandomizedSearchCV\n",
    "from prettytable import PrettyTable"
   ]
  },
  {
   "cell_type": "markdown",
   "id": "3faf1553",
   "metadata": {},
   "source": [
    "# Part 1"
   ]
  },
  {
   "cell_type": "code",
   "execution_count": 301,
   "id": "da7cfbd6",
   "metadata": {},
   "outputs": [],
   "source": [
    "bike_df = pd.read_csv('bike_share_hour.csv')"
   ]
  },
  {
   "cell_type": "code",
   "execution_count": 302,
   "id": "6a71d088",
   "metadata": {},
   "outputs": [
    {
     "data": {
      "text/html": [
       "<div>\n",
       "<style scoped>\n",
       "    .dataframe tbody tr th:only-of-type {\n",
       "        vertical-align: middle;\n",
       "    }\n",
       "\n",
       "    .dataframe tbody tr th {\n",
       "        vertical-align: top;\n",
       "    }\n",
       "\n",
       "    .dataframe thead th {\n",
       "        text-align: right;\n",
       "    }\n",
       "</style>\n",
       "<table border=\"1\" class=\"dataframe\">\n",
       "  <thead>\n",
       "    <tr style=\"text-align: right;\">\n",
       "      <th></th>\n",
       "      <th>instant</th>\n",
       "      <th>dteday</th>\n",
       "      <th>season</th>\n",
       "      <th>yr</th>\n",
       "      <th>mnth</th>\n",
       "      <th>hr</th>\n",
       "      <th>holiday</th>\n",
       "      <th>weekday</th>\n",
       "      <th>workingday</th>\n",
       "      <th>weathersit</th>\n",
       "      <th>temp</th>\n",
       "      <th>atemp</th>\n",
       "      <th>hum</th>\n",
       "      <th>windspeed</th>\n",
       "      <th>casual</th>\n",
       "      <th>registered</th>\n",
       "      <th>cnt</th>\n",
       "    </tr>\n",
       "  </thead>\n",
       "  <tbody>\n",
       "    <tr>\n",
       "      <th>15385</th>\n",
       "      <td>15386</td>\n",
       "      <td>2012-10-08</td>\n",
       "      <td>4</td>\n",
       "      <td>1</td>\n",
       "      <td>10</td>\n",
       "      <td>6</td>\n",
       "      <td>1</td>\n",
       "      <td>1</td>\n",
       "      <td>0</td>\n",
       "      <td>1</td>\n",
       "      <td>0.34</td>\n",
       "      <td>0.3485</td>\n",
       "      <td>0.76</td>\n",
       "      <td>0.1045</td>\n",
       "      <td>5</td>\n",
       "      <td>54</td>\n",
       "      <td>59</td>\n",
       "    </tr>\n",
       "    <tr>\n",
       "      <th>584</th>\n",
       "      <td>585</td>\n",
       "      <td>2011-01-26</td>\n",
       "      <td>1</td>\n",
       "      <td>0</td>\n",
       "      <td>1</td>\n",
       "      <td>15</td>\n",
       "      <td>0</td>\n",
       "      <td>3</td>\n",
       "      <td>1</td>\n",
       "      <td>3</td>\n",
       "      <td>0.22</td>\n",
       "      <td>0.1818</td>\n",
       "      <td>0.93</td>\n",
       "      <td>0.4627</td>\n",
       "      <td>1</td>\n",
       "      <td>42</td>\n",
       "      <td>43</td>\n",
       "    </tr>\n",
       "    <tr>\n",
       "      <th>3116</th>\n",
       "      <td>3117</td>\n",
       "      <td>2011-05-14</td>\n",
       "      <td>2</td>\n",
       "      <td>0</td>\n",
       "      <td>5</td>\n",
       "      <td>18</td>\n",
       "      <td>0</td>\n",
       "      <td>6</td>\n",
       "      <td>0</td>\n",
       "      <td>2</td>\n",
       "      <td>0.56</td>\n",
       "      <td>0.5303</td>\n",
       "      <td>0.88</td>\n",
       "      <td>0.2239</td>\n",
       "      <td>88</td>\n",
       "      <td>216</td>\n",
       "      <td>304</td>\n",
       "    </tr>\n",
       "  </tbody>\n",
       "</table>\n",
       "</div>"
      ],
      "text/plain": [
       "       instant      dteday  season  yr  mnth  hr  holiday  weekday  \\\n",
       "15385    15386  2012-10-08       4   1    10   6        1        1   \n",
       "584        585  2011-01-26       1   0     1  15        0        3   \n",
       "3116      3117  2011-05-14       2   0     5  18        0        6   \n",
       "\n",
       "       workingday  weathersit  temp   atemp   hum  windspeed  casual  \\\n",
       "15385           0           1  0.34  0.3485  0.76     0.1045       5   \n",
       "584             1           3  0.22  0.1818  0.93     0.4627       1   \n",
       "3116            0           2  0.56  0.5303  0.88     0.2239      88   \n",
       "\n",
       "       registered  cnt  \n",
       "15385          54   59  \n",
       "584            42   43  \n",
       "3116          216  304  "
      ]
     },
     "execution_count": 302,
     "metadata": {},
     "output_type": "execute_result"
    }
   ],
   "source": [
    "bike_df.sample(3)"
   ]
  },
  {
   "cell_type": "markdown",
   "id": "00f337bd",
   "metadata": {},
   "source": [
    "#### Initial Look at types"
   ]
  },
  {
   "cell_type": "code",
   "execution_count": 173,
   "id": "47322bce",
   "metadata": {},
   "outputs": [
    {
     "data": {
      "text/plain": [
       "instant         int64\n",
       "dteday         object\n",
       "season          int64\n",
       "yr              int64\n",
       "mnth            int64\n",
       "hr              int64\n",
       "holiday         int64\n",
       "weekday         int64\n",
       "workingday      int64\n",
       "weathersit      int64\n",
       "temp          float64\n",
       "atemp         float64\n",
       "hum           float64\n",
       "windspeed     float64\n",
       "casual          int64\n",
       "registered      int64\n",
       "cnt             int64\n",
       "dtype: object"
      ]
     },
     "execution_count": 173,
     "metadata": {},
     "output_type": "execute_result"
    }
   ],
   "source": [
    "bike_df.dtypes"
   ]
  },
  {
   "cell_type": "markdown",
   "id": "7f3bcf8a",
   "metadata": {},
   "source": [
    "#### Transform Categoricals"
   ]
  },
  {
   "cell_type": "code",
   "execution_count": 303,
   "id": "507524db",
   "metadata": {},
   "outputs": [],
   "source": [
    "bike_df[['season', 'holiday', 'weekday', 'workingday', 'weathersit']] = bike_df[['season', 'holiday', 'weekday', 'workingday', 'weathersit']].astype('category')"
   ]
  },
  {
   "cell_type": "markdown",
   "id": "9e9a45be",
   "metadata": {},
   "source": [
    "#### After look"
   ]
  },
  {
   "cell_type": "code",
   "execution_count": 175,
   "id": "9cf84f47",
   "metadata": {},
   "outputs": [
    {
     "data": {
      "text/plain": [
       "instant          int64\n",
       "dteday          object\n",
       "season        category\n",
       "yr               int64\n",
       "mnth             int64\n",
       "hr               int64\n",
       "holiday       category\n",
       "weekday       category\n",
       "workingday    category\n",
       "weathersit    category\n",
       "temp           float64\n",
       "atemp          float64\n",
       "hum            float64\n",
       "windspeed      float64\n",
       "casual           int64\n",
       "registered       int64\n",
       "cnt              int64\n",
       "dtype: object"
      ]
     },
     "execution_count": 175,
     "metadata": {},
     "output_type": "execute_result"
    }
   ],
   "source": [
    "bike_df.dtypes"
   ]
  },
  {
   "cell_type": "markdown",
   "id": "e4f909ff",
   "metadata": {},
   "source": [
    "#### Nulls - There appears to be none.  "
   ]
  },
  {
   "cell_type": "code",
   "execution_count": 176,
   "id": "601a9998",
   "metadata": {},
   "outputs": [
    {
     "data": {
      "text/plain": [
       "instant       0\n",
       "dteday        0\n",
       "season        0\n",
       "yr            0\n",
       "mnth          0\n",
       "hr            0\n",
       "holiday       0\n",
       "weekday       0\n",
       "workingday    0\n",
       "weathersit    0\n",
       "temp          0\n",
       "atemp         0\n",
       "hum           0\n",
       "windspeed     0\n",
       "casual        0\n",
       "registered    0\n",
       "cnt           0\n",
       "dtype: int64"
      ]
     },
     "execution_count": 176,
     "metadata": {},
     "output_type": "execute_result"
    }
   ],
   "source": [
    "bike_df.isna().sum()"
   ]
  },
  {
   "cell_type": "markdown",
   "id": "243471d3",
   "metadata": {},
   "source": [
    "#### Built-in Describe for a quick look into the dataframe"
   ]
  },
  {
   "cell_type": "code",
   "execution_count": 177,
   "id": "762acc80",
   "metadata": {},
   "outputs": [
    {
     "data": {
      "text/html": [
       "<div>\n",
       "<style scoped>\n",
       "    .dataframe tbody tr th:only-of-type {\n",
       "        vertical-align: middle;\n",
       "    }\n",
       "\n",
       "    .dataframe tbody tr th {\n",
       "        vertical-align: top;\n",
       "    }\n",
       "\n",
       "    .dataframe thead th {\n",
       "        text-align: right;\n",
       "    }\n",
       "</style>\n",
       "<table border=\"1\" class=\"dataframe\">\n",
       "  <thead>\n",
       "    <tr style=\"text-align: right;\">\n",
       "      <th></th>\n",
       "      <th>instant</th>\n",
       "      <th>yr</th>\n",
       "      <th>mnth</th>\n",
       "      <th>hr</th>\n",
       "      <th>temp</th>\n",
       "      <th>atemp</th>\n",
       "      <th>hum</th>\n",
       "      <th>windspeed</th>\n",
       "      <th>casual</th>\n",
       "      <th>registered</th>\n",
       "      <th>cnt</th>\n",
       "    </tr>\n",
       "  </thead>\n",
       "  <tbody>\n",
       "    <tr>\n",
       "      <th>count</th>\n",
       "      <td>17379.0000</td>\n",
       "      <td>17379.000000</td>\n",
       "      <td>17379.000000</td>\n",
       "      <td>17379.000000</td>\n",
       "      <td>17379.000000</td>\n",
       "      <td>17379.000000</td>\n",
       "      <td>17379.000000</td>\n",
       "      <td>17379.000000</td>\n",
       "      <td>17379.000000</td>\n",
       "      <td>17379.000000</td>\n",
       "      <td>17379.000000</td>\n",
       "    </tr>\n",
       "    <tr>\n",
       "      <th>mean</th>\n",
       "      <td>8690.0000</td>\n",
       "      <td>0.502561</td>\n",
       "      <td>6.537775</td>\n",
       "      <td>11.546752</td>\n",
       "      <td>0.496987</td>\n",
       "      <td>0.475775</td>\n",
       "      <td>0.627229</td>\n",
       "      <td>0.190098</td>\n",
       "      <td>35.676218</td>\n",
       "      <td>153.786869</td>\n",
       "      <td>189.463088</td>\n",
       "    </tr>\n",
       "    <tr>\n",
       "      <th>std</th>\n",
       "      <td>5017.0295</td>\n",
       "      <td>0.500008</td>\n",
       "      <td>3.438776</td>\n",
       "      <td>6.914405</td>\n",
       "      <td>0.192556</td>\n",
       "      <td>0.171850</td>\n",
       "      <td>0.192930</td>\n",
       "      <td>0.122340</td>\n",
       "      <td>49.305030</td>\n",
       "      <td>151.357286</td>\n",
       "      <td>181.387599</td>\n",
       "    </tr>\n",
       "    <tr>\n",
       "      <th>min</th>\n",
       "      <td>1.0000</td>\n",
       "      <td>0.000000</td>\n",
       "      <td>1.000000</td>\n",
       "      <td>0.000000</td>\n",
       "      <td>0.020000</td>\n",
       "      <td>0.000000</td>\n",
       "      <td>0.000000</td>\n",
       "      <td>0.000000</td>\n",
       "      <td>0.000000</td>\n",
       "      <td>0.000000</td>\n",
       "      <td>1.000000</td>\n",
       "    </tr>\n",
       "    <tr>\n",
       "      <th>25%</th>\n",
       "      <td>4345.5000</td>\n",
       "      <td>0.000000</td>\n",
       "      <td>4.000000</td>\n",
       "      <td>6.000000</td>\n",
       "      <td>0.340000</td>\n",
       "      <td>0.333300</td>\n",
       "      <td>0.480000</td>\n",
       "      <td>0.104500</td>\n",
       "      <td>4.000000</td>\n",
       "      <td>34.000000</td>\n",
       "      <td>40.000000</td>\n",
       "    </tr>\n",
       "    <tr>\n",
       "      <th>50%</th>\n",
       "      <td>8690.0000</td>\n",
       "      <td>1.000000</td>\n",
       "      <td>7.000000</td>\n",
       "      <td>12.000000</td>\n",
       "      <td>0.500000</td>\n",
       "      <td>0.484800</td>\n",
       "      <td>0.630000</td>\n",
       "      <td>0.194000</td>\n",
       "      <td>17.000000</td>\n",
       "      <td>115.000000</td>\n",
       "      <td>142.000000</td>\n",
       "    </tr>\n",
       "    <tr>\n",
       "      <th>75%</th>\n",
       "      <td>13034.5000</td>\n",
       "      <td>1.000000</td>\n",
       "      <td>10.000000</td>\n",
       "      <td>18.000000</td>\n",
       "      <td>0.660000</td>\n",
       "      <td>0.621200</td>\n",
       "      <td>0.780000</td>\n",
       "      <td>0.253700</td>\n",
       "      <td>48.000000</td>\n",
       "      <td>220.000000</td>\n",
       "      <td>281.000000</td>\n",
       "    </tr>\n",
       "    <tr>\n",
       "      <th>max</th>\n",
       "      <td>17379.0000</td>\n",
       "      <td>1.000000</td>\n",
       "      <td>12.000000</td>\n",
       "      <td>23.000000</td>\n",
       "      <td>1.000000</td>\n",
       "      <td>1.000000</td>\n",
       "      <td>1.000000</td>\n",
       "      <td>0.850700</td>\n",
       "      <td>367.000000</td>\n",
       "      <td>886.000000</td>\n",
       "      <td>977.000000</td>\n",
       "    </tr>\n",
       "  </tbody>\n",
       "</table>\n",
       "</div>"
      ],
      "text/plain": [
       "          instant            yr          mnth            hr          temp  \\\n",
       "count  17379.0000  17379.000000  17379.000000  17379.000000  17379.000000   \n",
       "mean    8690.0000      0.502561      6.537775     11.546752      0.496987   \n",
       "std     5017.0295      0.500008      3.438776      6.914405      0.192556   \n",
       "min        1.0000      0.000000      1.000000      0.000000      0.020000   \n",
       "25%     4345.5000      0.000000      4.000000      6.000000      0.340000   \n",
       "50%     8690.0000      1.000000      7.000000     12.000000      0.500000   \n",
       "75%    13034.5000      1.000000     10.000000     18.000000      0.660000   \n",
       "max    17379.0000      1.000000     12.000000     23.000000      1.000000   \n",
       "\n",
       "              atemp           hum     windspeed        casual    registered  \\\n",
       "count  17379.000000  17379.000000  17379.000000  17379.000000  17379.000000   \n",
       "mean       0.475775      0.627229      0.190098     35.676218    153.786869   \n",
       "std        0.171850      0.192930      0.122340     49.305030    151.357286   \n",
       "min        0.000000      0.000000      0.000000      0.000000      0.000000   \n",
       "25%        0.333300      0.480000      0.104500      4.000000     34.000000   \n",
       "50%        0.484800      0.630000      0.194000     17.000000    115.000000   \n",
       "75%        0.621200      0.780000      0.253700     48.000000    220.000000   \n",
       "max        1.000000      1.000000      0.850700    367.000000    886.000000   \n",
       "\n",
       "                cnt  \n",
       "count  17379.000000  \n",
       "mean     189.463088  \n",
       "std      181.387599  \n",
       "min        1.000000  \n",
       "25%       40.000000  \n",
       "50%      142.000000  \n",
       "75%      281.000000  \n",
       "max      977.000000  "
      ]
     },
     "execution_count": 177,
     "metadata": {},
     "output_type": "execute_result"
    }
   ],
   "source": [
    "bike_df.describe()"
   ]
  },
  {
   "cell_type": "code",
   "execution_count": 178,
   "id": "8b311295",
   "metadata": {},
   "outputs": [
    {
     "data": {
      "image/png": "[encoded data removed]",
      "text/plain": [
       "<Figure size 432x288 with 1 Axes>"
      ]
     },
     "metadata": {
      "needs_background": "light"
     },
     "output_type": "display_data"
    }
   ],
   "source": [
    "sns.barplot(x='cnt', y='season', data=bike_df);"
   ]
  },
  {
   "cell_type": "markdown",
   "id": "66512bba",
   "metadata": {},
   "source": [
    "It appears fall (3) has the most bike rides and spring (1) has the least bike rides.  "
   ]
  },
  {
   "cell_type": "code",
   "execution_count": 179,
   "id": "724822cb",
   "metadata": {},
   "outputs": [
    {
     "data": {
      "image/png": "[encoded data removed]",
      "text/plain": [
       "<Figure size 432x288 with 1 Axes>"
      ]
     },
     "metadata": {
      "needs_background": "light"
     },
     "output_type": "display_data"
    }
   ],
   "source": [
    "sns.barplot(x='workingday', y='cnt', data=bike_df);"
   ]
  },
  {
   "cell_type": "markdown",
   "id": "a55cb1c1",
   "metadata": {},
   "source": [
    "At first it appears there is a surprisingly small difference between the count of bike rides on working days vs non-working days.  But there are significantly more working days than there are non-working days.  Day of the week may give us a better look at the distribution.  But will take some looking into.    "
   ]
  },
  {
   "cell_type": "code",
   "execution_count": 180,
   "id": "8353b81a",
   "metadata": {},
   "outputs": [
    {
     "data": {
      "image/png": "[encoded data removed]",
      "text/plain": [
       "<Figure size 432x288 with 1 Axes>"
      ]
     },
     "metadata": {
      "needs_background": "light"
     },
     "output_type": "display_data"
    }
   ],
   "source": [
    "sns.barplot(x='weekday', y='cnt', data=bike_df);"
   ]
  },
  {
   "cell_type": "markdown",
   "id": "db7bfcf8",
   "metadata": {},
   "source": [
    "Unfortunately the distribution of rides against the day of the week has only created more questions.  We may need to revisit this as I would not have expected this behavior."
   ]
  },
  {
   "cell_type": "code",
   "execution_count": 181,
   "id": "bc2dd907",
   "metadata": {},
   "outputs": [
    {
     "data": {
      "image/png": "[encoded data removed]",
      "text/plain": [
       "<Figure size 432x288 with 1 Axes>"
      ]
     },
     "metadata": {
      "needs_background": "light"
     },
     "output_type": "display_data"
    }
   ],
   "source": [
    "sns.barplot(x='mnth', y='cnt', data=bike_df);"
   ]
  },
  {
   "cell_type": "markdown",
   "id": "fe3eeecf",
   "metadata": {},
   "source": [
    "The distribution of rides against month appears to be normal.  But we can figure out the season the month is in just to be sure.  "
   ]
  },
  {
   "cell_type": "code",
   "execution_count": 182,
   "id": "573f9cc1",
   "metadata": {},
   "outputs": [
    {
     "data": {
      "text/plain": [
       "season\n",
       "1      [1, 2, 3, 12]\n",
       "2       [3, 4, 5, 6]\n",
       "3       [6, 7, 8, 9]\n",
       "4    [9, 10, 11, 12]\n",
       "dtype: object"
      ]
     },
     "execution_count": 182,
     "metadata": {},
     "output_type": "execute_result"
    }
   ],
   "source": [
    "group = bike_df.groupby('season')\n",
    "group = group.apply(lambda x: x['mnth'].unique())\n",
    "group"
   ]
  },
  {
   "cell_type": "markdown",
   "id": "8019d3ee",
   "metadata": {},
   "source": [
    "It appears we cannot trust 1 as January and 12 as December. 12 may be March? Interesting distribution with the overlap of seasons as well, that may be something of note.  "
   ]
  },
  {
   "cell_type": "code",
   "execution_count": 183,
   "id": "445e6595",
   "metadata": {},
   "outputs": [
    {
     "data": {
      "image/png": "[encoded data removed]",
      "text/plain": [
       "<Figure size 432x288 with 1 Axes>"
      ]
     },
     "metadata": {
      "needs_background": "light"
     },
     "output_type": "display_data"
    }
   ],
   "source": [
    "sns.barplot(x='weathersit', y='cnt', data=bike_df, capsize=.2);"
   ]
  },
  {
   "cell_type": "markdown",
   "id": "e525e63a",
   "metadata": {},
   "source": [
    "Weather situation 4 has the least bike rentals.  It appears heavy rain, ice pallets, thunderstorms, mist, snow, and fog discourage biking.  But the error bar is quite large.  That may warrant some investigation."
   ]
  },
  {
   "cell_type": "code",
   "execution_count": 306,
   "id": "a0efbd45",
   "metadata": {},
   "outputs": [
    {
     "data": {
      "image/png": "[encoded data removed]",
      "text/plain": [
       "<Figure size 432x288 with 1 Axes>"
      ]
     },
     "metadata": {
      "needs_background": "light"
     },
     "output_type": "display_data"
    }
   ],
   "source": [
    "sns.pointplot(x='weathersit', y='cnt', hue='season', data=bike_df);"
   ]
  },
  {
   "cell_type": "markdown",
   "id": "f5e76f15",
   "metadata": {},
   "source": [
    "It appears season 1 (spring) is the only season with the worst performing weather situation.  That may explain why spring is the least biked, but that will require further analysis.  "
   ]
  },
  {
   "cell_type": "code",
   "execution_count": 307,
   "id": "5e711db4",
   "metadata": {},
   "outputs": [
    {
     "data": {
      "image/png": "[encoded data removed]",
      "text/plain": [
       "<Figure size 432x288 with 1 Axes>"
      ]
     },
     "metadata": {
      "needs_background": "light"
     },
     "output_type": "display_data"
    }
   ],
   "source": [
    "sns.barplot(x='hr', y='cnt', data=bike_df);"
   ]
  },
  {
   "cell_type": "markdown",
   "id": "99d34dec",
   "metadata": {},
   "source": [
    "If we can assume the hour measure is parrallel to the 24 hour cycle and 0 is the 0 hour and 23 is day end, then most bike rides occur in the evening, but a noticable amount occure in the morning.  But the timming assumption may be rather bold as the month assumption doesn't appear to hold with our data."
   ]
  },
  {
   "cell_type": "code",
   "execution_count": 308,
   "id": "a21fee49",
   "metadata": {},
   "outputs": [
    {
     "data": {
      "image/png": "[encoded data removed]",
      "text/plain": [
       "<Figure size 432x288 with 1 Axes>"
      ]
     },
     "metadata": {
      "needs_background": "light"
     },
     "output_type": "display_data"
    }
   ],
   "source": [
    "sns.barplot(x='hr', y='cnt', data=bike_df[bike_df['workingday'] == 0]);"
   ]
  },
  {
   "cell_type": "markdown",
   "id": "d2ba7fa4",
   "metadata": {},
   "source": [
    "I am less confident on our assumption of the 24 hour cycle parallel because of the proportion of people that woule be biking between midnight and 3 am.  But I don't know if we will be able to make a determination on that.  Or if it is even worth it to look into further. That said, there is a noticeable change in behvior on non owrkingdays.  There is a lot more biking around lunch time.  It may be influenced more by availability of light rather than free time.  But that is likely going beyong the current analysis objective.  "
   ]
  },
  {
   "cell_type": "markdown",
   "id": "49101d60",
   "metadata": {},
   "source": [
    "# Part 2"
   ]
  },
  {
   "cell_type": "code",
   "execution_count": 187,
   "id": "e6d576d5",
   "metadata": {},
   "outputs": [
    {
     "data": {
      "image/png": "[encoded data removed]",
      "text/plain": [
       "<Figure size 1008x504 with 2 Axes>"
      ]
     },
     "metadata": {
      "needs_background": "light"
     },
     "output_type": "display_data"
    }
   ],
   "source": [
    "fig, ax = plt.subplots(figsize=(14,7))\n",
    "mask = np.zeros_like(bike_df.corr(), dtype=bool)\n",
    "mask[np.triu_indices_from(mask)] = True\n",
    "ax = sns.heatmap(bike_df.corr(), mask=mask, ax=ax, annot=True, annot_kws={'fontsize':10}, cmap=\"viridis\")\n",
    "ax.set_xticklabels(ax.xaxis.get_ticklabels(), fontsize=14)\n",
    "ax.set_yticklabels(ax.yaxis.get_ticklabels(), fontsize=14)\n",
    "plt.tight_layout()\n",
    "plt.show();"
   ]
  },
  {
   "cell_type": "markdown",
   "id": "95d391d7",
   "metadata": {},
   "source": [
    "Some potentially worthy observations: \n",
    "* casual and count are growing together.  It is likely that the casual audience is growing more than the non-casual audience. (Same with registered, but that kind of means the same thing)\n",
    "* causual is also correlated with temp and atemp.  I think its same to understand that as the temperature increases, more casual bikers go out to bike.  \n",
    "* hummidity and count have a correlation that makes sense showing participation decreases as humidity increases.\n",
    "* year and count are less correlated than I expected.  With the strong correlation of casual and registered, I would have expected more of a correlation between year and count showing the growth over the years.  How little a year changes may influence that, but I don't see what I would have expected between month and count either. (though the weather patterns may be influenceing that as well)  \n",
    "    "
   ]
  },
  {
   "cell_type": "markdown",
   "id": "9846a61e",
   "metadata": {},
   "source": [
    "#### Scaling"
   ]
  },
  {
   "cell_type": "code",
   "execution_count": 188,
   "id": "4484cca5",
   "metadata": {},
   "outputs": [],
   "source": [
    "scaler = StandardScaler()\n",
    "bike_df[['yr','mnth','hr','temp','atemp','hum','windspeed','casual','registered']] = scaler.fit(bike_df[['yr','mnth','hr','temp','atemp','hum','windspeed','casual','registered']]).transform(bike_df[['yr','mnth','hr','temp','atemp','hum','windspeed','casual','registered']])"
   ]
  },
  {
   "cell_type": "code",
   "execution_count": 189,
   "id": "f40e8aed",
   "metadata": {},
   "outputs": [
    {
     "data": {
      "text/html": [
       "<div>\n",
       "<style scoped>\n",
       "    .dataframe tbody tr th:only-of-type {\n",
       "        vertical-align: middle;\n",
       "    }\n",
       "\n",
       "    .dataframe tbody tr th {\n",
       "        vertical-align: top;\n",
       "    }\n",
       "\n",
       "    .dataframe thead th {\n",
       "        text-align: right;\n",
       "    }\n",
       "</style>\n",
       "<table border=\"1\" class=\"dataframe\">\n",
       "  <thead>\n",
       "    <tr style=\"text-align: right;\">\n",
       "      <th></th>\n",
       "      <th>instant</th>\n",
       "      <th>dteday</th>\n",
       "      <th>season</th>\n",
       "      <th>yr</th>\n",
       "      <th>mnth</th>\n",
       "      <th>hr</th>\n",
       "      <th>holiday</th>\n",
       "      <th>weekday</th>\n",
       "      <th>workingday</th>\n",
       "      <th>weathersit</th>\n",
       "      <th>temp</th>\n",
       "      <th>atemp</th>\n",
       "      <th>hum</th>\n",
       "      <th>windspeed</th>\n",
       "      <th>casual</th>\n",
       "      <th>registered</th>\n",
       "      <th>cnt</th>\n",
       "    </tr>\n",
       "  </thead>\n",
       "  <tbody>\n",
       "    <tr>\n",
       "      <th>15848</th>\n",
       "      <td>15849</td>\n",
       "      <td>2012-10-27</td>\n",
       "      <td>4</td>\n",
       "      <td>0.994892</td>\n",
       "      <td>1.006848</td>\n",
       "      <td>0.210183</td>\n",
       "      <td>0</td>\n",
       "      <td>6</td>\n",
       "      <td>0</td>\n",
       "      <td>1</td>\n",
       "      <td>0.534991</td>\n",
       "      <td>0.846255</td>\n",
       "      <td>-1.022312</td>\n",
       "      <td>0.519896</td>\n",
       "      <td>5.563969</td>\n",
       "      <td>1.957102</td>\n",
       "      <td>760</td>\n",
       "    </tr>\n",
       "    <tr>\n",
       "      <th>3172</th>\n",
       "      <td>3173</td>\n",
       "      <td>2011-05-17</td>\n",
       "      <td>2</td>\n",
       "      <td>-1.005134</td>\n",
       "      <td>-0.447200</td>\n",
       "      <td>-1.380744</td>\n",
       "      <td>0</td>\n",
       "      <td>2</td>\n",
       "      <td>1</td>\n",
       "      <td>3</td>\n",
       "      <td>0.327253</td>\n",
       "      <td>0.317291</td>\n",
       "      <td>1.310209</td>\n",
       "      <td>-1.553889</td>\n",
       "      <td>-0.642473</td>\n",
       "      <td>-0.989653</td>\n",
       "      <td>8</td>\n",
       "    </tr>\n",
       "    <tr>\n",
       "      <th>7744</th>\n",
       "      <td>7745</td>\n",
       "      <td>2011-11-24</td>\n",
       "      <td>4</td>\n",
       "      <td>-1.005134</td>\n",
       "      <td>1.297657</td>\n",
       "      <td>-0.657596</td>\n",
       "      <td>1</td>\n",
       "      <td>4</td>\n",
       "      <td>0</td>\n",
       "      <td>1</td>\n",
       "      <td>-1.230779</td>\n",
       "      <td>-1.181732</td>\n",
       "      <td>0.636370</td>\n",
       "      <td>-0.699689</td>\n",
       "      <td>-0.541060</td>\n",
       "      <td>-0.811262</td>\n",
       "      <td>40</td>\n",
       "    </tr>\n",
       "  </tbody>\n",
       "</table>\n",
       "</div>"
      ],
      "text/plain": [
       "       instant      dteday season        yr      mnth        hr holiday  \\\n",
       "15848    15849  2012-10-27      4  0.994892  1.006848  0.210183       0   \n",
       "3172      3173  2011-05-17      2 -1.005134 -0.447200 -1.380744       0   \n",
       "7744      7745  2011-11-24      4 -1.005134  1.297657 -0.657596       1   \n",
       "\n",
       "      weekday workingday weathersit      temp     atemp       hum  windspeed  \\\n",
       "15848       6          0          1  0.534991  0.846255 -1.022312   0.519896   \n",
       "3172        2          1          3  0.327253  0.317291  1.310209  -1.553889   \n",
       "7744        4          0          1 -1.230779 -1.181732  0.636370  -0.699689   \n",
       "\n",
       "         casual  registered  cnt  \n",
       "15848  5.563969    1.957102  760  \n",
       "3172  -0.642473   -0.989653    8  \n",
       "7744  -0.541060   -0.811262   40  "
      ]
     },
     "execution_count": 189,
     "metadata": {},
     "output_type": "execute_result"
    }
   ],
   "source": [
    "bike_df.sample(3)"
   ]
  },
  {
   "cell_type": "code",
   "execution_count": 190,
   "id": "a6f4b9cc",
   "metadata": {},
   "outputs": [],
   "source": [
    "bike_df.drop(columns=['casual','registered','dteday','instant'], inplace=True)"
   ]
  },
  {
   "cell_type": "code",
   "execution_count": 191,
   "id": "8cf8d653",
   "metadata": {},
   "outputs": [
    {
     "data": {
      "text/html": [
       "<div>\n",
       "<style scoped>\n",
       "    .dataframe tbody tr th:only-of-type {\n",
       "        vertical-align: middle;\n",
       "    }\n",
       "\n",
       "    .dataframe tbody tr th {\n",
       "        vertical-align: top;\n",
       "    }\n",
       "\n",
       "    .dataframe thead th {\n",
       "        text-align: right;\n",
       "    }\n",
       "</style>\n",
       "<table border=\"1\" class=\"dataframe\">\n",
       "  <thead>\n",
       "    <tr style=\"text-align: right;\">\n",
       "      <th></th>\n",
       "      <th>season</th>\n",
       "      <th>yr</th>\n",
       "      <th>mnth</th>\n",
       "      <th>hr</th>\n",
       "      <th>holiday</th>\n",
       "      <th>weekday</th>\n",
       "      <th>workingday</th>\n",
       "      <th>weathersit</th>\n",
       "      <th>temp</th>\n",
       "      <th>atemp</th>\n",
       "      <th>hum</th>\n",
       "      <th>windspeed</th>\n",
       "      <th>cnt</th>\n",
       "    </tr>\n",
       "  </thead>\n",
       "  <tbody>\n",
       "    <tr>\n",
       "      <th>8635</th>\n",
       "      <td>1</td>\n",
       "      <td>-1.005134</td>\n",
       "      <td>1.588467</td>\n",
       "      <td>0.354813</td>\n",
       "      <td>0</td>\n",
       "      <td>6</td>\n",
       "      <td>0</td>\n",
       "      <td>1</td>\n",
       "      <td>-0.192091</td>\n",
       "      <td>-0.123804</td>\n",
       "      <td>-0.607642</td>\n",
       "      <td>1.130506</td>\n",
       "      <td>300</td>\n",
       "    </tr>\n",
       "    <tr>\n",
       "      <th>3282</th>\n",
       "      <td>2</td>\n",
       "      <td>-1.005134</td>\n",
       "      <td>-0.447200</td>\n",
       "      <td>0.644072</td>\n",
       "      <td>0</td>\n",
       "      <td>6</td>\n",
       "      <td>0</td>\n",
       "      <td>2</td>\n",
       "      <td>1.158204</td>\n",
       "      <td>1.022576</td>\n",
       "      <td>-1.229647</td>\n",
       "      <td>0.519896</td>\n",
       "      <td>471</td>\n",
       "    </tr>\n",
       "    <tr>\n",
       "      <th>16389</th>\n",
       "      <td>4</td>\n",
       "      <td>0.994892</td>\n",
       "      <td>1.297657</td>\n",
       "      <td>0.499442</td>\n",
       "      <td>0</td>\n",
       "      <td>2</td>\n",
       "      <td>1</td>\n",
       "      <td>2</td>\n",
       "      <td>-0.192091</td>\n",
       "      <td>-0.123804</td>\n",
       "      <td>-0.400306</td>\n",
       "      <td>-0.699689</td>\n",
       "      <td>287</td>\n",
       "    </tr>\n",
       "  </tbody>\n",
       "</table>\n",
       "</div>"
      ],
      "text/plain": [
       "      season        yr      mnth        hr holiday weekday workingday  \\\n",
       "8635       1 -1.005134  1.588467  0.354813       0       6          0   \n",
       "3282       2 -1.005134 -0.447200  0.644072       0       6          0   \n",
       "16389      4  0.994892  1.297657  0.499442       0       2          1   \n",
       "\n",
       "      weathersit      temp     atemp       hum  windspeed  cnt  \n",
       "8635           1 -0.192091 -0.123804 -0.607642   1.130506  300  \n",
       "3282           2  1.158204  1.022576 -1.229647   0.519896  471  \n",
       "16389          2 -0.192091 -0.123804 -0.400306  -0.699689  287  "
      ]
     },
     "execution_count": 191,
     "metadata": {},
     "output_type": "execute_result"
    }
   ],
   "source": [
    "bike_df.sample(3)"
   ]
  },
  {
   "cell_type": "code",
   "execution_count": 192,
   "id": "f359df6f",
   "metadata": {},
   "outputs": [
    {
     "data": {
      "image/png": "[encoded data removed]",
      "text/plain": [
       "<Figure size 432x288 with 1 Axes>"
      ]
     },
     "metadata": {
      "needs_background": "light"
     },
     "output_type": "display_data"
    }
   ],
   "source": [
    "sns.histplot(x='cnt', data=bike_df);"
   ]
  },
  {
   "cell_type": "markdown",
   "id": "4c322916",
   "metadata": {},
   "source": [
    "The distribution is skewed.  This is notable, so lets keep this in the back of our minds.  But we can hold off on the alarm bells for now. Lets see what model performance looks like first.  "
   ]
  },
  {
   "cell_type": "markdown",
   "id": "ea864d65",
   "metadata": {},
   "source": [
    "#### Train Test Split"
   ]
  },
  {
   "cell_type": "code",
   "execution_count": 193,
   "id": "8bcf61d7",
   "metadata": {},
   "outputs": [],
   "source": [
    "y = bike_df['cnt']\n",
    "bike_df.drop(columns=['cnt'], inplace=True)\n",
    "X_train, X_test, y_train, y_test = train_test_split(bike_df, y, test_size=.33, random_state=1)"
   ]
  },
  {
   "cell_type": "code",
   "execution_count": 194,
   "id": "55cc1ece",
   "metadata": {},
   "outputs": [
    {
     "data": {
      "text/html": [
       "<div>\n",
       "<style scoped>\n",
       "    .dataframe tbody tr th:only-of-type {\n",
       "        vertical-align: middle;\n",
       "    }\n",
       "\n",
       "    .dataframe tbody tr th {\n",
       "        vertical-align: top;\n",
       "    }\n",
       "\n",
       "    .dataframe thead th {\n",
       "        text-align: right;\n",
       "    }\n",
       "</style>\n",
       "<table border=\"1\" class=\"dataframe\">\n",
       "  <thead>\n",
       "    <tr style=\"text-align: right;\">\n",
       "      <th></th>\n",
       "      <th>season</th>\n",
       "      <th>yr</th>\n",
       "      <th>mnth</th>\n",
       "      <th>hr</th>\n",
       "      <th>holiday</th>\n",
       "      <th>weekday</th>\n",
       "      <th>workingday</th>\n",
       "      <th>weathersit</th>\n",
       "      <th>temp</th>\n",
       "      <th>atemp</th>\n",
       "      <th>hum</th>\n",
       "      <th>windspeed</th>\n",
       "    </tr>\n",
       "  </thead>\n",
       "  <tbody>\n",
       "    <tr>\n",
       "      <th>3754</th>\n",
       "      <td>2</td>\n",
       "      <td>-1.005134</td>\n",
       "      <td>-0.156390</td>\n",
       "      <td>-0.512966</td>\n",
       "      <td>0</td>\n",
       "      <td>5</td>\n",
       "      <td>1</td>\n",
       "      <td>1</td>\n",
       "      <td>1.262073</td>\n",
       "      <td>1.198898</td>\n",
       "      <td>-0.244805</td>\n",
       "      <td>-0.456099</td>\n",
       "    </tr>\n",
       "    <tr>\n",
       "      <th>4020</th>\n",
       "      <td>3</td>\n",
       "      <td>-1.005134</td>\n",
       "      <td>-0.156390</td>\n",
       "      <td>-0.223706</td>\n",
       "      <td>0</td>\n",
       "      <td>2</td>\n",
       "      <td>1</td>\n",
       "      <td>2</td>\n",
       "      <td>0.742729</td>\n",
       "      <td>0.582064</td>\n",
       "      <td>1.051040</td>\n",
       "      <td>0.031899</td>\n",
       "    </tr>\n",
       "    <tr>\n",
       "      <th>5524</th>\n",
       "      <td>3</td>\n",
       "      <td>-1.005134</td>\n",
       "      <td>0.425229</td>\n",
       "      <td>-1.380744</td>\n",
       "      <td>0</td>\n",
       "      <td>2</td>\n",
       "      <td>1</td>\n",
       "      <td>1</td>\n",
       "      <td>0.327253</td>\n",
       "      <td>0.317291</td>\n",
       "      <td>-0.555808</td>\n",
       "      <td>0.031899</td>\n",
       "    </tr>\n",
       "  </tbody>\n",
       "</table>\n",
       "</div>"
      ],
      "text/plain": [
       "     season        yr      mnth        hr holiday weekday workingday  \\\n",
       "3754      2 -1.005134 -0.156390 -0.512966       0       5          1   \n",
       "4020      3 -1.005134 -0.156390 -0.223706       0       2          1   \n",
       "5524      3 -1.005134  0.425229 -1.380744       0       2          1   \n",
       "\n",
       "     weathersit      temp     atemp       hum  windspeed  \n",
       "3754          1  1.262073  1.198898 -0.244805  -0.456099  \n",
       "4020          2  0.742729  0.582064  1.051040   0.031899  \n",
       "5524          1  0.327253  0.317291 -0.555808   0.031899  "
      ]
     },
     "execution_count": 194,
     "metadata": {},
     "output_type": "execute_result"
    }
   ],
   "source": [
    "X_train.sample(3)"
   ]
  },
  {
   "cell_type": "code",
   "execution_count": 195,
   "id": "2ce82b3c",
   "metadata": {},
   "outputs": [
    {
     "data": {
      "text/plain": [
       "16345    210\n",
       "2504      65\n",
       "16095    275\n",
       "Name: cnt, dtype: int64"
      ]
     },
     "execution_count": 195,
     "metadata": {},
     "output_type": "execute_result"
    }
   ],
   "source": [
    "y_train.sample(3)"
   ]
  },
  {
   "cell_type": "markdown",
   "id": "c165a6b9",
   "metadata": {},
   "source": [
    "## Linear Model"
   ]
  },
  {
   "cell_type": "code",
   "execution_count": 196,
   "id": "c282733d",
   "metadata": {},
   "outputs": [],
   "source": [
    "linear = LinearRegression().fit(X_train, y_train)\n",
    "scores = cross_val_score(linear, X_train, y_train, cv=10)\n",
    "mse = cross_val_score(linear, X_train, y_train, scoring='neg_mean_squared_error',cv=10)"
   ]
  },
  {
   "cell_type": "markdown",
   "id": "eff59414",
   "metadata": {},
   "source": [
    "#### R2"
   ]
  },
  {
   "cell_type": "code",
   "execution_count": 197,
   "id": "d2126e2e",
   "metadata": {},
   "outputs": [
    {
     "data": {
      "text/plain": [
       "0.38225433816479293"
      ]
     },
     "execution_count": 197,
     "metadata": {},
     "output_type": "execute_result"
    }
   ],
   "source": [
    "scores.mean()"
   ]
  },
  {
   "cell_type": "markdown",
   "id": "2625c2ac",
   "metadata": {},
   "source": [
    "#### MSE"
   ]
  },
  {
   "cell_type": "code",
   "execution_count": 198,
   "id": "2742f6e6",
   "metadata": {},
   "outputs": [
    {
     "data": {
      "text/plain": [
       "-19914.730056064203"
      ]
     },
     "execution_count": 198,
     "metadata": {},
     "output_type": "execute_result"
    }
   ],
   "source": [
    "mse.mean()"
   ]
  },
  {
   "cell_type": "markdown",
   "id": "643080b6",
   "metadata": {},
   "source": [
    "#### RMSE"
   ]
  },
  {
   "cell_type": "code",
   "execution_count": 199,
   "id": "5011105f",
   "metadata": {},
   "outputs": [
    {
     "data": {
      "text/plain": [
       "141.1195594383153"
      ]
     },
     "execution_count": 199,
     "metadata": {},
     "output_type": "execute_result"
    }
   ],
   "source": [
    "np.sqrt(-mse.mean())"
   ]
  },
  {
   "cell_type": "markdown",
   "id": "68e1fd2c",
   "metadata": {},
   "source": [
    "# Part 3\n",
    "Going to use the original data to create the new test data.  "
   ]
  },
  {
   "cell_type": "code",
   "execution_count": 209,
   "id": "71574884",
   "metadata": {},
   "outputs": [],
   "source": [
    "#Seem to have null problems when I was doing them all at once, todo:Look into that\n",
    "bike_df = pd.concat([pd.get_dummies(bike_df['season'], prefix=\"season\"),bike_df], axis=1)\n",
    "bike_df = pd.concat([pd.get_dummies(bike_df['holiday'], prefix=\"holiday\"), bike_df], axis=1)\n",
    "bike_df = pd.concat([pd.get_dummies(bike_df['weekday'], prefix=\"weekday\"), bike_df], axis=1)\n",
    "bike_df = pd.concat([pd.get_dummies(bike_df['workingday'], prefix=\"workingday\"), bike_df], axis=1)\n",
    "bike_df = pd.concat([pd.get_dummies(bike_df['weathersit'], prefix=\"weathersit\"), bike_df], axis=1)"
   ]
  },
  {
   "cell_type": "code",
   "execution_count": 211,
   "id": "59a1b394",
   "metadata": {},
   "outputs": [],
   "source": [
    "bike_df.drop(columns=['season', 'holiday', 'weekday', 'workingday', 'weathersit'], inplace=True)"
   ]
  },
  {
   "cell_type": "code",
   "execution_count": 219,
   "id": "4057a742",
   "metadata": {},
   "outputs": [
    {
     "data": {
      "text/html": [
       "<div>\n",
       "<style scoped>\n",
       "    .dataframe tbody tr th:only-of-type {\n",
       "        vertical-align: middle;\n",
       "    }\n",
       "\n",
       "    .dataframe tbody tr th {\n",
       "        vertical-align: top;\n",
       "    }\n",
       "\n",
       "    .dataframe thead th {\n",
       "        text-align: right;\n",
       "    }\n",
       "</style>\n",
       "<table border=\"1\" class=\"dataframe\">\n",
       "  <thead>\n",
       "    <tr style=\"text-align: right;\">\n",
       "      <th></th>\n",
       "      <th>weathersit_1</th>\n",
       "      <th>weathersit_2</th>\n",
       "      <th>weathersit_3</th>\n",
       "      <th>weathersit_4</th>\n",
       "      <th>workingday_0</th>\n",
       "      <th>workingday_1</th>\n",
       "      <th>weekday_0</th>\n",
       "      <th>weekday_1</th>\n",
       "      <th>weekday_2</th>\n",
       "      <th>weekday_3</th>\n",
       "      <th>...</th>\n",
       "      <th>season_2</th>\n",
       "      <th>season_3</th>\n",
       "      <th>season_4</th>\n",
       "      <th>yr</th>\n",
       "      <th>mnth</th>\n",
       "      <th>hr</th>\n",
       "      <th>temp</th>\n",
       "      <th>atemp</th>\n",
       "      <th>hum</th>\n",
       "      <th>windspeed</th>\n",
       "    </tr>\n",
       "  </thead>\n",
       "  <tbody>\n",
       "    <tr>\n",
       "      <th>842</th>\n",
       "      <td>0</td>\n",
       "      <td>1</td>\n",
       "      <td>0</td>\n",
       "      <td>0</td>\n",
       "      <td>0</td>\n",
       "      <td>1</td>\n",
       "      <td>0</td>\n",
       "      <td>1</td>\n",
       "      <td>0</td>\n",
       "      <td>0</td>\n",
       "      <td>...</td>\n",
       "      <td>0</td>\n",
       "      <td>0</td>\n",
       "      <td>0</td>\n",
       "      <td>-1.005134</td>\n",
       "      <td>-1.319628</td>\n",
       "      <td>0.210183</td>\n",
       "      <td>-0.711435</td>\n",
       "      <td>-0.652768</td>\n",
       "      <td>-0.296639</td>\n",
       "      <td>-0.821484</td>\n",
       "    </tr>\n",
       "    <tr>\n",
       "      <th>4693</th>\n",
       "      <td>1</td>\n",
       "      <td>0</td>\n",
       "      <td>0</td>\n",
       "      <td>0</td>\n",
       "      <td>0</td>\n",
       "      <td>1</td>\n",
       "      <td>0</td>\n",
       "      <td>0</td>\n",
       "      <td>1</td>\n",
       "      <td>0</td>\n",
       "      <td>...</td>\n",
       "      <td>0</td>\n",
       "      <td>1</td>\n",
       "      <td>0</td>\n",
       "      <td>-1.005134</td>\n",
       "      <td>0.134419</td>\n",
       "      <td>-0.079077</td>\n",
       "      <td>1.677548</td>\n",
       "      <td>1.904183</td>\n",
       "      <td>-0.192971</td>\n",
       "      <td>-1.553889</td>\n",
       "    </tr>\n",
       "    <tr>\n",
       "      <th>14939</th>\n",
       "      <td>1</td>\n",
       "      <td>0</td>\n",
       "      <td>0</td>\n",
       "      <td>0</td>\n",
       "      <td>0</td>\n",
       "      <td>1</td>\n",
       "      <td>0</td>\n",
       "      <td>0</td>\n",
       "      <td>0</td>\n",
       "      <td>1</td>\n",
       "      <td>...</td>\n",
       "      <td>0</td>\n",
       "      <td>1</td>\n",
       "      <td>0</td>\n",
       "      <td>0.994892</td>\n",
       "      <td>0.716038</td>\n",
       "      <td>0.644072</td>\n",
       "      <td>0.638860</td>\n",
       "      <td>0.846255</td>\n",
       "      <td>-1.436983</td>\n",
       "      <td>-1.553889</td>\n",
       "    </tr>\n",
       "  </tbody>\n",
       "</table>\n",
       "<p>3 rows × 26 columns</p>\n",
       "</div>"
      ],
      "text/plain": [
       "       weathersit_1  weathersit_2  weathersit_3  weathersit_4  workingday_0  \\\n",
       "842               0             1             0             0             0   \n",
       "4693              1             0             0             0             0   \n",
       "14939             1             0             0             0             0   \n",
       "\n",
       "       workingday_1  weekday_0  weekday_1  weekday_2  weekday_3  ...  \\\n",
       "842               1          0          1          0          0  ...   \n",
       "4693              1          0          0          1          0  ...   \n",
       "14939             1          0          0          0          1  ...   \n",
       "\n",
       "       season_2  season_3  season_4        yr      mnth        hr      temp  \\\n",
       "842           0         0         0 -1.005134 -1.319628  0.210183 -0.711435   \n",
       "4693          0         1         0 -1.005134  0.134419 -0.079077  1.677548   \n",
       "14939         0         1         0  0.994892  0.716038  0.644072  0.638860   \n",
       "\n",
       "          atemp       hum  windspeed  \n",
       "842   -0.652768 -0.296639  -0.821484  \n",
       "4693   1.904183 -0.192971  -1.553889  \n",
       "14939  0.846255 -1.436983  -1.553889  \n",
       "\n",
       "[3 rows x 26 columns]"
      ]
     },
     "execution_count": 219,
     "metadata": {},
     "output_type": "execute_result"
    }
   ],
   "source": [
    "bike_df.sample(3)"
   ]
  },
  {
   "cell_type": "markdown",
   "id": "83165c86",
   "metadata": {},
   "source": [
    "#### New Train Test Split"
   ]
  },
  {
   "cell_type": "code",
   "execution_count": 220,
   "id": "41230307",
   "metadata": {},
   "outputs": [],
   "source": [
    "X_train2, X_test2, y_train2, y_test2 = train_test_split(bike_df, y, test_size=.33, random_state=12)"
   ]
  },
  {
   "cell_type": "code",
   "execution_count": 221,
   "id": "c4affd6f",
   "metadata": {},
   "outputs": [],
   "source": [
    "linear2 = LinearRegression().fit(X_train2, y_train2)\n",
    "scores2 = cross_val_score(linear2, X_train2, y_train2, cv=10)\n",
    "mse2 = cross_val_score(linear2, X_train2, y_train2, scoring='neg_mean_squared_error',cv=10)"
   ]
  },
  {
   "cell_type": "markdown",
   "id": "0cf8ea74",
   "metadata": {},
   "source": [
    "#### New R2"
   ]
  },
  {
   "cell_type": "code",
   "execution_count": 222,
   "id": "05539e77",
   "metadata": {},
   "outputs": [
    {
     "data": {
      "text/plain": [
       "0.3951164659281761"
      ]
     },
     "execution_count": 222,
     "metadata": {},
     "output_type": "execute_result"
    }
   ],
   "source": [
    "scores2.mean()"
   ]
  },
  {
   "cell_type": "markdown",
   "id": "36e902b9",
   "metadata": {},
   "source": [
    "#### New MSE\n",
    "\n"
   ]
  },
  {
   "cell_type": "code",
   "execution_count": 223,
   "id": "029badd8",
   "metadata": {},
   "outputs": [
    {
     "data": {
      "text/plain": [
       "-19914.730056064203"
      ]
     },
     "execution_count": 223,
     "metadata": {},
     "output_type": "execute_result"
    }
   ],
   "source": [
    "mse.mean()"
   ]
  },
  {
   "cell_type": "markdown",
   "id": "bff2f30c",
   "metadata": {},
   "source": [
    "#### New RMSE"
   ]
  },
  {
   "cell_type": "code",
   "execution_count": 224,
   "id": "e10f9909",
   "metadata": {},
   "outputs": [
    {
     "data": {
      "text/plain": [
       "139.59578510077233"
      ]
     },
     "execution_count": 224,
     "metadata": {},
     "output_type": "execute_result"
    }
   ],
   "source": [
    "np.sqrt(-mse2.mean())"
   ]
  },
  {
   "cell_type": "markdown",
   "id": "0ee75c5b",
   "metadata": {},
   "source": [
    "### Additional Models"
   ]
  },
  {
   "cell_type": "code",
   "execution_count": 250,
   "id": "77bfc887",
   "metadata": {},
   "outputs": [],
   "source": [
    "table = PrettyTable()\n",
    "table.field_names = ['Model', 'R2', 'MSE', 'RMSE']"
   ]
  },
  {
   "cell_type": "code",
   "execution_count": 236,
   "id": "934ccfdc",
   "metadata": {},
   "outputs": [],
   "source": [
    "mods = [DecisionTreeRegressor(random_state=0), \n",
    "        RandomForestRegressor(random_state=0,n_estimators=30),\n",
    "       SGDRegressor(max_iter=1000, tol=1e-3),\n",
    "       Lasso(alpha=.1),\n",
    "       ElasticNet(random_state=0),\n",
    "       Ridge(alpha=.5),\n",
    "       BaggingRegressor()]"
   ]
  },
  {
   "cell_type": "code",
   "execution_count": 252,
   "id": "651e7201",
   "metadata": {},
   "outputs": [
    {
     "name": "stdout",
     "output_type": "stream",
     "text": [
      "+-----------------------+---------------------+--------------------+--------------------+\n",
      "|         Model         |          R2         |        MSE         |        RMSE        |\n",
      "+-----------------------+---------------------+--------------------+--------------------+\n",
      "| DecisionTreeRegressor |  0.9999952620765911 | 0.1527527269604054 | 0.3908359335583224 |\n",
      "| RandomForestRegressor |  0.990571383893309  | 303.98271509330965 | 17.435100088422484 |\n",
      "|      SGDRegressor     |  0.3970730675503964 | 19438.62851716363  | 139.42248210802887 |\n",
      "|         Lasso         | 0.39766456540385287 | 19419.558367161666 | 139.3540755312225  |\n",
      "|       ElasticNet      |  0.3629657921791921 | 20538.262021641163 | 143.31176511941078 |\n",
      "|         Ridge         |  0.3977074937591353 | 19418.17433817527  | 139.3491095708016  |\n",
      "|    BaggingRegressor   |  0.9884920725884555 | 371.0206227587869  | 19.26189561696322  |\n",
      "+-----------------------+---------------------+--------------------+--------------------+\n"
     ]
    }
   ],
   "source": [
    "for mod in mods:\n",
    "    #print(mod)\n",
    "    mod.fit(X_train2, y_train2)\n",
    "    y_hat = mod.predict(X_train2)\n",
    "    mse = mean_squared_error(y_train2,y_hat)\n",
    "    #print(mse)\n",
    "    score = r2_score(y_train2, y_hat)\n",
    "    rmse = np.sqrt(mse)\n",
    "    table.add_row([type(mod).__name__, score, mse, rmse])\n",
    "    \n",
    "print(table)"
   ]
  },
  {
   "cell_type": "markdown",
   "id": "eb118d54",
   "metadata": {},
   "source": [
    "Interesting results.  I guess this is one of those scenarios where Decision Tree actually beats Random Forrest."
   ]
  },
  {
   "cell_type": "markdown",
   "id": "9eea3044",
   "metadata": {},
   "source": [
    "# Part 4"
   ]
  },
  {
   "cell_type": "code",
   "execution_count": 253,
   "id": "11a72645",
   "metadata": {},
   "outputs": [],
   "source": [
    "best_models = [DecisionTreeRegressor(random_state=0), RandomForestRegressor(random_state=0,n_estimators=30),BaggingRegressor()]"
   ]
  },
  {
   "cell_type": "code",
   "execution_count": 270,
   "id": "992f7062",
   "metadata": {},
   "outputs": [],
   "source": [
    "p4_table = PrettyTable()\n",
    "p4_table.field_names = ['Model', 'R2', 'MSE', 'RMSE']"
   ]
  },
  {
   "cell_type": "code",
   "execution_count": 271,
   "id": "9bf86fab",
   "metadata": {},
   "outputs": [
    {
     "name": "stdout",
     "output_type": "stream",
     "text": [
      "+-----------------------+--------------------+--------------------+-------------------+\n",
      "|         Model         |         R2         |        MSE         |        RMSE       |\n",
      "+-----------------------+--------------------+--------------------+-------------------+\n",
      "| DecisionTreeRegressor | 0.880721659453406  | -4113.26333052805  | 64.13472796019369 |\n",
      "| RandomForestRegressor | 0.936955459235375  | -2076.958478006491 | 45.57365991454374 |\n",
      "|    BaggingRegressor   | 0.9328776806445749 | -2255.377154707886 | 47.49081126605321 |\n",
      "+-----------------------+--------------------+--------------------+-------------------+\n"
     ]
    }
   ],
   "source": [
    "for model in best_models:\n",
    "    mse = cross_val_score(model, X_train2, y_train2, scoring='neg_mean_squared_error').mean()\n",
    "    scores = cross_val_score(model,X_train2, y_train2, cv=10)\n",
    "    r2 = scores.mean()\n",
    "    #print(mse)\n",
    "    rmse = np.sqrt(-mse)\n",
    "    p4_table.add_row([type(model).__name__, r2, mse, rmse])\n",
    "    \n",
    "print(p4_table)"
   ]
  },
  {
   "cell_type": "markdown",
   "id": "6cf8b068",
   "metadata": {},
   "source": [
    "Random Forest Prevails once again."
   ]
  },
  {
   "cell_type": "markdown",
   "id": "fbc68a64",
   "metadata": {},
   "source": [
    "### Randomize Search CV"
   ]
  },
  {
   "cell_type": "code",
   "execution_count": 273,
   "id": "17f849f7",
   "metadata": {},
   "outputs": [],
   "source": [
    "boostrap = [True, False]\n",
    "max_depth = [int(x) for x in np.linspace(10,110,11)]\n",
    "max_features = ['auto', 'sqrt']\n",
    "min_samples_split = [2,5,10]\n",
    "min_samples_leaf = [1,2,4]\n",
    "n_estimators = [int(x) for x in np.linspace(200,2000,10)]\n",
    "forest = RandomForestRegressor(random_state=0)"
   ]
  },
  {
   "cell_type": "code",
   "execution_count": 281,
   "id": "d7d3c724",
   "metadata": {},
   "outputs": [],
   "source": [
    "grid = {\n",
    "    'bootstrap': boostrap,\n",
    "    'max_depth': max_depth,\n",
    "    'max_features': max_features,\n",
    "    'min_samples_split': min_samples_split,\n",
    "    'min_samples_leaf': min_samples_leaf,\n",
    "    'n_estimators':n_estimators    \n",
    "}"
   ]
  },
  {
   "cell_type": "code",
   "execution_count": 282,
   "id": "6e876ec2",
   "metadata": {},
   "outputs": [
    {
     "data": {
      "text/plain": [
       "RandomizedSearchCV(cv=3, estimator=RandomForestRegressor(random_state=0),\n",
       "                   n_iter=20, n_jobs=-1,\n",
       "                   param_distributions={'bootstrap': [True, False],\n",
       "                                        'max_depth': [10, 20, 30, 40, 50, 60,\n",
       "                                                      70, 80, 90, 100, 110],\n",
       "                                        'max_features': ['auto', 'sqrt'],\n",
       "                                        'min_samples_leaf': [1, 2, 4],\n",
       "                                        'min_samples_split': [2, 5, 10],\n",
       "                                        'n_estimators': [200, 400, 600, 800,\n",
       "                                                         1000, 1200, 1400, 1600,\n",
       "                                                         1800, 2000]})"
      ]
     },
     "execution_count": 282,
     "metadata": {},
     "output_type": "execute_result"
    }
   ],
   "source": [
    "search = RandomizedSearchCV(estimator=forest, param_distributions=grid, n_iter=20, cv=3, n_jobs=-1 )\n",
    "search.fit(X_train2, y_train2)"
   ]
  },
  {
   "cell_type": "code",
   "execution_count": 283,
   "id": "28d9985a",
   "metadata": {},
   "outputs": [
    {
     "name": "stdout",
     "output_type": "stream",
     "text": [
      "RandomForestRegressor(max_depth=30, n_estimators=800, random_state=0)\n"
     ]
    }
   ],
   "source": [
    "print(search.best_estimator_)"
   ]
  },
  {
   "cell_type": "code",
   "execution_count": 284,
   "id": "0b5b8954",
   "metadata": {},
   "outputs": [
    {
     "name": "stdout",
     "output_type": "stream",
     "text": [
      "{'n_estimators': 800, 'min_samples_split': 2, 'min_samples_leaf': 1, 'max_features': 'auto', 'max_depth': 30, 'bootstrap': True}\n"
     ]
    }
   ],
   "source": [
    "print(search.best_params_)"
   ]
  },
  {
   "cell_type": "markdown",
   "id": "4ed607f7",
   "metadata": {},
   "source": [
    "### CV on Best Etimator"
   ]
  },
  {
   "cell_type": "markdown",
   "id": "f315913d",
   "metadata": {},
   "source": [
    "#### Best Model R2"
   ]
  },
  {
   "cell_type": "code",
   "execution_count": 291,
   "id": "32af4aa0",
   "metadata": {},
   "outputs": [],
   "source": [
    "#going to inherit 3 from above, cause this seems to be taking longer than the search did\n",
    "r2 = cross_val_score(search.best_estimator_,X_train2, y_train2, cv=3).mean()"
   ]
  },
  {
   "cell_type": "code",
   "execution_count": 292,
   "id": "c5236e19",
   "metadata": {},
   "outputs": [
    {
     "data": {
      "text/plain": [
       "0.9345696159843712"
      ]
     },
     "execution_count": 292,
     "metadata": {},
     "output_type": "execute_result"
    }
   ],
   "source": [
    "r2"
   ]
  },
  {
   "cell_type": "markdown",
   "id": "e3b90c54",
   "metadata": {},
   "source": [
    "#### Best Model MSE"
   ]
  },
  {
   "cell_type": "code",
   "execution_count": 289,
   "id": "638e4ede",
   "metadata": {},
   "outputs": [],
   "source": [
    "mse = cross_val_score(search.best_estimator_,X_train2, y_train2, cv=3, scoring='neg_mean_squared_error').mean()"
   ]
  },
  {
   "cell_type": "code",
   "execution_count": 290,
   "id": "47111942",
   "metadata": {},
   "outputs": [
    {
     "data": {
      "text/plain": [
       "-2107.9313707898423"
      ]
     },
     "execution_count": 290,
     "metadata": {},
     "output_type": "execute_result"
    }
   ],
   "source": [
    "mse"
   ]
  },
  {
   "cell_type": "markdown",
   "id": "70368014",
   "metadata": {},
   "source": [
    "#### Best Model RMSE"
   ]
  },
  {
   "cell_type": "code",
   "execution_count": 295,
   "id": "d17e8a1f",
   "metadata": {},
   "outputs": [
    {
     "data": {
      "text/plain": [
       "45.912213743075405"
      ]
     },
     "execution_count": 295,
     "metadata": {},
     "output_type": "execute_result"
    }
   ],
   "source": [
    "rmse = np.sqrt(-mse)\n",
    "rmse"
   ]
  },
  {
   "cell_type": "markdown",
   "id": "a77418c8",
   "metadata": {},
   "source": [
    "Performance slightly declined, but its a negligable difference.  "
   ]
  },
  {
   "cell_type": "markdown",
   "id": "5331f810",
   "metadata": {},
   "source": [
    "### Test Aginst Test Set"
   ]
  },
  {
   "cell_type": "code",
   "execution_count": 296,
   "id": "6aaac5e9",
   "metadata": {},
   "outputs": [],
   "source": [
    "testy_hat = search.best_estimator_.predict(X_test2)"
   ]
  },
  {
   "cell_type": "markdown",
   "id": "8f84c284",
   "metadata": {},
   "source": [
    "#### Test R2"
   ]
  },
  {
   "cell_type": "code",
   "execution_count": 297,
   "id": "f7120ba6",
   "metadata": {},
   "outputs": [
    {
     "data": {
      "text/plain": [
       "0.9451025897659858"
      ]
     },
     "execution_count": 297,
     "metadata": {},
     "output_type": "execute_result"
    }
   ],
   "source": [
    "r2_score(y_test2, testy_hat)"
   ]
  },
  {
   "cell_type": "markdown",
   "id": "a27e7f7e",
   "metadata": {},
   "source": [
    "#### Test RMSE"
   ]
  },
  {
   "cell_type": "code",
   "execution_count": 299,
   "id": "007263b3",
   "metadata": {},
   "outputs": [
    {
     "data": {
      "text/plain": [
       "43.34851789080203"
      ]
     },
     "execution_count": 299,
     "metadata": {},
     "output_type": "execute_result"
    }
   ],
   "source": [
    "mean_squared_error(y_test2, testy_hat, squared=False)"
   ]
  },
  {
   "cell_type": "markdown",
   "id": "206757a4",
   "metadata": {},
   "source": [
    "It appears the Random Forrest from the search may generalize decently.  The performance is slightly better against test.  "
   ]
  },
  {
   "cell_type": "code",
   "execution_count": null,
   "id": "1365efb5",
   "metadata": {},
   "outputs": [],
   "source": []
  }
 ],
 "metadata": {
  "kernelspec": {
   "display_name": "Python 3 (ipykernel)",
   "language": "python",
   "name": "python3"
  },
  "language_info": {
   "codemirror_mode": {
    "name": "ipython",
    "version": 3
   },
   "file_extension": ".py",
   "mimetype": "text/x-python",
   "name": "python",
   "nbconvert_exporter": "python",
   "pygments_lexer": "ipython3",
   "version": "3.8.12"
  }
 },
 "nbformat": 4,
 "nbformat_minor": 5
}
