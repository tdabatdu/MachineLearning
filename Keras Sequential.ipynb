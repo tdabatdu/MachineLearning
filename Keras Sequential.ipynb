{
 "cells": [
  {
   "cell_type": "code",
   "execution_count": 148,
   "id": "53763d62",
   "metadata": {},
   "outputs": [],
   "source": [
    "import numpy as np\n",
    "import pandas as pd\n",
    "from scipy.stats import reciprocal\n",
    "from sklearn.datasets import load_diabetes\n",
    "from sklearn.neural_network import MLPRegressor\n",
    "from sklearn.model_selection import train_test_split, GridSearchCV\n",
    "from sklearn.metrics import mean_squared_error\n",
    "from sklearn.preprocessing import StandardScaler\n",
    "import tensorflow as tf\n",
    "from tensorflow import keras"
   ]
  },
  {
   "cell_type": "markdown",
   "id": "73980ccb",
   "metadata": {},
   "source": [
    "# Keras Sequential"
   ]
  },
  {
   "cell_type": "code",
   "execution_count": 63,
   "id": "43c0e862",
   "metadata": {},
   "outputs": [],
   "source": [
    "titan = pd.read_csv('train.csv')\n",
    "titan.drop(columns='Cabin', inplace=True)\n",
    "\n",
    "#grouping by age to use later\n",
    "age_grouped = titan.groupby(['Pclass']).median('Age')\n",
    "\n",
    "### Function for null age\n",
    "def impute_age(row):\n",
    "    if pd.isna(row['Age']):\n",
    "        #print(row['Pclass'])\n",
    "        row['Age'] = age_grouped['Age'].iloc[int(row['Pclass'])-1] #hacky, but works\n",
    "    return row\n",
    "\n",
    "titan[['Age', 'Pclass']] = titan[['Age', 'Pclass']].apply(impute_age, axis=1)\n",
    "titan = titan.dropna()"
   ]
  },
  {
   "cell_type": "code",
   "execution_count": 64,
   "id": "ae62e37f",
   "metadata": {},
   "outputs": [],
   "source": [
    "##Dummy Variables\n",
    "titan = pd.concat([pd.get_dummies(titan['Sex']), titan], axis=1)\n",
    "titan = pd.concat([pd.get_dummies(titan['Embarked'], prefix=\"Embarked\"), titan], axis=1)\n",
    "\n",
    "##Dropping Noise\n",
    "survived = titan['Survived']\n",
    "titan.drop(columns=['Survived'], inplace=True)\n",
    "titan.drop(columns=['Name', 'Ticket', 'PassengerId', 'Sex','Embarked' ], inplace=True)"
   ]
  },
  {
   "cell_type": "code",
   "execution_count": 65,
   "id": "7b2e5368",
   "metadata": {},
   "outputs": [
    {
     "data": {
      "text/html": [
       "<div>\n",
       "<style scoped>\n",
       "    .dataframe tbody tr th:only-of-type {\n",
       "        vertical-align: middle;\n",
       "    }\n",
       "\n",
       "    .dataframe tbody tr th {\n",
       "        vertical-align: top;\n",
       "    }\n",
       "\n",
       "    .dataframe thead th {\n",
       "        text-align: right;\n",
       "    }\n",
       "</style>\n",
       "<table border=\"1\" class=\"dataframe\">\n",
       "  <thead>\n",
       "    <tr style=\"text-align: right;\">\n",
       "      <th></th>\n",
       "      <th>Embarked_C</th>\n",
       "      <th>Embarked_Q</th>\n",
       "      <th>Embarked_S</th>\n",
       "      <th>female</th>\n",
       "      <th>male</th>\n",
       "      <th>Pclass</th>\n",
       "      <th>Age</th>\n",
       "      <th>SibSp</th>\n",
       "      <th>Parch</th>\n",
       "      <th>Fare</th>\n",
       "    </tr>\n",
       "  </thead>\n",
       "  <tbody>\n",
       "    <tr>\n",
       "      <th>279</th>\n",
       "      <td>0</td>\n",
       "      <td>0</td>\n",
       "      <td>1</td>\n",
       "      <td>1</td>\n",
       "      <td>0</td>\n",
       "      <td>3.0</td>\n",
       "      <td>35.0</td>\n",
       "      <td>1</td>\n",
       "      <td>1</td>\n",
       "      <td>20.250</td>\n",
       "    </tr>\n",
       "    <tr>\n",
       "      <th>544</th>\n",
       "      <td>1</td>\n",
       "      <td>0</td>\n",
       "      <td>0</td>\n",
       "      <td>0</td>\n",
       "      <td>1</td>\n",
       "      <td>1.0</td>\n",
       "      <td>50.0</td>\n",
       "      <td>1</td>\n",
       "      <td>0</td>\n",
       "      <td>106.425</td>\n",
       "    </tr>\n",
       "    <tr>\n",
       "      <th>221</th>\n",
       "      <td>0</td>\n",
       "      <td>0</td>\n",
       "      <td>1</td>\n",
       "      <td>0</td>\n",
       "      <td>1</td>\n",
       "      <td>2.0</td>\n",
       "      <td>27.0</td>\n",
       "      <td>0</td>\n",
       "      <td>0</td>\n",
       "      <td>13.000</td>\n",
       "    </tr>\n",
       "  </tbody>\n",
       "</table>\n",
       "</div>"
      ],
      "text/plain": [
       "     Embarked_C  Embarked_Q  Embarked_S  female  male  Pclass   Age  SibSp  \\\n",
       "279           0           0           1       1     0     3.0  35.0      1   \n",
       "544           1           0           0       0     1     1.0  50.0      1   \n",
       "221           0           0           1       0     1     2.0  27.0      0   \n",
       "\n",
       "     Parch     Fare  \n",
       "279      1   20.250  \n",
       "544      0  106.425  \n",
       "221      0   13.000  "
      ]
     },
     "execution_count": 65,
     "metadata": {},
     "output_type": "execute_result"
    }
   ],
   "source": [
    "titan.sample(3)"
   ]
  },
  {
   "cell_type": "code",
   "execution_count": 78,
   "id": "c38a2d49",
   "metadata": {},
   "outputs": [
    {
     "data": {
      "text/plain": [
       "(889, 10)"
      ]
     },
     "execution_count": 78,
     "metadata": {},
     "output_type": "execute_result"
    }
   ],
   "source": [
    "titan.shape"
   ]
  },
  {
   "cell_type": "code",
   "execution_count": 97,
   "id": "4b8fd9ad",
   "metadata": {},
   "outputs": [],
   "source": [
    "##Model creation\n",
    "p2_model = keras.models.Sequential()\n",
    "p2_model.add(keras.layers.Dense(100, input_dim=10, activation='relu'))\n",
    "p2_model.add(keras.layers.Dense(100, activation='relu'))\n",
    "p2_model.add(keras.layers.Dense(200, activation='relu'))\n",
    "p2_model.add(keras.layers.Dense(100, activation='relu'))\n",
    "p2_model.add(keras.layers.Dense(1, activation='relu'))\n",
    "p2_model.compile(loss='binary_crossentropy', optimizer='adam', metrics=['accuracy'])"
   ]
  },
  {
   "cell_type": "code",
   "execution_count": 103,
   "id": "94f0cf1b",
   "metadata": {},
   "outputs": [
    {
     "name": "stdout",
     "output_type": "stream",
     "text": [
      "Model: \"sequential_15\"\n",
      "_________________________________________________________________\n",
      "Layer (type)                 Output Shape              Param #   \n",
      "=================================================================\n",
      "dense_20 (Dense)             (None, 100)               1100      \n",
      "_________________________________________________________________\n",
      "dense_21 (Dense)             (None, 100)               10100     \n",
      "_________________________________________________________________\n",
      "dense_22 (Dense)             (None, 200)               20200     \n",
      "_________________________________________________________________\n",
      "dense_23 (Dense)             (None, 100)               20100     \n",
      "_________________________________________________________________\n",
      "dense_24 (Dense)             (None, 1)                 101       \n",
      "=================================================================\n",
      "Total params: 51,601\n",
      "Trainable params: 51,601\n",
      "Non-trainable params: 0\n",
      "_________________________________________________________________\n"
     ]
    }
   ],
   "source": [
    "p2_model.summary()\n",
    "#seems to keep counting up even when clearing pointers.  Hope that doesn't affect the model, as far as I can tell it doesn't"
   ]
  },
  {
   "cell_type": "code",
   "execution_count": 105,
   "id": "b11df400",
   "metadata": {},
   "outputs": [
    {
     "name": "stdout",
     "output_type": "stream",
     "text": [
      "Epoch 1/10\n",
      "28/28 [==============================] - 0s 4ms/step - loss: 5.8993 - accuracy: 0.6175 - val_loss: 5.8993 - val_accuracy: 0.6175\n",
      "Epoch 2/10\n",
      "28/28 [==============================] - 0s 2ms/step - loss: 5.8993 - accuracy: 0.6175 - val_loss: 5.8993 - val_accuracy: 0.6175\n",
      "Epoch 3/10\n",
      "28/28 [==============================] - 0s 2ms/step - loss: 5.8993 - accuracy: 0.6175 - val_loss: 5.8993 - val_accuracy: 0.6175\n",
      "Epoch 4/10\n",
      "28/28 [==============================] - 0s 2ms/step - loss: 5.8993 - accuracy: 0.6175 - val_loss: 5.8993 - val_accuracy: 0.6175\n",
      "Epoch 5/10\n",
      "28/28 [==============================] - 0s 2ms/step - loss: 5.8993 - accuracy: 0.6175 - val_loss: 5.8993 - val_accuracy: 0.6175\n",
      "Epoch 6/10\n",
      "28/28 [==============================] - 0s 2ms/step - loss: 5.8993 - accuracy: 0.6175 - val_loss: 5.8993 - val_accuracy: 0.6175\n",
      "Epoch 7/10\n",
      "28/28 [==============================] - 0s 2ms/step - loss: 5.8993 - accuracy: 0.6175 - val_loss: 5.8993 - val_accuracy: 0.6175\n",
      "Epoch 8/10\n",
      "28/28 [==============================] - 0s 2ms/step - loss: 5.8993 - accuracy: 0.6175 - val_loss: 5.8993 - val_accuracy: 0.6175\n",
      "Epoch 9/10\n",
      "28/28 [==============================] - 0s 2ms/step - loss: 5.8993 - accuracy: 0.6175 - val_loss: 5.8993 - val_accuracy: 0.6175\n",
      "Epoch 10/10\n",
      "28/28 [==============================] - 0s 2ms/step - loss: 5.8993 - accuracy: 0.6175 - val_loss: 5.8993 - val_accuracy: 0.6175\n"
     ]
    }
   ],
   "source": [
    "primary_run = p2_model.fit(titan, survived, epochs=10, validation_data=(titan, survived)) \n",
    "#not sure that validation data really adds any value in this situation where we dont have real test data"
   ]
  },
  {
   "cell_type": "code",
   "execution_count": 100,
   "id": "bd12f56f",
   "metadata": {},
   "outputs": [],
   "source": [
    "p2_yhat = p2_model.predict(titan)"
   ]
  },
  {
   "cell_type": "code",
   "execution_count": 101,
   "id": "ee231fb2",
   "metadata": {},
   "outputs": [],
   "source": [
    "rmse2 = mean_squared_error(survived, p2_yhat, squared=False)"
   ]
  },
  {
   "cell_type": "markdown",
   "id": "7f0a3972",
   "metadata": {},
   "source": [
    "#### RMSE"
   ]
  },
  {
   "cell_type": "code",
   "execution_count": 102,
   "id": "665cd751",
   "metadata": {},
   "outputs": [
    {
     "data": {
      "text/plain": [
       "0.6184271933508548"
      ]
     },
     "execution_count": 102,
     "metadata": {},
     "output_type": "execute_result"
    }
   ],
   "source": [
    "rmse2"
   ]
  },
  {
   "cell_type": "markdown",
   "id": "0fb97835",
   "metadata": {},
   "source": [
    "# Bike Share Dataset"
   ]
  },
  {
   "cell_type": "code",
   "execution_count": 109,
   "id": "59eadcc0",
   "metadata": {},
   "outputs": [],
   "source": [
    "bike_df = pd.read_csv('bike_share_hour.csv')\n",
    "\n",
    "##making categoricals\n",
    "bike_df[['season', 'holiday', 'weekday', 'workingday', 'weathersit']] = bike_df[['season', 'holiday', 'weekday', 'workingday', 'weathersit']].astype('category')\n",
    "##Scaling\n",
    "scaler = StandardScaler()\n",
    "bike_df[['yr','mnth','hr','temp','atemp','hum','windspeed','casual','registered']] = scaler.fit(bike_df[['yr','mnth','hr','temp','atemp','hum','windspeed','casual','registered']]).transform(bike_df[['yr','mnth','hr','temp','atemp','hum','windspeed','casual','registered']])\n",
    "##Dropping columns\n",
    "bike_df.drop(columns=['casual','registered','dteday','instant'], inplace=True)\n",
    "\n",
    "##split\n",
    "y = bike_df['cnt']\n",
    "bike_df.drop(columns=['cnt'], inplace=True)\n",
    "X_train, X_test, y_train, y_test = train_test_split(bike_df, y, test_size=.33, random_state=1)"
   ]
  },
  {
   "cell_type": "code",
   "execution_count": 113,
   "id": "21b856cb",
   "metadata": {},
   "outputs": [
    {
     "data": {
      "text/html": [
       "<div>\n",
       "<style scoped>\n",
       "    .dataframe tbody tr th:only-of-type {\n",
       "        vertical-align: middle;\n",
       "    }\n",
       "\n",
       "    .dataframe tbody tr th {\n",
       "        vertical-align: top;\n",
       "    }\n",
       "\n",
       "    .dataframe thead th {\n",
       "        text-align: right;\n",
       "    }\n",
       "</style>\n",
       "<table border=\"1\" class=\"dataframe\">\n",
       "  <thead>\n",
       "    <tr style=\"text-align: right;\">\n",
       "      <th></th>\n",
       "      <th>age</th>\n",
       "      <th>sex</th>\n",
       "      <th>bmi</th>\n",
       "      <th>bp</th>\n",
       "      <th>s1</th>\n",
       "      <th>s2</th>\n",
       "      <th>s3</th>\n",
       "      <th>s4</th>\n",
       "      <th>s5</th>\n",
       "      <th>s6</th>\n",
       "    </tr>\n",
       "  </thead>\n",
       "  <tbody>\n",
       "    <tr>\n",
       "      <th>438</th>\n",
       "      <td>-0.005515</td>\n",
       "      <td>0.050680</td>\n",
       "      <td>-0.015906</td>\n",
       "      <td>-0.067642</td>\n",
       "      <td>0.049341</td>\n",
       "      <td>0.079165</td>\n",
       "      <td>-0.028674</td>\n",
       "      <td>0.034309</td>\n",
       "      <td>-0.018118</td>\n",
       "      <td>0.044485</td>\n",
       "    </tr>\n",
       "    <tr>\n",
       "      <th>232</th>\n",
       "      <td>0.012648</td>\n",
       "      <td>0.050680</td>\n",
       "      <td>0.000261</td>\n",
       "      <td>-0.011409</td>\n",
       "      <td>0.039710</td>\n",
       "      <td>0.057245</td>\n",
       "      <td>-0.039719</td>\n",
       "      <td>0.056081</td>\n",
       "      <td>0.024053</td>\n",
       "      <td>0.032059</td>\n",
       "    </tr>\n",
       "    <tr>\n",
       "      <th>80</th>\n",
       "      <td>0.070769</td>\n",
       "      <td>-0.044642</td>\n",
       "      <td>0.012117</td>\n",
       "      <td>0.042530</td>\n",
       "      <td>0.071357</td>\n",
       "      <td>0.053487</td>\n",
       "      <td>0.052322</td>\n",
       "      <td>-0.002592</td>\n",
       "      <td>0.025393</td>\n",
       "      <td>-0.005220</td>\n",
       "    </tr>\n",
       "    <tr>\n",
       "      <th>46</th>\n",
       "      <td>-0.056370</td>\n",
       "      <td>-0.044642</td>\n",
       "      <td>-0.011595</td>\n",
       "      <td>-0.033214</td>\n",
       "      <td>-0.046975</td>\n",
       "      <td>-0.047660</td>\n",
       "      <td>0.004460</td>\n",
       "      <td>-0.039493</td>\n",
       "      <td>-0.007979</td>\n",
       "      <td>-0.088062</td>\n",
       "    </tr>\n",
       "    <tr>\n",
       "      <th>381</th>\n",
       "      <td>-0.070900</td>\n",
       "      <td>0.050680</td>\n",
       "      <td>-0.089197</td>\n",
       "      <td>-0.074528</td>\n",
       "      <td>-0.042848</td>\n",
       "      <td>-0.025739</td>\n",
       "      <td>-0.032356</td>\n",
       "      <td>-0.002592</td>\n",
       "      <td>-0.012908</td>\n",
       "      <td>-0.054925</td>\n",
       "    </tr>\n",
       "    <tr>\n",
       "      <th>...</th>\n",
       "      <td>...</td>\n",
       "      <td>...</td>\n",
       "      <td>...</td>\n",
       "      <td>...</td>\n",
       "      <td>...</td>\n",
       "      <td>...</td>\n",
       "      <td>...</td>\n",
       "      <td>...</td>\n",
       "      <td>...</td>\n",
       "      <td>...</td>\n",
       "    </tr>\n",
       "    <tr>\n",
       "      <th>255</th>\n",
       "      <td>0.001751</td>\n",
       "      <td>-0.044642</td>\n",
       "      <td>-0.065486</td>\n",
       "      <td>-0.005671</td>\n",
       "      <td>-0.007073</td>\n",
       "      <td>-0.019476</td>\n",
       "      <td>0.041277</td>\n",
       "      <td>-0.039493</td>\n",
       "      <td>-0.003304</td>\n",
       "      <td>0.007207</td>\n",
       "    </tr>\n",
       "    <tr>\n",
       "      <th>72</th>\n",
       "      <td>0.063504</td>\n",
       "      <td>0.050680</td>\n",
       "      <td>-0.004050</td>\n",
       "      <td>-0.012556</td>\n",
       "      <td>0.103003</td>\n",
       "      <td>0.048790</td>\n",
       "      <td>0.056003</td>\n",
       "      <td>-0.002592</td>\n",
       "      <td>0.084495</td>\n",
       "      <td>-0.017646</td>\n",
       "    </tr>\n",
       "    <tr>\n",
       "      <th>396</th>\n",
       "      <td>-0.085430</td>\n",
       "      <td>0.050680</td>\n",
       "      <td>-0.030996</td>\n",
       "      <td>-0.022885</td>\n",
       "      <td>-0.063487</td>\n",
       "      <td>-0.054236</td>\n",
       "      <td>0.019187</td>\n",
       "      <td>-0.039493</td>\n",
       "      <td>-0.096433</td>\n",
       "      <td>-0.034215</td>\n",
       "    </tr>\n",
       "    <tr>\n",
       "      <th>235</th>\n",
       "      <td>0.067136</td>\n",
       "      <td>0.050680</td>\n",
       "      <td>-0.014828</td>\n",
       "      <td>0.058596</td>\n",
       "      <td>-0.059359</td>\n",
       "      <td>-0.034508</td>\n",
       "      <td>-0.061809</td>\n",
       "      <td>0.012906</td>\n",
       "      <td>-0.005145</td>\n",
       "      <td>0.048628</td>\n",
       "    </tr>\n",
       "    <tr>\n",
       "      <th>37</th>\n",
       "      <td>-0.009147</td>\n",
       "      <td>-0.044642</td>\n",
       "      <td>0.011039</td>\n",
       "      <td>-0.057314</td>\n",
       "      <td>-0.024960</td>\n",
       "      <td>-0.042963</td>\n",
       "      <td>0.030232</td>\n",
       "      <td>-0.039493</td>\n",
       "      <td>0.017037</td>\n",
       "      <td>-0.005220</td>\n",
       "    </tr>\n",
       "  </tbody>\n",
       "</table>\n",
       "<p>353 rows × 10 columns</p>\n",
       "</div>"
      ],
      "text/plain": [
       "          age       sex       bmi        bp        s1        s2        s3  \\\n",
       "438 -0.005515  0.050680 -0.015906 -0.067642  0.049341  0.079165 -0.028674   \n",
       "232  0.012648  0.050680  0.000261 -0.011409  0.039710  0.057245 -0.039719   \n",
       "80   0.070769 -0.044642  0.012117  0.042530  0.071357  0.053487  0.052322   \n",
       "46  -0.056370 -0.044642 -0.011595 -0.033214 -0.046975 -0.047660  0.004460   \n",
       "381 -0.070900  0.050680 -0.089197 -0.074528 -0.042848 -0.025739 -0.032356   \n",
       "..        ...       ...       ...       ...       ...       ...       ...   \n",
       "255  0.001751 -0.044642 -0.065486 -0.005671 -0.007073 -0.019476  0.041277   \n",
       "72   0.063504  0.050680 -0.004050 -0.012556  0.103003  0.048790  0.056003   \n",
       "396 -0.085430  0.050680 -0.030996 -0.022885 -0.063487 -0.054236  0.019187   \n",
       "235  0.067136  0.050680 -0.014828  0.058596 -0.059359 -0.034508 -0.061809   \n",
       "37  -0.009147 -0.044642  0.011039 -0.057314 -0.024960 -0.042963  0.030232   \n",
       "\n",
       "           s4        s5        s6  \n",
       "438  0.034309 -0.018118  0.044485  \n",
       "232  0.056081  0.024053  0.032059  \n",
       "80  -0.002592  0.025393 -0.005220  \n",
       "46  -0.039493 -0.007979 -0.088062  \n",
       "381 -0.002592 -0.012908 -0.054925  \n",
       "..        ...       ...       ...  \n",
       "255 -0.039493 -0.003304  0.007207  \n",
       "72  -0.002592  0.084495 -0.017646  \n",
       "396 -0.039493 -0.096433 -0.034215  \n",
       "235  0.012906 -0.005145  0.048628  \n",
       "37  -0.039493  0.017037 -0.005220  \n",
       "\n",
       "[353 rows x 10 columns]"
      ]
     },
     "execution_count": 113,
     "metadata": {},
     "output_type": "execute_result"
    }
   ],
   "source": []
  },
  {
   "cell_type": "code",
   "execution_count": 120,
   "id": "2537201f",
   "metadata": {},
   "outputs": [],
   "source": [
    "p3_model = keras.models.Sequential()\n",
    "p3_model.add(keras.layers.Dense(200, input_dim=X_train.shape[1], activation='relu'))\n",
    "p3_model.add(keras.layers.Dense(100, activation='relu'))\n",
    "p3_model.add(keras.layers.Dense(300, activation='relu'))\n",
    "p3_model.add(keras.layers.Dense(100, activation='relu'))\n",
    "p3_model.add(keras.layers.Dense(1, activation='relu'))\n",
    "p3_model.compile(loss='mse', optimizer=keras.optimizers.SGD(learning_rate=1e-3)) #, metrics=['accuracy'] may use later?"
   ]
  },
  {
   "cell_type": "code",
   "execution_count": 117,
   "id": "9a596d4f",
   "metadata": {},
   "outputs": [
    {
     "name": "stdout",
     "output_type": "stream",
     "text": [
      "Model: \"sequential_18\"\n",
      "_________________________________________________________________\n",
      "Layer (type)                 Output Shape              Param #   \n",
      "=================================================================\n",
      "dense_35 (Dense)             (None, 100)               1100      \n",
      "_________________________________________________________________\n",
      "dense_36 (Dense)             (None, 100)               10100     \n",
      "_________________________________________________________________\n",
      "dense_37 (Dense)             (None, 200)               20200     \n",
      "_________________________________________________________________\n",
      "dense_38 (Dense)             (None, 100)               20100     \n",
      "_________________________________________________________________\n",
      "dense_39 (Dense)             (None, 1)                 101       \n",
      "=================================================================\n",
      "Total params: 51,601\n",
      "Trainable params: 51,601\n",
      "Non-trainable params: 0\n",
      "_________________________________________________________________\n"
     ]
    }
   ],
   "source": [
    "p3_model.summary()"
   ]
  },
  {
   "cell_type": "code",
   "execution_count": 127,
   "id": "e5629b65",
   "metadata": {},
   "outputs": [
    {
     "name": "stdout",
     "output_type": "stream",
     "text": [
      "Epoch 1/10\n",
      "12/12 [==============================] - 0s 16ms/step - loss: 133146.9062 - val_loss: 26997.4727\n",
      "Epoch 2/10\n",
      "12/12 [==============================] - 0s 3ms/step - loss: 29598.1465 - val_loss: 26997.4727\n",
      "Epoch 3/10\n",
      "12/12 [==============================] - 0s 3ms/step - loss: 29598.1465 - val_loss: 26997.4727\n",
      "Epoch 4/10\n",
      "12/12 [==============================] - 0s 3ms/step - loss: 29598.1465 - val_loss: 26997.4727\n",
      "Epoch 5/10\n",
      "12/12 [==============================] - 0s 3ms/step - loss: 29598.1465 - val_loss: 26997.4727\n",
      "Epoch 6/10\n",
      "12/12 [==============================] - 0s 3ms/step - loss: 29598.1465 - val_loss: 26997.4727\n",
      "Epoch 7/10\n",
      "12/12 [==============================] - 0s 3ms/step - loss: 29598.1465 - val_loss: 26997.4727\n",
      "Epoch 8/10\n",
      "12/12 [==============================] - ETA: 0s - loss: 27431.750 - 0s 3ms/step - loss: 29598.1465 - val_loss: 26997.4727\n",
      "Epoch 9/10\n",
      "12/12 [==============================] - 0s 3ms/step - loss: 29598.1465 - val_loss: 26997.4727\n",
      "Epoch 10/10\n",
      "12/12 [==============================] - 0s 3ms/step - loss: 29598.1465 - val_loss: 26997.4727\n"
     ]
    }
   ],
   "source": [
    "p3_run = p3_model.fit(X_train, y_train, epochs=10, validation_data=(X_test, y_test))"
   ]
  },
  {
   "cell_type": "code",
   "execution_count": 129,
   "id": "cd3f0b06",
   "metadata": {},
   "outputs": [],
   "source": [
    "p3_yhat = p3_model.predict(X_test)"
   ]
  },
  {
   "cell_type": "code",
   "execution_count": 131,
   "id": "c4dc8ec1",
   "metadata": {},
   "outputs": [],
   "source": [
    "rmse3 = mean_squared_error(y_test, p3_yhat, squared=False)"
   ]
  },
  {
   "cell_type": "code",
   "execution_count": 133,
   "id": "27b42975",
   "metadata": {},
   "outputs": [
    {
     "data": {
      "text/plain": [
       "164.30907433891883"
      ]
     },
     "execution_count": 133,
     "metadata": {},
     "output_type": "execute_result"
    }
   ],
   "source": [
    "rmse3\n",
    "#not a great rmse"
   ]
  },
  {
   "cell_type": "code",
   "execution_count": null,
   "id": "46ea42a4",
   "metadata": {},
   "outputs": [],
   "source": []
  },
  {
   "cell_type": "markdown",
   "id": "fb4b4317",
   "metadata": {},
   "source": [
    "# Optimization\n",
    "Prompt only mentions different optimizers.  Seems sparse, but an exhastive grid search of optimizers would limit the ability to search on learning rate.  We will do 2 different grid searches and see how it goes.  \n",
    "\n",
    "I reduced the scope of the initial grid search that I had.  I left the evidience incase there is ineterst.  But it was taking a very long time, and I wanted results to show."
   ]
  },
  {
   "cell_type": "code",
   "execution_count": 214,
   "id": "3361bdd7",
   "metadata": {},
   "outputs": [],
   "source": [
    "def build_model(n_hidden=1, n_neurons=30, optimizer='SGD', input_shape=X_train.shape[1], activation='relu', loss='mse' ):\n",
    "    model = keras.models.Sequential()\n",
    "    model.add(keras.layers.InputLayer(input_shape=input_shape))\n",
    "    \n",
    "    for layer in range(n_hidden):\n",
    "        model.add(keras.layers.Dense(n_neurons, activation=activation))\n",
    "    \n",
    "    model.add(keras.layers.Dense(1))\n",
    "    model.compile(loss=loss, optimizer=optimizer)\n",
    "    return model\n",
    "        "
   ]
  },
  {
   "cell_type": "code",
   "execution_count": 192,
   "id": "2539dbf0",
   "metadata": {},
   "outputs": [],
   "source": [
    "model_bld = keras.wrappers.scikit_learn.KerasRegressor(build_model)"
   ]
  },
  {
   "cell_type": "code",
   "execution_count": 208,
   "id": "35e8931c",
   "metadata": {},
   "outputs": [],
   "source": [
    "optimizer = ['SGD', 'RMSprop', 'Adagrad', 'Adadelta', 'Adam', 'Adamax', 'Nadam']\n",
    "param_grid = {'n_hidden': [1,2,3,4],\n",
    "              #'n_neurons': np.arange(50,100),\n",
    "              'optimizer': optimizer,\n",
    "              #'activation': ['relu', 'softmax', 'elu', 'prelu'],\n",
    "              'loss': ['mse','mean_absolute_error'  ]\n",
    "             }"
   ]
  },
  {
   "cell_type": "code",
   "execution_count": 209,
   "id": "9d856eed",
   "metadata": {},
   "outputs": [],
   "source": [
    "search_cv = GridSearchCV(model_bld, param_grid, cv=3, n_jobs=-1)"
   ]
  },
  {
   "cell_type": "code",
   "execution_count": 210,
   "id": "f9fe61a5",
   "metadata": {},
   "outputs": [
    {
     "name": "stderr",
     "output_type": "stream",
     "text": [
      "C:\\ProgramData\\Anaconda3\\lib\\site-packages\\sklearn\\model_selection\\_search.py:969: UserWarning: One or more of the test scores are non-finite: [-7.17728630e+03 -2.93945254e+04 -2.95670996e+04 -2.95966797e+04\n",
      " -2.94443757e+04 -2.95088815e+04 -2.94043405e+04 -1.89882386e+24\n",
      " -2.90144557e+04 -2.95482487e+04 -2.95959622e+04 -2.88885592e+04\n",
      " -2.93414362e+04 -2.88141576e+04 -4.30264992e+31 -2.80482083e+04\n",
      " -2.95308574e+04 -2.95992734e+04 -2.80491348e+04 -2.92179440e+04\n",
      " -2.64216901e+04             nan -2.39780059e+04 -2.95284961e+04\n",
      " -2.96000280e+04 -2.53779499e+04 -2.92106074e+04 -1.98175723e+04\n",
      " -1.51768672e+02 -1.52868429e+02 -1.53341349e+02 -1.53360616e+02\n",
      " -1.52864283e+02 -1.52982290e+02 -1.52859014e+02 -1.51068319e+02\n",
      " -1.50996648e+02 -1.53300049e+02 -1.53366689e+02 -1.51468643e+02\n",
      " -1.52758204e+02 -1.51073227e+02 -1.49884715e+02 -1.46800512e+02\n",
      " -1.53286062e+02 -1.53375671e+02 -1.48675878e+02 -1.51874868e+02\n",
      " -1.43816864e+02 -1.47710693e+02 -1.35358396e+02 -1.53264801e+02\n",
      " -1.53371475e+02 -1.37423818e+02 -1.50997264e+02 -1.15446686e+02]\n",
      "  warnings.warn(\n"
     ]
    },
    {
     "name": "stdout",
     "output_type": "stream",
     "text": [
      "Epoch 1/10\n",
      "12/12 [==============================] - 1s 16ms/step - loss: 153.3522 - val_loss: 147.1149\n",
      "Epoch 2/10\n",
      "12/12 [==============================] - 0s 3ms/step - loss: 153.2108 - val_loss: 146.8925\n",
      "Epoch 3/10\n",
      "12/12 [==============================] - 0s 3ms/step - loss: 152.8825 - val_loss: 146.3479\n",
      "Epoch 4/10\n",
      "12/12 [==============================] - 0s 3ms/step - loss: 152.0397 - val_loss: 144.9315\n",
      "Epoch 5/10\n",
      "12/12 [==============================] - 0s 3ms/step - loss: 149.9568 - val_loss: 141.6080\n",
      "Epoch 6/10\n",
      "12/12 [==============================] - 0s 3ms/step - loss: 145.1654 - val_loss: 134.1226\n",
      "Epoch 7/10\n",
      "12/12 [==============================] - 0s 3ms/step - loss: 134.7200 - val_loss: 118.5264\n",
      "Epoch 8/10\n",
      "12/12 [==============================] - 0s 3ms/step - loss: 114.4321 - val_loss: 90.4994\n",
      "Epoch 9/10\n",
      "12/12 [==============================] - 0s 3ms/step - loss: 86.5348 - val_loss: 65.1538\n",
      "Epoch 10/10\n",
      "12/12 [==============================] - 0s 3ms/step - loss: 68.4985 - val_loss: 59.4499\n"
     ]
    }
   ],
   "source": [
    "result = search_cv.fit(X_train, y_train, epochs=10, validation_data=(X_test, y_test))"
   ]
  },
  {
   "cell_type": "markdown",
   "id": "3105f997",
   "metadata": {},
   "source": [
    "### Best Sccore"
   ]
  },
  {
   "cell_type": "code",
   "execution_count": 211,
   "id": "e44eaa2e",
   "metadata": {},
   "outputs": [
    {
     "data": {
      "text/plain": [
       "-115.44668579101562"
      ]
     },
     "execution_count": 211,
     "metadata": {},
     "output_type": "execute_result"
    }
   ],
   "source": [
    "result.best_score_"
   ]
  },
  {
   "cell_type": "markdown",
   "id": "27ed0f85",
   "metadata": {},
   "source": [
    "### Best Params"
   ]
  },
  {
   "cell_type": "code",
   "execution_count": 212,
   "id": "469e3e60",
   "metadata": {},
   "outputs": [
    {
     "data": {
      "text/plain": [
       "{'loss': 'mean_absolute_error', 'n_hidden': 4, 'optimizer': 'Nadam'}"
      ]
     },
     "execution_count": 212,
     "metadata": {},
     "output_type": "execute_result"
    }
   ],
   "source": [
    "result.best_params_"
   ]
  },
  {
   "cell_type": "code",
   "execution_count": null,
   "id": "8715108b",
   "metadata": {},
   "outputs": [],
   "source": []
  },
  {
   "cell_type": "code",
   "execution_count": null,
   "id": "71f3912d",
   "metadata": {},
   "outputs": [],
   "source": []
  },
  {
   "cell_type": "code",
   "execution_count": null,
   "id": "54d654de",
   "metadata": {},
   "outputs": [],
   "source": []
  },
  {
   "cell_type": "code",
   "execution_count": null,
   "id": "3ac10efb",
   "metadata": {},
   "outputs": [],
   "source": []
  },
  {
   "cell_type": "code",
   "execution_count": null,
   "id": "b41dbb43",
   "metadata": {},
   "outputs": [],
   "source": []
  },
  {
   "cell_type": "code",
   "execution_count": null,
   "id": "06ffc583",
   "metadata": {},
   "outputs": [],
   "source": []
  }
 ],
 "metadata": {
  "kernelspec": {
   "display_name": "Python 3 (ipykernel)",
   "language": "python",
   "name": "python3"
  },
  "language_info": {
   "codemirror_mode": {
    "name": "ipython",
    "version": 3
   },
   "file_extension": ".py",
   "mimetype": "text/x-python",
   "name": "python",
   "nbconvert_exporter": "python",
   "pygments_lexer": "ipython3",
   "version": "3.8.12"
  }
 },
 "nbformat": 4,
 "nbformat_minor": 5
}
