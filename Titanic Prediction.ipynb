{
 "cells": [
  {
   "cell_type": "code",
   "execution_count": 635,
   "id": "b6c12f86",
   "metadata": {},
   "outputs": [],
   "source": [
    "import pandas as pd\n",
    "import numpy as np\n",
    "import seaborn as sns\n",
    "import matplotlib.pyplot as plt\n",
    "from sklearn.linear_model import LogisticRegression, SGDClassifier\n",
    "from sklearn.metrics import classification_report, confusion_matrix, roc_curve, precision_recall_curve, roc_auc_score\n",
    "from sklearn.svm import LinearSVC, SVC\n",
    "from sklearn.model_selection import cross_val_predict, GridSearchCV, learning_curve\n",
    "from sklearn.pipeline import Pipeline\n",
    "from sklearn.preprocessing import StandardScaler"
   ]
  },
  {
   "cell_type": "markdown",
   "id": "f8460016",
   "metadata": {},
   "source": [
    "# Part 1"
   ]
  },
  {
   "cell_type": "markdown",
   "id": "740129f2",
   "metadata": {},
   "source": [
    "The data from Kaggle is pre-split into test and train.  I will be inheriting that as the data also provided in the github is appears to follow the same pre-split."
   ]
  },
  {
   "cell_type": "code",
   "execution_count": 636,
   "id": "08dff7b1",
   "metadata": {},
   "outputs": [],
   "source": [
    "train = pd.read_csv('train.csv')\n",
    "test = pd.read_csv('test.csv')"
   ]
  },
  {
   "cell_type": "code",
   "execution_count": 637,
   "id": "d6db0894",
   "metadata": {},
   "outputs": [
    {
     "data": {
      "text/html": [
       "<div>\n",
       "<style scoped>\n",
       "    .dataframe tbody tr th:only-of-type {\n",
       "        vertical-align: middle;\n",
       "    }\n",
       "\n",
       "    .dataframe tbody tr th {\n",
       "        vertical-align: top;\n",
       "    }\n",
       "\n",
       "    .dataframe thead th {\n",
       "        text-align: right;\n",
       "    }\n",
       "</style>\n",
       "<table border=\"1\" class=\"dataframe\">\n",
       "  <thead>\n",
       "    <tr style=\"text-align: right;\">\n",
       "      <th></th>\n",
       "      <th>PassengerId</th>\n",
       "      <th>Survived</th>\n",
       "      <th>Pclass</th>\n",
       "      <th>Name</th>\n",
       "      <th>Sex</th>\n",
       "      <th>Age</th>\n",
       "      <th>SibSp</th>\n",
       "      <th>Parch</th>\n",
       "      <th>Ticket</th>\n",
       "      <th>Fare</th>\n",
       "      <th>Cabin</th>\n",
       "      <th>Embarked</th>\n",
       "    </tr>\n",
       "  </thead>\n",
       "  <tbody>\n",
       "    <tr>\n",
       "      <th>590</th>\n",
       "      <td>591</td>\n",
       "      <td>0</td>\n",
       "      <td>3</td>\n",
       "      <td>Rintamaki, Mr. Matti</td>\n",
       "      <td>male</td>\n",
       "      <td>35.0</td>\n",
       "      <td>0</td>\n",
       "      <td>0</td>\n",
       "      <td>STON/O 2. 3101273</td>\n",
       "      <td>7.125</td>\n",
       "      <td>NaN</td>\n",
       "      <td>S</td>\n",
       "    </tr>\n",
       "    <tr>\n",
       "      <th>117</th>\n",
       "      <td>118</td>\n",
       "      <td>0</td>\n",
       "      <td>2</td>\n",
       "      <td>Turpin, Mr. William John Robert</td>\n",
       "      <td>male</td>\n",
       "      <td>29.0</td>\n",
       "      <td>1</td>\n",
       "      <td>0</td>\n",
       "      <td>11668</td>\n",
       "      <td>21.000</td>\n",
       "      <td>NaN</td>\n",
       "      <td>S</td>\n",
       "    </tr>\n",
       "    <tr>\n",
       "      <th>464</th>\n",
       "      <td>465</td>\n",
       "      <td>0</td>\n",
       "      <td>3</td>\n",
       "      <td>Maisner, Mr. Simon</td>\n",
       "      <td>male</td>\n",
       "      <td>NaN</td>\n",
       "      <td>0</td>\n",
       "      <td>0</td>\n",
       "      <td>A/S 2816</td>\n",
       "      <td>8.050</td>\n",
       "      <td>NaN</td>\n",
       "      <td>S</td>\n",
       "    </tr>\n",
       "  </tbody>\n",
       "</table>\n",
       "</div>"
      ],
      "text/plain": [
       "     PassengerId  Survived  Pclass                             Name   Sex  \\\n",
       "590          591         0       3             Rintamaki, Mr. Matti  male   \n",
       "117          118         0       2  Turpin, Mr. William John Robert  male   \n",
       "464          465         0       3               Maisner, Mr. Simon  male   \n",
       "\n",
       "      Age  SibSp  Parch             Ticket    Fare Cabin Embarked  \n",
       "590  35.0      0      0  STON/O 2. 3101273   7.125   NaN        S  \n",
       "117  29.0      1      0              11668  21.000   NaN        S  \n",
       "464   NaN      0      0           A/S 2816   8.050   NaN        S  "
      ]
     },
     "execution_count": 637,
     "metadata": {},
     "output_type": "execute_result"
    }
   ],
   "source": [
    "train.sample(3)"
   ]
  },
  {
   "cell_type": "code",
   "execution_count": 638,
   "id": "33c33096",
   "metadata": {},
   "outputs": [
    {
     "data": {
      "text/html": [
       "<div>\n",
       "<style scoped>\n",
       "    .dataframe tbody tr th:only-of-type {\n",
       "        vertical-align: middle;\n",
       "    }\n",
       "\n",
       "    .dataframe tbody tr th {\n",
       "        vertical-align: top;\n",
       "    }\n",
       "\n",
       "    .dataframe thead th {\n",
       "        text-align: right;\n",
       "    }\n",
       "</style>\n",
       "<table border=\"1\" class=\"dataframe\">\n",
       "  <thead>\n",
       "    <tr style=\"text-align: right;\">\n",
       "      <th></th>\n",
       "      <th>PassengerId</th>\n",
       "      <th>Pclass</th>\n",
       "      <th>Name</th>\n",
       "      <th>Sex</th>\n",
       "      <th>Age</th>\n",
       "      <th>SibSp</th>\n",
       "      <th>Parch</th>\n",
       "      <th>Ticket</th>\n",
       "      <th>Fare</th>\n",
       "      <th>Cabin</th>\n",
       "      <th>Embarked</th>\n",
       "    </tr>\n",
       "  </thead>\n",
       "  <tbody>\n",
       "    <tr>\n",
       "      <th>350</th>\n",
       "      <td>1242</td>\n",
       "      <td>1</td>\n",
       "      <td>Greenfield, Mrs. Leo David (Blanche Strouse)</td>\n",
       "      <td>female</td>\n",
       "      <td>45.0</td>\n",
       "      <td>0</td>\n",
       "      <td>1</td>\n",
       "      <td>PC 17759</td>\n",
       "      <td>63.3583</td>\n",
       "      <td>D10 D12</td>\n",
       "      <td>C</td>\n",
       "    </tr>\n",
       "    <tr>\n",
       "      <th>257</th>\n",
       "      <td>1149</td>\n",
       "      <td>3</td>\n",
       "      <td>Niklasson, Mr. Samuel</td>\n",
       "      <td>male</td>\n",
       "      <td>28.0</td>\n",
       "      <td>0</td>\n",
       "      <td>0</td>\n",
       "      <td>363611</td>\n",
       "      <td>8.0500</td>\n",
       "      <td>NaN</td>\n",
       "      <td>S</td>\n",
       "    </tr>\n",
       "    <tr>\n",
       "      <th>166</th>\n",
       "      <td>1058</td>\n",
       "      <td>1</td>\n",
       "      <td>Brandeis, Mr. Emil</td>\n",
       "      <td>male</td>\n",
       "      <td>48.0</td>\n",
       "      <td>0</td>\n",
       "      <td>0</td>\n",
       "      <td>PC 17591</td>\n",
       "      <td>50.4958</td>\n",
       "      <td>B10</td>\n",
       "      <td>C</td>\n",
       "    </tr>\n",
       "  </tbody>\n",
       "</table>\n",
       "</div>"
      ],
      "text/plain": [
       "     PassengerId  Pclass                                          Name  \\\n",
       "350         1242       1  Greenfield, Mrs. Leo David (Blanche Strouse)   \n",
       "257         1149       3                         Niklasson, Mr. Samuel   \n",
       "166         1058       1                            Brandeis, Mr. Emil   \n",
       "\n",
       "        Sex   Age  SibSp  Parch    Ticket     Fare    Cabin Embarked  \n",
       "350  female  45.0      0      1  PC 17759  63.3583  D10 D12        C  \n",
       "257    male  28.0      0      0    363611   8.0500      NaN        S  \n",
       "166    male  48.0      0      0  PC 17591  50.4958      B10        C  "
      ]
     },
     "execution_count": 638,
     "metadata": {},
     "output_type": "execute_result"
    }
   ],
   "source": [
    "test.sample(3)"
   ]
  },
  {
   "cell_type": "markdown",
   "id": "ffb0721d",
   "metadata": {},
   "source": [
    "### Null/Missing Values per column"
   ]
  },
  {
   "cell_type": "code",
   "execution_count": 639,
   "id": "c70da8fb",
   "metadata": {},
   "outputs": [
    {
     "data": {
      "text/plain": [
       "PassengerId      0\n",
       "Survived         0\n",
       "Pclass           0\n",
       "Name             0\n",
       "Sex              0\n",
       "Age            177\n",
       "SibSp            0\n",
       "Parch            0\n",
       "Ticket           0\n",
       "Fare             0\n",
       "Cabin          687\n",
       "Embarked         2\n",
       "dtype: int64"
      ]
     },
     "execution_count": 639,
     "metadata": {},
     "output_type": "execute_result"
    }
   ],
   "source": [
    "train.isna().sum()"
   ]
  },
  {
   "cell_type": "code",
   "execution_count": 640,
   "id": "a6ebae06",
   "metadata": {},
   "outputs": [
    {
     "data": {
      "image/png": "[encoded data removed]",
      "text/plain": [
       "<Figure size 432x288 with 2 Axes>"
      ]
     },
     "metadata": {
      "needs_background": "light"
     },
     "output_type": "display_data"
    }
   ],
   "source": [
    "sns.heatmap(train.isna().transpose(), cmap=\"YlGnBu\",cbar_kws={'label': 'Missing Data'});"
   ]
  },
  {
   "cell_type": "code",
   "execution_count": 641,
   "id": "6d7abb1d",
   "metadata": {},
   "outputs": [
    {
     "data": {
      "text/plain": [
       "PassengerId      int64\n",
       "Survived         int64\n",
       "Pclass           int64\n",
       "Name            object\n",
       "Sex             object\n",
       "Age            float64\n",
       "SibSp            int64\n",
       "Parch            int64\n",
       "Ticket          object\n",
       "Fare           float64\n",
       "Cabin           object\n",
       "Embarked        object\n",
       "dtype: object"
      ]
     },
     "execution_count": 641,
     "metadata": {},
     "output_type": "execute_result"
    }
   ],
   "source": [
    "train.dtypes"
   ]
  },
  {
   "cell_type": "markdown",
   "id": "c260fdf1",
   "metadata": {},
   "source": [
    "survived, sex, and embarked are functionally categorical, but only Sex and Embarked are storred as a categorical object.  The columns could be encoded to be categorical if needed as well as Pclass, SibSp, and Parch could be used as categorical if desired."
   ]
  },
  {
   "cell_type": "markdown",
   "id": "a4d2a6ba",
   "metadata": {},
   "source": [
    "### Total Men v.s. Women Count of Survival"
   ]
  },
  {
   "cell_type": "code",
   "execution_count": 642,
   "id": "1a602596",
   "metadata": {},
   "outputs": [
    {
     "data": {
      "image/png": "[encoded data removed]",
      "text/plain": [
       "<Figure size 411.875x360 with 1 Axes>"
      ]
     },
     "metadata": {
      "needs_background": "light"
     },
     "output_type": "display_data"
    }
   ],
   "source": [
    "sns.catplot(x='Sex', hue='Survived', kind='count', data=train);"
   ]
  },
  {
   "cell_type": "markdown",
   "id": "3194998c",
   "metadata": {},
   "source": [
    "We are able to observe that in aggregate, more men died than women."
   ]
  },
  {
   "cell_type": "code",
   "execution_count": 643,
   "id": "e190d76a",
   "metadata": {},
   "outputs": [
    {
     "data": {
      "image/png": "[encoded data removed]",
      "text/plain": [
       "<Figure size 432x288 with 2 Axes>"
      ]
     },
     "metadata": {
      "needs_background": "light"
     },
     "output_type": "display_data"
    }
   ],
   "source": [
    "group = train.groupby(['Pclass', 'Survived']).size().unstack()\n",
    "sns.heatmap(group, annot = True);"
   ]
  },
  {
   "cell_type": "markdown",
   "id": "9a9cc1e5",
   "metadata": {},
   "source": [
    "### Vanila Distribution"
   ]
  },
  {
   "cell_type": "code",
   "execution_count": 644,
   "id": "1e3a8393",
   "metadata": {},
   "outputs": [
    {
     "data": {
      "image/png": "[encoded data removed]",
      "text/plain": [
       "<Figure size 432x288 with 1 Axes>"
      ]
     },
     "metadata": {
      "needs_background": "light"
     },
     "output_type": "display_data"
    }
   ],
   "source": [
    "train['Fare'].plot.density();"
   ]
  },
  {
   "cell_type": "markdown",
   "id": "ca532306",
   "metadata": {},
   "source": [
    "### Binned and observed with Survived"
   ]
  },
  {
   "cell_type": "code",
   "execution_count": 645,
   "id": "ee2afbc0",
   "metadata": {},
   "outputs": [
    {
     "data": {
      "image/png": "[encoded data removed]",
      "text/plain": [
       "<Figure size 432x288 with 1 Axes>"
      ]
     },
     "metadata": {
      "needs_background": "light"
     },
     "output_type": "display_data"
    }
   ],
   "source": [
    "train['Fare_binned'] = pd.qcut(train['Fare'], 4)\n",
    "sns.barplot(x ='Fare_binned', y ='Survived', data = train);"
   ]
  },
  {
   "cell_type": "markdown",
   "id": "06e9d8e8",
   "metadata": {},
   "source": [
    "### Age Observed Against Sex and Survival"
   ]
  },
  {
   "cell_type": "code",
   "execution_count": 646,
   "id": "d58f8d54",
   "metadata": {},
   "outputs": [
    {
     "data": {
      "image/png": "[encoded data removed]",
      "text/plain": [
       "<Figure size 432x288 with 1 Axes>"
      ]
     },
     "metadata": {
      "needs_background": "light"
     },
     "output_type": "display_data"
    }
   ],
   "source": [
    "sns.violinplot(x =\"Sex\", y =\"Age\", hue =\"Survived\", data = train, split = True);"
   ]
  },
  {
   "cell_type": "code",
   "execution_count": 647,
   "id": "3645a921",
   "metadata": {},
   "outputs": [],
   "source": [
    "age_grouped = train.groupby(['Pclass']).median('Age')"
   ]
  },
  {
   "cell_type": "markdown",
   "id": "19bd7b03",
   "metadata": {},
   "source": [
    "### Median Age of Each Passenger Class"
   ]
  },
  {
   "cell_type": "code",
   "execution_count": 648,
   "id": "99e53ceb",
   "metadata": {},
   "outputs": [
    {
     "data": {
      "text/plain": [
       "<AxesSubplot:xlabel='Pclass', ylabel='Age'>"
      ]
     },
     "execution_count": 648,
     "metadata": {},
     "output_type": "execute_result"
    },
    {
     "data": {
      "image/png": "[encoded data removed]",
      "text/plain": [
       "<Figure size 432x288 with 1 Axes>"
      ]
     },
     "metadata": {
      "needs_background": "light"
     },
     "output_type": "display_data"
    }
   ],
   "source": [
    "sns.boxplot(x='Pclass', y='Age',  data=train)"
   ]
  },
  {
   "cell_type": "code",
   "execution_count": 649,
   "id": "5922299d",
   "metadata": {},
   "outputs": [
    {
     "data": {
      "text/plain": [
       "Pclass\n",
       "1    37.0\n",
       "2    29.0\n",
       "3    24.0\n",
       "Name: Age, dtype: float64"
      ]
     },
     "execution_count": 649,
     "metadata": {},
     "output_type": "execute_result"
    }
   ],
   "source": [
    "#Numeric validation\n",
    "age_grouped['Age']"
   ]
  },
  {
   "cell_type": "markdown",
   "id": "ab63c564",
   "metadata": {},
   "source": [
    "# Part 2"
   ]
  },
  {
   "cell_type": "markdown",
   "id": "5280bda9",
   "metadata": {},
   "source": [
    "### Removing Cabin"
   ]
  },
  {
   "cell_type": "code",
   "execution_count": 650,
   "id": "71611450",
   "metadata": {},
   "outputs": [],
   "source": [
    "##Only run this once - need to stop forgetting about the state\n",
    "train.drop(columns='Cabin', inplace=True)\n",
    "test.drop(columns='Cabin', inplace=True)"
   ]
  },
  {
   "cell_type": "markdown",
   "id": "6d75a894",
   "metadata": {},
   "source": [
    "### Funciton for Imputing Age"
   ]
  },
  {
   "cell_type": "code",
   "execution_count": 651,
   "id": "959b428a",
   "metadata": {},
   "outputs": [],
   "source": [
    "## quick fix for indexing easily on the med age\n",
    "age_grouped.index=age_grouped.index.astype(int)\n",
    "\n",
    "### Function for null age\n",
    "def impute_age(row):\n",
    "    if pd.isna(row['Age']):\n",
    "        #print(row['Pclass'])\n",
    "        row['Age'] = age_grouped['Age'].iloc[int(row['Pclass'])-1] #hacky, but works\n",
    "    return row\n",
    "    "
   ]
  },
  {
   "cell_type": "code",
   "execution_count": 652,
   "id": "402fa101",
   "metadata": {},
   "outputs": [],
   "source": [
    "train[['Age', 'Pclass']] = train[['Age', 'Pclass']].apply(impute_age, axis=1)"
   ]
  },
  {
   "cell_type": "markdown",
   "id": "05d4140f",
   "metadata": {},
   "source": [
    "### First Check for Nulls"
   ]
  },
  {
   "cell_type": "code",
   "execution_count": 653,
   "id": "65668036",
   "metadata": {},
   "outputs": [
    {
     "data": {
      "text/plain": [
       "PassengerId    0\n",
       "Survived       0\n",
       "Pclass         0\n",
       "Name           0\n",
       "Sex            0\n",
       "Age            0\n",
       "SibSp          0\n",
       "Parch          0\n",
       "Ticket         0\n",
       "Fare           0\n",
       "Embarked       2\n",
       "Fare_binned    0\n",
       "dtype: int64"
      ]
     },
     "execution_count": 653,
     "metadata": {},
     "output_type": "execute_result"
    }
   ],
   "source": [
    "train.isna().sum()"
   ]
  },
  {
   "cell_type": "code",
   "execution_count": 654,
   "id": "eb37b954",
   "metadata": {},
   "outputs": [],
   "source": [
    "train = train.dropna()"
   ]
  },
  {
   "cell_type": "code",
   "execution_count": 655,
   "id": "bd27e282",
   "metadata": {},
   "outputs": [],
   "source": [
    "### Secoond Check for Nulls"
   ]
  },
  {
   "cell_type": "code",
   "execution_count": 656,
   "id": "45b2d6ca",
   "metadata": {},
   "outputs": [
    {
     "data": {
      "text/plain": [
       "PassengerId    0\n",
       "Survived       0\n",
       "Pclass         0\n",
       "Name           0\n",
       "Sex            0\n",
       "Age            0\n",
       "SibSp          0\n",
       "Parch          0\n",
       "Ticket         0\n",
       "Fare           0\n",
       "Embarked       0\n",
       "Fare_binned    0\n",
       "dtype: int64"
      ]
     },
     "execution_count": 656,
     "metadata": {},
     "output_type": "execute_result"
    }
   ],
   "source": [
    "train.isna().sum()"
   ]
  },
  {
   "cell_type": "markdown",
   "id": "4b6dca11",
   "metadata": {},
   "source": [
    "### Dummy Variables"
   ]
  },
  {
   "cell_type": "code",
   "execution_count": 657,
   "id": "ecc98eb3",
   "metadata": {},
   "outputs": [],
   "source": [
    "train = pd.concat([pd.get_dummies(train['Sex']), train], axis=1)"
   ]
  },
  {
   "cell_type": "code",
   "execution_count": 658,
   "id": "5e932ecb",
   "metadata": {},
   "outputs": [],
   "source": [
    "train = pd.concat([pd.get_dummies(train['Embarked'], prefix=\"Embarked\"), train], axis=1)"
   ]
  },
  {
   "cell_type": "markdown",
   "id": "344caa2a",
   "metadata": {},
   "source": [
    "### Dropping Noise"
   ]
  },
  {
   "cell_type": "code",
   "execution_count": 659,
   "id": "b3f3bdbd",
   "metadata": {},
   "outputs": [],
   "source": [
    "survived = train['Survived']\n",
    "train.drop(columns=['Survived'], inplace=True)"
   ]
  },
  {
   "cell_type": "code",
   "execution_count": 660,
   "id": "b18db2ad",
   "metadata": {},
   "outputs": [],
   "source": [
    "train.drop(columns=['Name', 'Ticket', 'PassengerId', 'Sex','Embarked', 'Fare_binned' ], inplace=True)"
   ]
  },
  {
   "cell_type": "code",
   "execution_count": 661,
   "id": "6fa5c72f",
   "metadata": {},
   "outputs": [
    {
     "data": {
      "text/html": [
       "<div>\n",
       "<style scoped>\n",
       "    .dataframe tbody tr th:only-of-type {\n",
       "        vertical-align: middle;\n",
       "    }\n",
       "\n",
       "    .dataframe tbody tr th {\n",
       "        vertical-align: top;\n",
       "    }\n",
       "\n",
       "    .dataframe thead th {\n",
       "        text-align: right;\n",
       "    }\n",
       "</style>\n",
       "<table border=\"1\" class=\"dataframe\">\n",
       "  <thead>\n",
       "    <tr style=\"text-align: right;\">\n",
       "      <th></th>\n",
       "      <th>Embarked_C</th>\n",
       "      <th>Embarked_Q</th>\n",
       "      <th>Embarked_S</th>\n",
       "      <th>female</th>\n",
       "      <th>male</th>\n",
       "      <th>Pclass</th>\n",
       "      <th>Age</th>\n",
       "      <th>SibSp</th>\n",
       "      <th>Parch</th>\n",
       "      <th>Fare</th>\n",
       "    </tr>\n",
       "  </thead>\n",
       "  <tbody>\n",
       "    <tr>\n",
       "      <th>263</th>\n",
       "      <td>0</td>\n",
       "      <td>0</td>\n",
       "      <td>1</td>\n",
       "      <td>0</td>\n",
       "      <td>1</td>\n",
       "      <td>1.0</td>\n",
       "      <td>40.0</td>\n",
       "      <td>0</td>\n",
       "      <td>0</td>\n",
       "      <td>0.00</td>\n",
       "    </tr>\n",
       "    <tr>\n",
       "      <th>314</th>\n",
       "      <td>0</td>\n",
       "      <td>0</td>\n",
       "      <td>1</td>\n",
       "      <td>0</td>\n",
       "      <td>1</td>\n",
       "      <td>2.0</td>\n",
       "      <td>43.0</td>\n",
       "      <td>1</td>\n",
       "      <td>1</td>\n",
       "      <td>26.25</td>\n",
       "    </tr>\n",
       "    <tr>\n",
       "      <th>874</th>\n",
       "      <td>1</td>\n",
       "      <td>0</td>\n",
       "      <td>0</td>\n",
       "      <td>1</td>\n",
       "      <td>0</td>\n",
       "      <td>2.0</td>\n",
       "      <td>28.0</td>\n",
       "      <td>1</td>\n",
       "      <td>0</td>\n",
       "      <td>24.00</td>\n",
       "    </tr>\n",
       "  </tbody>\n",
       "</table>\n",
       "</div>"
      ],
      "text/plain": [
       "     Embarked_C  Embarked_Q  Embarked_S  female  male  Pclass   Age  SibSp  \\\n",
       "263           0           0           1       0     1     1.0  40.0      0   \n",
       "314           0           0           1       0     1     2.0  43.0      1   \n",
       "874           1           0           0       1     0     2.0  28.0      1   \n",
       "\n",
       "     Parch   Fare  \n",
       "263      0   0.00  \n",
       "314      1  26.25  \n",
       "874      0  24.00  "
      ]
     },
     "execution_count": 661,
     "metadata": {},
     "output_type": "execute_result"
    }
   ],
   "source": [
    "train.sample(3)"
   ]
  },
  {
   "cell_type": "markdown",
   "id": "bdf2e321",
   "metadata": {},
   "source": [
    "# Part 3"
   ]
  },
  {
   "cell_type": "markdown",
   "id": "7e23ce50",
   "metadata": {},
   "source": [
    "## Logistic Regression"
   ]
  },
  {
   "cell_type": "code",
   "execution_count": 662,
   "id": "2023e803",
   "metadata": {},
   "outputs": [],
   "source": [
    "logistic = LogisticRegression(max_iter=1000)\n",
    "logistic.fit(train, survived)\n",
    "log_prob = logistic.predict_proba(train)\n",
    "log_prob = log_prob[:,1]\n",
    "#log_auc = roc_auc_score(train, log_prob)\n",
    "log_fp, log_tp, log_thresh = roc_curve(survived, log_prob)\n",
    "survived_hatlog = logistic.predict(train)"
   ]
  },
  {
   "cell_type": "code",
   "execution_count": 663,
   "id": "352eec9f",
   "metadata": {},
   "outputs": [
    {
     "name": "stdout",
     "output_type": "stream",
     "text": [
      "              precision    recall  f1-score   support\n",
      "\n",
      "           0       0.83      0.87      0.85       549\n",
      "           1       0.77      0.71      0.74       340\n",
      "\n",
      "    accuracy                           0.81       889\n",
      "   macro avg       0.80      0.79      0.79       889\n",
      "weighted avg       0.80      0.81      0.80       889\n",
      "\n"
     ]
    }
   ],
   "source": [
    "print(classification_report(survived , survived_hatlog))"
   ]
  },
  {
   "cell_type": "code",
   "execution_count": 664,
   "id": "878ecdb8",
   "metadata": {},
   "outputs": [
    {
     "name": "stdout",
     "output_type": "stream",
     "text": [
      "[[476  73]\n",
      " [100 240]]\n"
     ]
    }
   ],
   "source": [
    "print(confusion_matrix(survived , survived_hatlog))"
   ]
  },
  {
   "cell_type": "markdown",
   "id": "f5ddb4ab",
   "metadata": {},
   "source": [
    "#### Precision Vs Recall"
   ]
  },
  {
   "cell_type": "code",
   "execution_count": 665,
   "id": "2d28f170",
   "metadata": {},
   "outputs": [],
   "source": [
    "log_prec, log_recall, log_thres = precision_recall_curve(survived, log_prob)"
   ]
  },
  {
   "cell_type": "code",
   "execution_count": 666,
   "id": "e41a8222",
   "metadata": {},
   "outputs": [
    {
     "data": {
      "image/png": "[encoded data removed]",
      "text/plain": [
       "<Figure size 432x288 with 1 Axes>"
      ]
     },
     "metadata": {
      "needs_background": "light"
     },
     "output_type": "display_data"
    }
   ],
   "source": [
    "plt.plot(log_prec, log_recall)\n",
    "plt.title('Precision vs Recall')\n",
    "plt.xlabel('Recall')\n",
    "plt.ylabel('Precision')\n",
    "plt.grid()\n",
    "plt.show()"
   ]
  },
  {
   "cell_type": "code",
   "execution_count": 667,
   "id": "5ae7b40b",
   "metadata": {},
   "outputs": [],
   "source": [
    "# plt.plot(log_thres, log_prec[:-1], \"b--\", label='Precision')\n",
    "# plt.plot(log_thres, log_recall[:-1], \"g-\", label=\"Recall\")\n",
    "# plt.xlabel('Probability')\n",
    "# plt.legend()\n",
    "# plt.show()"
   ]
  },
  {
   "cell_type": "markdown",
   "id": "75520a84",
   "metadata": {},
   "source": [
    "#### ROC Curve"
   ]
  },
  {
   "cell_type": "code",
   "execution_count": 668,
   "id": "15ffd6ca",
   "metadata": {},
   "outputs": [
    {
     "data": {
      "image/png": "[encoded data removed]",
      "text/plain": [
       "<Figure size 432x288 with 1 Axes>"
      ]
     },
     "metadata": {
      "needs_background": "light"
     },
     "output_type": "display_data"
    }
   ],
   "source": [
    "plt.plot(log_fp, log_tp)\n",
    "plt.plot([0,1], [0,1], 'k--')\n",
    "plt.title('ROC Curve')\n",
    "plt.xlabel('False Positive Rate')\n",
    "plt.ylabel('True Positive Rate')\n",
    "plt.grid()\n",
    "plt.show()"
   ]
  },
  {
   "cell_type": "markdown",
   "id": "c8682afa",
   "metadata": {},
   "source": [
    "## Support Vector Classifier"
   ]
  },
  {
   "cell_type": "code",
   "execution_count": 669,
   "id": "8f769fa3",
   "metadata": {},
   "outputs": [],
   "source": [
    "svc = LinearSVC(random_state=1, max_iter=1000000000)\n",
    "svc.fit(train, survived)\n",
    "survived_hatsvc = svc.predict(train)"
   ]
  },
  {
   "cell_type": "code",
   "execution_count": 670,
   "id": "5476f111",
   "metadata": {},
   "outputs": [
    {
     "name": "stdout",
     "output_type": "stream",
     "text": [
      "              precision    recall  f1-score   support\n",
      "\n",
      "           0       0.82      0.87      0.85       549\n",
      "           1       0.77      0.70      0.73       340\n",
      "\n",
      "    accuracy                           0.81       889\n",
      "   macro avg       0.80      0.79      0.79       889\n",
      "weighted avg       0.80      0.81      0.80       889\n",
      "\n"
     ]
    }
   ],
   "source": [
    "print(classification_report(survived , survived_hatsvc))"
   ]
  },
  {
   "cell_type": "code",
   "execution_count": 671,
   "id": "b4e0daa7",
   "metadata": {},
   "outputs": [
    {
     "name": "stdout",
     "output_type": "stream",
     "text": [
      "[[478  71]\n",
      " [102 238]]\n"
     ]
    }
   ],
   "source": [
    "print(confusion_matrix(survived , survived_hatsvc))"
   ]
  },
  {
   "cell_type": "markdown",
   "id": "4fc8cc7a",
   "metadata": {},
   "source": [
    "#### Precision Vs Recall"
   ]
  },
  {
   "cell_type": "code",
   "execution_count": 672,
   "id": "7ecdd4f1",
   "metadata": {},
   "outputs": [],
   "source": [
    "svc_yscores = svc.decision_function(train)"
   ]
  },
  {
   "cell_type": "code",
   "execution_count": 673,
   "id": "a1730d64",
   "metadata": {},
   "outputs": [],
   "source": [
    "svc_prec, svc_recall, svc_thres = precision_recall_curve(survived, svc_yscores)"
   ]
  },
  {
   "cell_type": "code",
   "execution_count": 674,
   "id": "f8dcdc21",
   "metadata": {},
   "outputs": [
    {
     "data": {
      "image/png": "[encoded data removed]",
      "text/plain": [
       "<Figure size 432x288 with 1 Axes>"
      ]
     },
     "metadata": {
      "needs_background": "light"
     },
     "output_type": "display_data"
    }
   ],
   "source": [
    "plt.plot(svc_prec, svc_recall)\n",
    "plt.title('Precision vs Recall')\n",
    "plt.xlabel('Recall')\n",
    "plt.ylabel('Precision')\n",
    "plt.grid()\n",
    "plt.show()"
   ]
  },
  {
   "cell_type": "code",
   "execution_count": 675,
   "id": "e4d06edc",
   "metadata": {},
   "outputs": [],
   "source": [
    "# plt.plot(svc_thres, svc_prec[:-1], \"b--\", label='Precision')\n",
    "# plt.plot(svc_thres, svc_recall[:-1], \"g-\", label=\"Recall\")\n",
    "# plt.xlabel('Threshold')\n",
    "# plt.legend()\n",
    "# plt.show()"
   ]
  },
  {
   "cell_type": "markdown",
   "id": "b0bfeddb",
   "metadata": {},
   "source": [
    "#### ROC"
   ]
  },
  {
   "cell_type": "code",
   "execution_count": 676,
   "id": "072625f6",
   "metadata": {},
   "outputs": [],
   "source": [
    "svc_fp, svc_tp, svc_thres = roc_curve(survived, svc_yscores)"
   ]
  },
  {
   "cell_type": "code",
   "execution_count": 677,
   "id": "bb4c5e0d",
   "metadata": {},
   "outputs": [
    {
     "data": {
      "image/png": "[encoded data removed]",
      "text/plain": [
       "<Figure size 432x288 with 1 Axes>"
      ]
     },
     "metadata": {
      "needs_background": "light"
     },
     "output_type": "display_data"
    }
   ],
   "source": [
    "plt.plot(svc_fp, svc_tp)\n",
    "plt.plot([0,1], [0,1], 'k--')\n",
    "plt.title('ROC Curve')\n",
    "plt.xlabel('False Positive Rate')\n",
    "plt.ylabel('True Positive Rate')\n",
    "plt.grid()\n",
    "plt.show()"
   ]
  },
  {
   "cell_type": "markdown",
   "id": "807c0ebd",
   "metadata": {},
   "source": [
    "## SGD Classifier"
   ]
  },
  {
   "cell_type": "code",
   "execution_count": 678,
   "id": "94314088",
   "metadata": {},
   "outputs": [],
   "source": [
    "sgd = SGDClassifier(random_state=1)\n",
    "sgd.fit(train, survived);\n",
    "survived_hatsgd = sgd.predict(train)"
   ]
  },
  {
   "cell_type": "code",
   "execution_count": 679,
   "id": "a43cd978",
   "metadata": {},
   "outputs": [
    {
     "name": "stdout",
     "output_type": "stream",
     "text": [
      "              precision    recall  f1-score   support\n",
      "\n",
      "           0       0.74      0.94      0.83       549\n",
      "           1       0.82      0.46      0.59       340\n",
      "\n",
      "    accuracy                           0.76       889\n",
      "   macro avg       0.78      0.70      0.71       889\n",
      "weighted avg       0.77      0.76      0.74       889\n",
      "\n"
     ]
    }
   ],
   "source": [
    "print(classification_report(survived , survived_hatsgd))"
   ]
  },
  {
   "cell_type": "code",
   "execution_count": 680,
   "id": "b0ed7664",
   "metadata": {},
   "outputs": [
    {
     "name": "stdout",
     "output_type": "stream",
     "text": [
      "[[515  34]\n",
      " [182 158]]\n"
     ]
    }
   ],
   "source": [
    "print(confusion_matrix(survived , survived_hatsgd))"
   ]
  },
  {
   "cell_type": "markdown",
   "id": "3e679040",
   "metadata": {},
   "source": [
    "#### Precision Vs Recall"
   ]
  },
  {
   "cell_type": "code",
   "execution_count": 681,
   "id": "9b10d5ec",
   "metadata": {},
   "outputs": [],
   "source": [
    "sgd_yscores = sgd.decision_function(train)"
   ]
  },
  {
   "cell_type": "code",
   "execution_count": 682,
   "id": "dfaca16c",
   "metadata": {},
   "outputs": [],
   "source": [
    "sgd_prec, sgd_recall, sgd_thres = precision_recall_curve(survived, sgd_yscores)"
   ]
  },
  {
   "cell_type": "code",
   "execution_count": 683,
   "id": "829c2fb4",
   "metadata": {},
   "outputs": [
    {
     "data": {
      "image/png": "[encoded data removed]",
      "text/plain": [
       "<Figure size 432x288 with 1 Axes>"
      ]
     },
     "metadata": {
      "needs_background": "light"
     },
     "output_type": "display_data"
    }
   ],
   "source": [
    "plt.plot(sgd_prec, sgd_recall)\n",
    "plt.title('Precision vs Recall')\n",
    "plt.xlabel('Recall')\n",
    "plt.ylabel('Precision')\n",
    "plt.grid()\n",
    "plt.show()"
   ]
  },
  {
   "cell_type": "code",
   "execution_count": 684,
   "id": "5c5a25e8",
   "metadata": {},
   "outputs": [
    {
     "data": {
      "image/png": "[encoded data removed]",
      "text/plain": [
       "<Figure size 432x288 with 1 Axes>"
      ]
     },
     "metadata": {
      "needs_background": "light"
     },
     "output_type": "display_data"
    }
   ],
   "source": [
    "plt.plot(sgd_thres, sgd_prec[:-1], \"b--\", label='Precision')\n",
    "plt.plot(sgd_thres,sgd_recall[:-1], \"g-\", label=\"Recall\")\n",
    "plt.xlabel('Threshold')\n",
    "plt.grid()\n",
    "plt.legend()\n",
    "plt.show()"
   ]
  },
  {
   "cell_type": "markdown",
   "id": "f6569d56",
   "metadata": {},
   "source": [
    "#### ROC"
   ]
  },
  {
   "cell_type": "code",
   "execution_count": 685,
   "id": "d3b4cc2d",
   "metadata": {},
   "outputs": [],
   "source": [
    "sgd_fp, sgd_tp, sgd_thres = roc_curve(survived, sgd_yscores)"
   ]
  },
  {
   "cell_type": "code",
   "execution_count": 686,
   "id": "1099ae3a",
   "metadata": {},
   "outputs": [
    {
     "data": {
      "image/png": "[encoded data removed]",
      "text/plain": [
       "<Figure size 432x288 with 1 Axes>"
      ]
     },
     "metadata": {
      "needs_background": "light"
     },
     "output_type": "display_data"
    }
   ],
   "source": [
    "plt.plot(sgd_fp, sgd_tp)\n",
    "plt.plot([0,1], [0,1], 'k--')\n",
    "plt.grid()\n",
    "plt.title('ROC Curve')\n",
    "plt.xlabel('False Positive Rate')\n",
    "plt.ylabel('True Positive Rate')\n",
    "plt.show()"
   ]
  },
  {
   "cell_type": "markdown",
   "id": "f33c929c",
   "metadata": {},
   "source": [
    "# Part 4"
   ]
  },
  {
   "cell_type": "markdown",
   "id": "e919fcd4",
   "metadata": {},
   "source": [
    "In class it was mentioned to use a linear SVC, so I used the pre-defined sklearn implementation above.  But to do the desired grid search, we have to use SVC and define the kernel. Just wanted to note why there is a difference."
   ]
  },
  {
   "cell_type": "code",
   "execution_count": 687,
   "id": "c523ce35",
   "metadata": {},
   "outputs": [],
   "source": [
    "svc_opt = Pipeline([\n",
    "    ('scaler', StandardScaler()),\n",
    "    ('svc2', SVC(random_state=1, max_iter=1000000000))\n",
    "])\n",
    "\n",
    "svc_opt.fit(train,survived);"
   ]
  },
  {
   "cell_type": "code",
   "execution_count": 688,
   "id": "c57537a9",
   "metadata": {},
   "outputs": [
    {
     "data": {
      "text/plain": [
       "GridSearchCV(estimator=Pipeline(steps=[('scaler', StandardScaler()),\n",
       "                                       ('svc2',\n",
       "                                        SVC(max_iter=1000000000,\n",
       "                                            random_state=1))]),\n",
       "             param_grid={'svc2__C': [1, 10, 50, 100, 200, 300],\n",
       "                         'svc2__gamma': [0.0001, 0.001, 0.01, 0.1, 1],\n",
       "                         'svc2__kernel': ['rbf']})"
      ]
     },
     "execution_count": 688,
     "metadata": {},
     "output_type": "execute_result"
    }
   ],
   "source": [
    "grid = {'svc2__kernel': ['rbf'], 'svc2__gamma': [0.0001, 0.001, 0.01, 0.1, 1], 'svc2__C': [1,10,50,100,200,300]}\n",
    "\n",
    "grid_search = GridSearchCV(svc_opt, grid)\n",
    "grid_search.fit(train, survived)"
   ]
  },
  {
   "cell_type": "code",
   "execution_count": 689,
   "id": "015fe16b",
   "metadata": {},
   "outputs": [],
   "source": [
    "#svc_opt.get_params().keys()"
   ]
  },
  {
   "cell_type": "markdown",
   "id": "d91ff08c",
   "metadata": {},
   "source": [
    "### Best Estimator"
   ]
  },
  {
   "cell_type": "code",
   "execution_count": 690,
   "id": "0bd156b0",
   "metadata": {},
   "outputs": [
    {
     "data": {
      "text/plain": [
       "Pipeline(steps=[('scaler', StandardScaler()),\n",
       "                ('svc2',\n",
       "                 SVC(C=50, gamma=0.01, max_iter=1000000000, random_state=1))])"
      ]
     },
     "execution_count": 690,
     "metadata": {},
     "output_type": "execute_result"
    }
   ],
   "source": [
    "grid_search.best_estimator_"
   ]
  },
  {
   "cell_type": "markdown",
   "id": "7f3fe7a0",
   "metadata": {},
   "source": [
    "### Best Parameters"
   ]
  },
  {
   "cell_type": "code",
   "execution_count": 691,
   "id": "8ef45d85",
   "metadata": {},
   "outputs": [
    {
     "data": {
      "text/plain": [
       "{'svc2__C': 50, 'svc2__gamma': 0.01, 'svc2__kernel': 'rbf'}"
      ]
     },
     "execution_count": 691,
     "metadata": {},
     "output_type": "execute_result"
    }
   ],
   "source": [
    "grid_search.best_params_"
   ]
  },
  {
   "cell_type": "code",
   "execution_count": 692,
   "id": "c01ee0ad",
   "metadata": {},
   "outputs": [
    {
     "name": "stdout",
     "output_type": "stream",
     "text": [
      "              precision    recall  f1-score   support\n",
      "\n",
      "           0       0.82      0.95      0.88       549\n",
      "           1       0.89      0.67      0.77       340\n",
      "\n",
      "    accuracy                           0.84       889\n",
      "   macro avg       0.86      0.81      0.82       889\n",
      "weighted avg       0.85      0.84      0.84       889\n",
      "\n"
     ]
    }
   ],
   "source": [
    "svc2y_hat = grid_search.best_estimator_.predict(train)\n",
    "print(classification_report(survived , svc2y_hat))"
   ]
  },
  {
   "cell_type": "code",
   "execution_count": 693,
   "id": "e586f362",
   "metadata": {},
   "outputs": [
    {
     "name": "stdout",
     "output_type": "stream",
     "text": [
      "[[520  29]\n",
      " [111 229]]\n"
     ]
    }
   ],
   "source": [
    "print(confusion_matrix(survived , svc2y_hat))"
   ]
  },
  {
   "cell_type": "code",
   "execution_count": 694,
   "id": "4d0ba3f4",
   "metadata": {},
   "outputs": [],
   "source": [
    "svc2_yscores = grid_search.best_estimator_.decision_function(train)\n",
    "svc2_prec, svc2_recall, svc2_thres = precision_recall_curve(survived, svc2_yscores)"
   ]
  },
  {
   "cell_type": "code",
   "execution_count": 695,
   "id": "266bb60c",
   "metadata": {},
   "outputs": [
    {
     "data": {
      "image/png": "[encoded data removed]",
      "text/plain": [
       "<Figure size 432x288 with 1 Axes>"
      ]
     },
     "metadata": {
      "needs_background": "light"
     },
     "output_type": "display_data"
    }
   ],
   "source": [
    "plt.plot(svc2_prec, svc2_recall)\n",
    "plt.title('Precision vs Recall')\n",
    "plt.grid()\n",
    "plt.xlabel('Recall')\n",
    "plt.ylabel('Precision')\n",
    "plt.show()"
   ]
  },
  {
   "cell_type": "code",
   "execution_count": 696,
   "id": "f37dd2e2",
   "metadata": {},
   "outputs": [],
   "source": [
    "svc2_fp, svc2_tp, svc2_thres = roc_curve(survived, svc2_yscores)"
   ]
  },
  {
   "cell_type": "code",
   "execution_count": 697,
   "id": "f1d86688",
   "metadata": {},
   "outputs": [
    {
     "data": {
      "image/png": "[encoded data removed]",
      "text/plain": [
       "<Figure size 432x288 with 1 Axes>"
      ]
     },
     "metadata": {
      "needs_background": "light"
     },
     "output_type": "display_data"
    }
   ],
   "source": [
    "plt.plot(svc2_fp, svc2_tp)\n",
    "plt.plot([0,1], [0,1], 'k--')\n",
    "plt.grid()\n",
    "plt.title('ROC Curve')\n",
    "plt.xlabel('False Positive Rate')\n",
    "plt.ylabel('True Positive Rate')\n",
    "plt.show()"
   ]
  },
  {
   "cell_type": "markdown",
   "id": "e4b3bf85",
   "metadata": {},
   "source": [
    "### Learning Curve"
   ]
  },
  {
   "cell_type": "code",
   "execution_count": 698,
   "id": "ce664b69",
   "metadata": {},
   "outputs": [
    {
     "data": {
      "image/png": "[encoded data removed]",
      "text/plain": [
       "<Figure size 1440x360 with 1 Axes>"
      ]
     },
     "metadata": {
      "needs_background": "light"
     },
     "output_type": "display_data"
    }
   ],
   "source": [
    "_, axes = plt.subplots(1, 1, figsize=(20, 5))\n",
    "axes.set_title('learning curve')\n",
    "axes.set_xlabel(\"Training examples\")\n",
    "axes.set_ylabel(\"Score\")\n",
    "axes.grid()\n",
    "train_sizes, train_scores, test_scores, fit_times, _ = \\\n",
    "        learning_curve(grid_search.best_estimator_, train, survived,  \n",
    "                       train_sizes=np.linspace(.1, 1.0, 7),\n",
    "                       return_times=True)\n",
    "train_scores_mean = np.mean(train_scores, axis=1)\n",
    "train_scores_std = np.std(train_scores, axis=1)\n",
    "test_scores_mean = np.mean(test_scores, axis=1)\n",
    "test_scores_std = np.std(test_scores, axis=1)\n",
    "fit_times_mean = np.mean(fit_times, axis=1)\n",
    "fit_times_std = np.std(fit_times, axis=1)\n",
    "\n",
    "axes.fill_between(train_sizes, train_scores_mean - train_scores_std,\n",
    "                         train_scores_mean + train_scores_std, alpha=0.1,\n",
    "                         color=\"r\")\n",
    "axes.fill_between(train_sizes, test_scores_mean - test_scores_std,\n",
    "                     test_scores_mean + test_scores_std, alpha=0.1,\n",
    "                     color=\"g\")\n",
    "axes.plot(train_sizes, train_scores_mean, 'o-', color=\"r\",\n",
    "             label=\"Training score\")\n",
    "axes.plot(train_sizes, test_scores_mean, 'o-', color=\"g\",\n",
    "             label=\"Cross-validation score\")\n",
    "axes.legend(loc=\"best\")\n",
    "plt.show();\n"
   ]
  },
  {
   "cell_type": "markdown",
   "id": "dac03150",
   "metadata": {},
   "source": [
    "The learning curve shows us that it may be costly to improve the estimator.  There does appear to be a trend improving scores as example increase, but the training score and cv score do not appear to be converging.  In the context of Titanic data, we may have the universe of examples and will likely need to look at other options to improve the model.  \n",
    "\n",
    "As far as improved performance with scaling goes, the difference is negligible.  If we look at the classification report and confusion matrix, there isn't much of an improvement.  Depending on our tollerances, both models may need work.  "
   ]
  },
  {
   "cell_type": "code",
   "execution_count": null,
   "id": "f6da1d73",
   "metadata": {},
   "outputs": [],
   "source": []
  }
 ],
 "metadata": {
  "kernelspec": {
   "display_name": "Python 3 (ipykernel)",
   "language": "python",
   "name": "python3"
  },
  "language_info": {
   "codemirror_mode": {
    "name": "ipython",
    "version": 3
   },
   "file_extension": ".py",
   "mimetype": "text/x-python",
   "name": "python",
   "nbconvert_exporter": "python",
   "pygments_lexer": "ipython3",
   "version": "3.8.12"
  }
 },
 "nbformat": 4,
 "nbformat_minor": 5
}
